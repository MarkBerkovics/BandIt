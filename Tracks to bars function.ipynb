{
 "cells": [
  {
   "cell_type": "code",
   "execution_count": 37,
   "id": "663ebfa1-e1a1-46ac-ac3a-891e7f5fa1b2",
   "metadata": {},
   "outputs": [],
   "source": [
    "import pretty_midi\n",
    "import pandas as pd\n",
    "import json\n",
    "import glob\n",
    "import os"
   ]
  },
  {
   "cell_type": "code",
   "execution_count": 27,
   "id": "01c72f61-00e8-4171-8e10-8e1596c66cd7",
   "metadata": {},
   "outputs": [],
   "source": [
    "master_dict = []"
   ]
  },
  {
   "cell_type": "code",
   "execution_count": 22,
   "id": "c7fe8d8b-d930-4e6d-a192-a915924e689e",
   "metadata": {},
   "outputs": [
    {
     "data": {
      "text/plain": [
       "[]"
      ]
     },
     "execution_count": 22,
     "metadata": {},
     "output_type": "execute_result"
    }
   ],
   "source": [
    "master_dict"
   ]
  },
  {
   "cell_type": "code",
   "execution_count": 4,
   "id": "ee568c68-4673-465c-ae6f-992cf2080c26",
   "metadata": {},
   "outputs": [],
   "source": [
    "def extract_guitar_and_drums(midi_file):\n",
    "    \"\"\"This function extracts the guitar and drum tracks from a midi file.\n",
    "       The input is a path to a midi file (for example: 'raw_data/song_name.mid') in string format\n",
    "       The output is a dictionary with the song name, guitar track and drum track\"\"\"    \n",
    "    \n",
    "    mid = pretty_midi.PrettyMIDI(midi_file)\n",
    "    \n",
    "    guitars = []\n",
    "    lengths_guitar = []\n",
    "    drums = []\n",
    "    lengths_drums = []\n",
    "    \n",
    "    for instrument in mid.instruments:\n",
    "        if instrument.is_drum:\n",
    "            drums.append(instrument)\n",
    "            lengths_drums.append(len(instrument.notes))\n",
    "        if (instrument.program >= 25) and (instrument.program <= 31):\n",
    "            guitars.append(instrument)\n",
    "            lengths_guitar.append(len(instrument.notes))\n",
    "    drum_track = drums[lengths_drums.index(max(lengths_drums))]\n",
    "    guitar_track = guitars[lengths_guitar.index(max(lengths_guitar))]\n",
    "    song_title = os.path.splitext(os.path.basename(midi_file))[0]\n",
    "    \n",
    "    song_dict = {'title': song_title,\n",
    "                 'down_beats': mid.get_downbeats(),\n",
    "                 'guitar': guitar_track,\n",
    "                 'drums': drum_track\n",
    "                }\n",
    "    \n",
    "    return song_dict"
   ]
  },
  {
   "cell_type": "code",
   "execution_count": 28,
   "id": "43ba3481-f613-4612-a503-bc131235ea55",
   "metadata": {},
   "outputs": [],
   "source": [
    "def tracks_to_bars(song_dict: dict) -> dict:\n",
    "    \"\"\"\n",
    "    This function accepts a dictionary as an input with 4 keys: 'title', 'down_beats', 'guitar', 'drums'.\n",
    "    The function takes the guitar and drums, both pretty_midi instrument objects, and cuts them up into a sequence of individual bars.\n",
    "    The output is a dictionary that contains the following keys/values: song_title, a list of guitar bars, a list of drum bars, and a list of the song's downbeats\n",
    "    \"\"\"\n",
    "    \n",
    "    new_dict={}\n",
    "    new_dict['song_title']=song_dict['title']\n",
    "    guitar = song_dict['guitar']\n",
    "    drums = song_dict['drums']\n",
    "    down_beats_array = song_dict['down_beats']\n",
    "\n",
    "\n",
    "    guitar_bars_list = []\n",
    "    drums_bars_list = []\n",
    "\n",
    "    for index, start_time in enumerate(down_beats_array):\n",
    "        if index < len(down_beats_array) - 1:\n",
    "            end_time = down_beats_array[index+1] \n",
    "        else:\n",
    "            end_time = down_beats_array[index] + 2\n",
    "            \n",
    "        guitar_bar = []\n",
    "        drums_bar = []\n",
    "        for guitar_note in guitar.notes:\n",
    "            if (guitar_note.start >= start_time) and (guitar_note.end < end_time):\n",
    "                guitar_bar.append(guitar_note)    \n",
    "\n",
    "        for drum_note in drums.notes:\n",
    "            if (drum_note.start >= start_time) and (drum_note.end < end_time):\n",
    "                drums_bar.append(drum_note)\n",
    "                  \n",
    "        drums_bars_list.append(drums_bar)\n",
    "        guitar_bars_list.append(guitar_bar)\n",
    "\n",
    "    new_dict['guitar_bars'] = guitar_bars_list\n",
    "    new_dict['drum_bars'] = drums_bars_list\n",
    "    new_dict['down_beats'] = down_beats_array.tolist()\n",
    "    return new_dict\n",
    "    "
   ]
  },
  {
   "cell_type": "code",
   "execution_count": null,
   "id": "5340a6fc-4597-4487-abb9-93d959e92145",
   "metadata": {},
   "outputs": [],
   "source": []
  }
 ],
 "metadata": {
  "kernelspec": {
   "display_name": "Python 3 (ipykernel)",
   "language": "python",
   "name": "python3"
  },
  "language_info": {
   "codemirror_mode": {
    "name": "ipython",
    "version": 3
   },
   "file_extension": ".py",
   "mimetype": "text/x-python",
   "name": "python",
   "nbconvert_exporter": "python",
   "pygments_lexer": "ipython3",
   "version": "3.10.6"
  }
 },
 "nbformat": 4,
 "nbformat_minor": 5
}
