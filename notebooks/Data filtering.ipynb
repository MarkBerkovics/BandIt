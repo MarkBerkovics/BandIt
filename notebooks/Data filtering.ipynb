{
 "cells": [
  {
   "cell_type": "code",
   "execution_count": null,
   "metadata": {},
   "outputs": [],
   "source": [
    "import pandas\n",
    "import mido\n",
    "import re\n",
    "import shutil\n",
    "from multiprocessing import Pool\n",
    "import ntpath\n",
    "import os\n",
    "import glob\n",
    "import pretty_midi"
   ]
  },
  {
   "cell_type": "code",
   "execution_count": null,
   "metadata": {},
   "outputs": [],
   "source": [
    "os.getcwd()"
   ]
  },
  {
   "cell_type": "markdown",
   "metadata": {},
   "source": [
    "## Testing"
   ]
  },
  {
   "cell_type": "markdown",
   "metadata": {},
   "source": [
    "## Class/methods"
   ]
  },
  {
   "cell_type": "code",
   "execution_count": null,
   "metadata": {},
   "outputs": [],
   "source": [
    "class FileProcessor:\n",
    "    def __init__(self, output_folder):\n",
    "        self.saved_songs = []\n",
    "        self.errors = 0\n",
    "        self.num_processed = 0\n",
    "        self.output_folder = output_folder\n",
    "        self.guitar_codes = list(range(24, 32))\n",
    "\n",
    "    def parse_file(self, midi_path: str) -> None:\n",
    "        '''\n",
    "        Given the path of a .mid file, checks if the MIDI object has guitar and\n",
    "        drum, and a time signature of 4/4. If these conditions are fulfilled,\n",
    "        copies the .mid file to a given output folder.\n",
    "        '''\n",
    "        try:\n",
    "            midi_file = pretty_midi.PrettyMIDI(midi_path)\n",
    "\n",
    "            if self.has_drum_and_guitar(midi_file.instruments) and self.is_four_by_four(\n",
    "                midi_file.time_signature_changes\n",
    "            ):\n",
    "                filename = ntpath.split(midi_path)[1]\n",
    "                shutil.copyfile(midi_path, f'{self.output_folder}/{filename}')\n",
    "\n",
    "                # If you wanT to write a new file instead:\n",
    "                # midi_file.write(f\"{self.output_folder}/{filename}\")\n",
    "\n",
    "        except KeyError as ke:\n",
    "            print(f\"Error for {midi_path}: {ke}\")\n",
    "            self.errors += 1\n",
    "        except AttributeError as ae:\n",
    "            print(f\"Error for {midi_path}: {ae}\")\n",
    "            self.errors += 1\n",
    "        except Exception as ee:\n",
    "            print(f\"Error for {midi_path}: {ee}\")\n",
    "            self.errors += 1\n",
    "\n",
    "    def has_drum_and_guitar(self, instruments: list) -> bool:\n",
    "        '''\n",
    "        Given a list of PrettyMIDI instruments, returns True if at least one\n",
    "        of the instruments is a drum and at least one is a guitar.\n",
    "        '''\n",
    "        programs = set(i.program for i in instruments)\n",
    "        is_drum = [i.is_drum for i in instruments]\n",
    "        return programs.intersection(self.guitar_codes) and any(is_drum)\n",
    "\n",
    "    def is_four_by_four(self, time_signatures: list) -> bool:\n",
    "        '''\n",
    "        Given a list of PrettyMIDI time signature changes, returns True if there\n",
    "        is only one time signature and it is 4/4.\n",
    "        '''\n",
    "        return len(time_signatures) == 1 and (\n",
    "            (time_signatures[0].numerator == 4)\n",
    "            and (time_signatures[0].denominator == 4)\n",
    "        )\n",
    "\n",
    "    def remove_duplicates(self) -> None:\n",
    "        '''\n",
    "        Loops through output folder, normalizes filenamds to alphabetic only,\n",
    "        and removes subseqent files with the same normalized filename as a\n",
    "        previously seen one.\n",
    "        '''\n",
    "        title_pattern = \"[^a-zA-Z]+\"\n",
    "        already_seen = []\n",
    "        saved_files = glob.glob(f\"{self.output_folder}/*.mid\")\n",
    "        for midi_file in saved_files:\n",
    "            title = re.sub(title_pattern, \"\", midi_file).lower()\n",
    "            if title in already_seen:\n",
    "                os.remove(midi_file)\n",
    "            else:\n",
    "                already_seen.append(title)\n",
    "        print(\"Total number of non-duplicate songs with drums and guitar saved:\", len(already_seen))\n"
   ]
  },
  {
   "cell_type": "markdown",
   "metadata": {},
   "source": [
    "## Running"
   ]
  },
  {
   "cell_type": "code",
   "execution_count": null,
   "metadata": {},
   "outputs": [],
   "source": [
    "# Get raw midi files from..\n",
    "raw_data_folder = os.path.join(os.pardir, \"raw_data\", \"Unzipped\")\n",
    "# raw_data_folder = os.path.join(os.pardir, \"test_data\")\n",
    "midi_file_paths = glob.glob(f\"{raw_data_folder}/*.mid\") + glob.glob(\n",
    "    f\"{raw_data_folder}/*/*.mid\"\n",
    ")\n",
    "\n",
    "# Save all midi guitar and drum files to...\n",
    "output_folder = os.path.join(os.pardir, \"data\")\n",
    "print(output_folder)"
   ]
  },
  {
   "cell_type": "code",
   "execution_count": 123,
   "metadata": {},
   "outputs": [
    {
     "name": "stdout",
     "output_type": "stream",
     "text": [
      "Error for ../raw_data/Unzipped/Rage_Against_the_Machine_-_Bullet_in_the_Head.mid: [Errno 2] No such file or directory: '../data/Rage_Against_the_Machine_-_Bullet_in_the_Head.mid'\n",
      "Error for ../raw_data/Unzipped/Arlo_Guthrie_-_Alices_Restaurant.mid: [Errno 2] No such file or directory: '../data/Arlo_Guthrie_-_Alices_Restaurant.mid'\n",
      "Error for ../raw_data/Unzipped/Eric_Clapton_-_Wonderful_Tonight.mid: [Errno 2] No such file or directory: '../data/Eric_Clapton_-_Wonderful_Tonight.mid'\n",
      "Error for ../raw_data/Unzipped/Nine_Inch_Nails_-_Sin.mid: [Errno 2] No such file or directory: '../data/Nine_Inch_Nails_-_Sin.mid'\n",
      "Error for ../raw_data/Unzipped/julian_casablancas_-_hard_to_explain.mid: [Errno 2] No such file or directory: '../data/julian_casablancas_-_hard_to_explain.mid'\n",
      "Error for ../raw_data/Unzipped/Bryan_Adams_-_This_Time.mid: [Errno 2] No such file or directory: '../data/Bryan_Adams_-_This_Time.mid'\n",
      "Error for ../raw_data/Unzipped/Whitesnake_-_Here_I_Go_Again.mid: [Errno 2] No such file or directory: '../data/Whitesnake_-_Here_I_Go_Again.mid'\n",
      "Error for ../raw_data/Unzipped/AC-DC_-_Dirty_Deeds_Done_Dirt_Cheap.mid: [Errno 2] No such file or directory: '../data/AC-DC_-_Dirty_Deeds_Done_Dirt_Cheap.mid'\n",
      "Error for ../raw_data/Unzipped/Ambrosia_-_Holding_On_To_Yesterday.mid: [Errno 2] No such file or directory: '../data/Ambrosia_-_Holding_On_To_Yesterday.mid'\n",
      "Error for ../raw_data/Unzipped/Smashing_Pumpkins_-_Perfect.mid: [Errno 2] No such file or directory: '../data/Smashing_Pumpkins_-_Perfect.mid'\n",
      "Error for ../raw_data/Unzipped/Raydio_-_You_Cant_Change_That.mid: [Errno 2] No such file or directory: '../data/Raydio_-_You_Cant_Change_That.mid'\n",
      "Error for ../raw_data/Unzipped/Aerosmith_-_Blind_Man.mid: [Errno 2] No such file or directory: '../data/Aerosmith_-_Blind_Man.mid'\n",
      "Error for ../raw_data/Unzipped/Asia_-_The_Smile_Has_Left_Your_Eye.mid: [Errno 2] No such file or directory: '../data/Asia_-_The_Smile_Has_Left_Your_Eye.mid'\n",
      "Error for ../raw_data/Unzipped/Tracy_Chapman_-_Give_Me_One_Reason.mid: [Errno 2] No such file or directory: '../data/Tracy_Chapman_-_Give_Me_One_Reason.mid'\n",
      "Error for ../raw_data/Unzipped/Peter_Paul_and_Mary_-_Leaving_on_a_Jet_Plane.mid: [Errno 2] No such file or directory: '../data/Peter_Paul_and_Mary_-_Leaving_on_a_Jet_Plane.mid'\n",
      "Error for ../raw_data/Unzipped/Queensryche_-_Jet_City_Woman.mid: [Errno 2] No such file or directory: '../data/Queensryche_-_Jet_City_Woman.mid'\n",
      "Error for ../raw_data/Unzipped/John_Fogerty_-_The_Old_Man_Down_the_Road.mid: [Errno 2] No such file or directory: '../data/John_Fogerty_-_The_Old_Man_Down_the_Road.mid'\n",
      "Error for ../raw_data/Unzipped/Doobie_Brothers_-_Take_Me_In_Your_Arms.mid: [Errno 2] No such file or directory: '../data/Doobie_Brothers_-_Take_Me_In_Your_Arms.mid'\n",
      "Error for ../raw_data/Unzipped/Garbage_-_Medication.mid: [Errno 2] No such file or directory: '../data/Garbage_-_Medication.mid'\n",
      "Error for ../raw_data/Unzipped/Neil_Young_-_My_My_Hey_Hey.mid: [Errno 2] No such file or directory: '../data/Neil_Young_-_My_My_Hey_Hey.mid'\n",
      "Error for ../raw_data/Unzipped/Janes_Addiction_-_Jane_Says.mid: [Errno 2] No such file or directory: '../data/Janes_Addiction_-_Jane_Says.mid'\n",
      "Error for ../raw_data/Unzipped/ZZ_Top_-_Just_Got_Paid.mid: [Errno 2] No such file or directory: '../data/ZZ_Top_-_Just_Got_Paid.mid'\n",
      "Error for ../raw_data/Unzipped/The_Dave_Clark_Five_-_Bits_and_Pieces.mid: [Errno 2] No such file or directory: '../data/The_Dave_Clark_Five_-_Bits_and_Pieces.mid'\n",
      "Error for ../raw_data/Unzipped/Neil_Young_-_Cinnamon_Girl.mid: [Errno 2] No such file or directory: '../data/Neil_Young_-_Cinnamon_Girl.mid'\n",
      "Error for ../raw_data/Unzipped/Huey_Lewis_-_Heart_of_Rock_and_Roll.mid: [Errno 2] No such file or directory: '../data/Huey_Lewis_-_Heart_of_Rock_and_Roll.mid'\n",
      "Error for ../raw_data/Unzipped/Guns_n_Roses_-_Welcome_to_the_Jungle.mid: [Errno 2] No such file or directory: '../data/Guns_n_Roses_-_Welcome_to_the_Jungle.mid'\n",
      "Error for ../raw_data/Unzipped/Aha_-_Take_On_Me.mid: [Errno 2] No such file or directory: '../data/Aha_-_Take_On_Me.mid'\n",
      "Error for ../raw_data/Unzipped/The_Beatles_-_Chains.mid: [Errno 2] No such file or directory: '../data/The_Beatles_-_Chains.mid'\n",
      "Error for ../raw_data/Unzipped/Guess_Who_-_Laughing.mid: [Errno 2] No such file or directory: '../data/Guess_Who_-_Laughing.mid'\n",
      "Error for ../raw_data/Unzipped/Eric_Clapton_-_I_Shot_the_Sheriff.mid: [Errno 2] No such file or directory: '../data/Eric_Clapton_-_I_Shot_the_Sheriff.mid'\n",
      "Error for ../raw_data/Unzipped/Paul_Anka_-_Diana.mid: [Errno 2] No such file or directory: '../data/Paul_Anka_-_Diana.mid'\n",
      "Error for ../raw_data/Unzipped/Led_Zeppelin_-_All_My_Love.mid: [Errno 2] No such file or directory: '../data/Led_Zeppelin_-_All_My_Love.mid'\n",
      "Error for ../raw_data/Unzipped/The_Cars_-_Let_s_Go.mid: [Errno 2] No such file or directory: '../data/The_Cars_-_Let_s_Go.mid'\n",
      "Error for ../raw_data/Unzipped/Junior_Walker_-_What_Does_It_Take.mid: [Errno 2] No such file or directory: '../data/Junior_Walker_-_What_Does_It_Take.mid'\n",
      "Error for ../raw_data/Unzipped/Metallica_-_Hero_Of_The_Day.mid: [Errno 2] No such file or directory: '../data/Metallica_-_Hero_Of_The_Day.mid'\n",
      "Error for ../raw_data/Unzipped/Lynyrd_Skynyrd_-_Free_Bird.mid: [Errno 2] No such file or directory: '../data/Lynyrd_Skynyrd_-_Free_Bird.mid'\n",
      "Error for ../raw_data/Unzipped/Bryan_Adams_-_Summer_of_69.mid: [Errno 2] No such file or directory: '../data/Bryan_Adams_-_Summer_of_69.mid'\n",
      "Error for ../raw_data/Unzipped/Marilyn_Manson_-_The_Dope_Show.mid: [Errno 2] No such file or directory: '../data/Marilyn_Manson_-_The_Dope_Show.mid'\n",
      "Error for ../raw_data/Unzipped/Ohio_Players_-_Love_Rollercoaster.mid: [Errno 2] No such file or directory: '../data/Ohio_Players_-_Love_Rollercoaster.mid'\n",
      "Error for ../raw_data/Unzipped/Filter_-_One.mid: [Errno 2] No such file or directory: '../data/Filter_-_One.mid'\n",
      "Error for ../raw_data/Unzipped/Chuck_Berry_-_Maybelline.mid: [Errno 2] No such file or directory: '../data/Chuck_Berry_-_Maybelline.mid'\n",
      "Error for ../raw_data/Unzipped/The_Doors_-_Twentieth_Century_Fox.mid: [Errno 2] No such file or directory: '../data/The_Doors_-_Twentieth_Century_Fox.mid'\n",
      "Error for ../raw_data/Unzipped/Aha_-_The_Sun_Always_Shines_On_TV.mid: [Errno 2] No such file or directory: '../data/Aha_-_The_Sun_Always_Shines_On_TV.mid'\n",
      "Error for ../raw_data/Unzipped/Metallica_-_King_Nothing.mid: [Errno 2] No such file or directory: '../data/Metallica_-_King_Nothing.mid'\n",
      "Error for ../raw_data/Unzipped/Led_Zeppelin_-_Four_Sticks.mid: [Errno 2] No such file or directory: '../data/Led_Zeppelin_-_Four_Sticks.mid'\n",
      "Error for ../raw_data/Unzipped/Joe_Walsh_-_Funk_49.mid: [Errno 2] No such file or directory: '../data/Joe_Walsh_-_Funk_49.mid'\n",
      "Error for ../raw_data/Unzipped/George_Harrison_-_Give_Me_Love.mid: [Errno 2] No such file or directory: '../data/George_Harrison_-_Give_Me_Love.mid'\n",
      "Error for ../raw_data/Unzipped/Reel_Big_Fish_-_Sell_Out.mid: [Errno 2] No such file or directory: '../data/Reel_Big_Fish_-_Sell_Out.mid'\n",
      "Error for ../raw_data/Unzipped/Duran_Duran_-_A_View_to_A_Kill.mid: [Errno 2] No such file or directory: '../data/Duran_Duran_-_A_View_to_A_Kill.mid'\n",
      "Error for ../raw_data/Unzipped/Rolling_Stones_-_Angie.mid: [Errno 2] No such file or directory: '../data/Rolling_Stones_-_Angie.mid'\n",
      "Error for ../raw_data/Unzipped/Chuck_Berry_-_Rock_n_Roll_Music.mid: [Errno 2] No such file or directory: '../data/Chuck_Berry_-_Rock_n_Roll_Music.mid'\n",
      "Error for ../raw_data/Unzipped/Nirvana_-_Frances_Farmer_Will_Have_Her_Revenge_On_Seattle.mid: running status without last_status\n"
     ]
    }
   ],
   "source": [
    "%time\n",
    "file_processor = FileProcessor(output_folder)\n",
    "\n",
    "# Identify and save files with guitar and drum\n",
    "print(f\"Processing {len(midi_file_paths)} files in {raw_data_folder}...\")\n",
    "print(f\"Will save to {output_folder}...\")\n",
    "pool = Pool(5)\n",
    "result = pool.map(file_processor.parse_file, midi_file_paths)\n",
    "\n",
    "# Remove duplicates\n",
    "print(f\"Removing duplicates from {output_folder}...\")\n",
    "file_processor.remove_duplicates()\n",
    "print(\"\\nDone!\")"
   ]
  },
  {
   "cell_type": "code",
   "execution_count": null,
   "metadata": {},
   "outputs": [],
   "source": [
    "print(len(glob.glob(f\"{output_folder}/*.mid\")))"
   ]
  }
 ],
 "metadata": {
  "kernelspec": {
   "display_name": "BandIt",
   "language": "python",
   "name": "python3"
  },
  "language_info": {
   "codemirror_mode": {
    "name": "ipython",
    "version": 3
   },
   "file_extension": ".py",
   "mimetype": "text/x-python",
   "name": "python",
   "nbconvert_exporter": "python",
   "pygments_lexer": "ipython3",
   "version": "3.10.6"
  }
 },
 "nbformat": 4,
 "nbformat_minor": 2
}
