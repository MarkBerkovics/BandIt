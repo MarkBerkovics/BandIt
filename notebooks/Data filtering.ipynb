{
 "cells": [
  {
   "cell_type": "code",
   "execution_count": 2,
   "metadata": {},
   "outputs": [],
   "source": [
    "import pandas\n",
    "import mido\n",
    "import re\n",
    "import shutil\n",
    "from multiprocessing import Pool\n",
    "import ntpath\n",
    "import os\n",
    "import glob\n",
    "import pretty_midi"
   ]
  },
  {
   "cell_type": "code",
   "execution_count": 3,
   "metadata": {},
   "outputs": [],
   "source": [
    "# Use this to strip titles and instrument data of non-alphabetic characters\n",
    "pattern = \"[^a-zA-Z]+\""
   ]
  },
  {
   "cell_type": "code",
   "execution_count": 4,
   "metadata": {},
   "outputs": [
    {
     "data": {
      "text/plain": [
       "'/home/branchedelac/code/MarkBerkovics/BandIt/notebooks'"
      ]
     },
     "execution_count": 4,
     "metadata": {},
     "output_type": "execute_result"
    }
   ],
   "source": [
    "os.getcwd()"
   ]
  },
  {
   "cell_type": "markdown",
   "metadata": {},
   "source": [
    "## Testing"
   ]
  },
  {
   "cell_type": "code",
   "execution_count": 99,
   "metadata": {},
   "outputs": [
    {
     "name": "stdout",
     "output_type": "stream",
     "text": [
      "../test_output\n"
     ]
    },
    {
     "data": {
      "text/plain": [
       "str"
      ]
     },
     "execution_count": 99,
     "metadata": {},
     "output_type": "execute_result"
    }
   ],
   "source": [
    "# Get raw midi files from..\n",
    "raw_data_folder = os.path.join(os.pardir, \"test_data\")\n",
    "midi_file_paths = glob.glob(f\"{raw_data_folder}/*.mid\") + glob.glob(\n",
    "    f\"{raw_data_folder}/*/*.mid\"\n",
    ")\n",
    "type(output_folder)\n",
    "\n",
    "# Save all midi guitar and drum files to...\n",
    "output_folder = os.path.join(os.pardir, \"test_output\")\n",
    "print(output_folder)\n",
    "\n",
    "type(output_folder)\n"
   ]
  },
  {
   "cell_type": "code",
   "execution_count": 66,
   "metadata": {},
   "outputs": [
    {
     "data": {
      "text/plain": [
       "[TimeSignature(numerator=4, denominator=4, time=0.0)]"
      ]
     },
     "execution_count": 66,
     "metadata": {},
     "output_type": "execute_result"
    }
   ],
   "source": [
    "midi_file = pretty_midi.PrettyMIDI(f\"{raw_data_folder}/Zombie_4/Zombie_4.mid\")\n",
    "guitar = list(range(24, 32))\n",
    "midi_file.time_signature_changes\n"
   ]
  },
  {
   "cell_type": "code",
   "execution_count": 20,
   "metadata": {},
   "outputs": [
    {
     "name": "stdout",
     "output_type": "stream",
     "text": [
      "This (27) is a guitar!\n",
      "This (29) is a guitar!\n",
      "This (29) is a guitar!\n",
      "This is a drum!\n",
      "This (28) is a guitar!\n"
     ]
    }
   ],
   "source": [
    "for instrument in midi_file.instruments:\n",
    "    if instrument.is_drum:\n",
    "        print(\"This is a drum!\")\n",
    "    elif instrument.program in guitar:\n",
    "        print(f\"This ({instrument.program}) is a guitar!\")"
   ]
  },
  {
   "cell_type": "code",
   "execution_count": 97,
   "metadata": {},
   "outputs": [
    {
     "ename": "NameError",
     "evalue": "name 'midi_path' is not defined",
     "output_type": "error",
     "traceback": [
      "\u001b[0;31m---------------------------------------------------------------------------\u001b[0m",
      "\u001b[0;31mNameError\u001b[0m                                 Traceback (most recent call last)",
      "Cell \u001b[0;32mIn[97], line 1\u001b[0m\n\u001b[0;32m----> 1\u001b[0m \u001b[38;5;28mtype\u001b[39m(\u001b[43mmidi_path\u001b[49m)\n",
      "\u001b[0;31mNameError\u001b[0m: name 'midi_path' is not defined"
     ]
    }
   ],
   "source": [
    "type(midi_path)"
   ]
  },
  {
   "cell_type": "markdown",
   "metadata": {},
   "source": [
    "## Class/methods"
   ]
  },
  {
   "cell_type": "code",
   "execution_count": 102,
   "metadata": {},
   "outputs": [],
   "source": [
    "class FileProcessor:\n",
    "    def __init__(self, output_path):\n",
    "        self.saved_songs = []\n",
    "        self.errors = 0\n",
    "        self.num_processed = 0\n",
    "        self.output_path = output_path\n",
    "        self.guitar_codes = list(range(24, 32))\n",
    "\n",
    "    def parse_file(self, midi_path: str) -> None:\n",
    "        '''\n",
    "        Given the path of a .mid file, checks if the MIDI object has guitar and\n",
    "        drum, and a time signature of 4/4. If these conditions are fulfilled,\n",
    "        copies the .mid file to a given output folder.\n",
    "        '''\n",
    "        try:\n",
    "            midi_file = pretty_midi.PrettyMIDI(midi_path)\n",
    "\n",
    "            if self.has_drum_and_guitar(midi_file.instruments) and self.is_four_by_four(\n",
    "                midi_file.time_signature_changes\n",
    "            ):\n",
    "                filename = ntpath.split(midi_path)[1]\n",
    "                shutil.copyfile(midi_path, f'{self.output_path}/{filename}')\n",
    "\n",
    "                # If you wanT to write a new file instead:\n",
    "                # midi_file.write(f\"{self.output_path}/{filename}\")\n",
    "\n",
    "        except KeyError as ke:\n",
    "            print(ke)\n",
    "            self.errors += 1\n",
    "        except AttributeError as ae:\n",
    "            print(ae)\n",
    "            self.errors += 1\n",
    "\n",
    "    def has_drum_and_guitar(self, instruments: list) -> bool:\n",
    "        '''\n",
    "        Given a list of PrettyMIDI instruments, returns True if at least one\n",
    "        of the instruments is a drum and at least one is a guitar.\n",
    "        '''\n",
    "        programs = set(i.program for i in instruments)\n",
    "        is_drum = [i.is_drum for i in instruments]\n",
    "        return programs.intersection(self.guitar_codes) and any(is_drum)\n",
    "\n",
    "    def is_four_by_four(self, time_signatures: list) -> bool:\n",
    "        '''\n",
    "        Given a list of PrettyMIDI time signature changes, returns True if there\n",
    "        is only one time signature and it is 4/4.\n",
    "        '''\n",
    "        return len(time_signatures) == 1 and (\n",
    "            (time_signatures[0].numerator == 4)\n",
    "            and (time_signatures[0].denominator == 4)\n",
    "        )"
   ]
  },
  {
   "cell_type": "markdown",
   "metadata": {},
   "source": [
    "## Running"
   ]
  },
  {
   "cell_type": "code",
   "execution_count": 7,
   "metadata": {},
   "outputs": [
    {
     "name": "stdout",
     "output_type": "stream",
     "text": [
      "../data\n"
     ]
    }
   ],
   "source": [
    "# Get raw midi files from..\n",
    "raw_data_folder = os.path.join(os.pardir, \"raw_data\", \"Unzipped\")\n",
    "# raw_data_folder = os.path.join(os.pardir, \"test_data\")\n",
    "midi_file_paths = glob.glob(f\"{raw_data_folder}/*.mid\") + glob.glob(\n",
    "    f\"{raw_data_folder}/*/*.mid\"\n",
    ")\n",
    "\n",
    "# Save all midi guitar and drum files to...\n",
    "output_folder = os.path.join(os.pardir, \"data\")\n",
    "print(output_folder)"
   ]
  },
  {
   "cell_type": "code",
   "execution_count": 103,
   "metadata": {},
   "outputs": [
    {
     "name": "stdout",
     "output_type": "stream",
     "text": [
      "CPU times: user 4 µs, sys: 1e+03 ns, total: 5 µs\n",
      "Wall time: 8.58 µs\n",
      "Processing 5 files in ../test_data...\n",
      "Will save to ../test_output...\n",
      "Removing duplicates from ../test_output...\n",
      "Total number of non-duplicate songs with drums and guitar saved: 3\n"
     ]
    }
   ],
   "source": [
    "%time\n",
    "file_processor = FileProcessor(output_folder)\n",
    "\n",
    "# Identify and save files with guitar and drum\n",
    "print(f\"Processing {len(midi_file_paths)} files in {raw_data_folder}...\")\n",
    "print(f\"Will save to {output_folder}...\")\n",
    "pool = Pool(5)\n",
    "result = pool.map(file_processor.parse_file, midi_file_paths)\n",
    "\n",
    "# Remove duplicates\n",
    "print(f\"Removing duplicates from {output_folder}...\")\n",
    "title_pattern = \"[^a-zA-Z]+\"\n",
    "already_seen = []\n",
    "saved_files = glob.glob(f\"{output_folder}/*.mid\")\n",
    "for midi_file in saved_files:\n",
    "    title = re.sub(title_pattern, \"\", midi_file).lower()\n",
    "    if title in already_seen:\n",
    "        os.remove(midi_file)\n",
    "    else:\n",
    "        already_seen.append(title)\n",
    "\n",
    "print(\"Total number of non-duplicate songs with drums and guitar saved:\", len(already_seen))\n"
   ]
  },
  {
   "cell_type": "code",
   "execution_count": null,
   "metadata": {},
   "outputs": [],
   "source": []
  },
  {
   "cell_type": "code",
   "execution_count": null,
   "metadata": {},
   "outputs": [],
   "source": []
  }
 ],
 "metadata": {
  "kernelspec": {
   "display_name": "BandIt",
   "language": "python",
   "name": "python3"
  },
  "language_info": {
   "codemirror_mode": {
    "name": "ipython",
    "version": 3
   },
   "file_extension": ".py",
   "mimetype": "text/x-python",
   "name": "python",
   "nbconvert_exporter": "python",
   "pygments_lexer": "ipython3",
   "version": "3.10.6"
  }
 },
 "nbformat": 4,
 "nbformat_minor": 2
}
