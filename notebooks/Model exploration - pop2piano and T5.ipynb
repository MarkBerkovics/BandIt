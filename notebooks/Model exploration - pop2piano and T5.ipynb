{
 "cells": [
  {
   "cell_type": "markdown",
   "id": "f92e7043-80e1-4a72-a93c-960fe18eb211",
   "metadata": {
    "tags": []
   },
   "source": [
    "# Setup"
   ]
  },
  {
   "cell_type": "markdown",
   "id": "7cfaf297-9ab2-4a53-a841-c03a10ca7694",
   "metadata": {},
   "source": [
    "## Libraries"
   ]
  },
  {
   "cell_type": "markdown",
   "id": "76cf71d7-b8f3-47e6-9ff8-a2e4dd7a5fa8",
   "metadata": {},
   "source": [
    "### Audio"
   ]
  },
  {
   "cell_type": "code",
   "execution_count": null,
   "id": "c4fe8063-4e23-4a5a-ade5-7010a6e0ff1b",
   "metadata": {
    "tags": []
   },
   "outputs": [],
   "source": [
    "!pip install pretty-midi\n",
    "!pip install essentia\n",
    "!pip install resampy\n",
    "!pip install librosa"
   ]
  },
  {
   "cell_type": "code",
   "execution_count": null,
   "id": "4548aa23-8c78-4b77-a815-84ac099000f2",
   "metadata": {
    "tags": []
   },
   "outputs": [],
   "source": [
    "!sudo apt install -y fluidsynth\n",
    "!pip install midi2audio"
   ]
  },
  {
   "cell_type": "markdown",
   "id": "15328bc4-409e-4850-9929-4bef6bb449f5",
   "metadata": {},
   "source": [
    "### Modelling"
   ]
  },
  {
   "cell_type": "code",
   "execution_count": null,
   "id": "d91d38dc-4063-4901-b240-88ec03e66b05",
   "metadata": {
    "tags": []
   },
   "outputs": [],
   "source": [
    "!pip install git+https://github.com/huggingface/transformers.git"
   ]
  },
  {
   "cell_type": "code",
   "execution_count": null,
   "id": "cd236b0f-3dcc-45e3-8fb8-1e76859959ae",
   "metadata": {
    "tags": []
   },
   "outputs": [],
   "source": [
    "!pip install tensorflow"
   ]
  },
  {
   "cell_type": "code",
   "execution_count": null,
   "id": "e4b27ec7-fa40-467b-9a79-e0df94310cc8",
   "metadata": {
    "tags": []
   },
   "outputs": [],
   "source": [
    "!pip3 install torch torchvision torchaudio --index-url https://download.pytorch.org/whl/cpu"
   ]
  },
  {
   "cell_type": "code",
   "execution_count": null,
   "id": "e813e3be-a4d2-411e-8fe9-c8aaf320d877",
   "metadata": {
    "tags": []
   },
   "outputs": [],
   "source": [
    "!pip install sentencepiece"
   ]
  },
  {
   "cell_type": "markdown",
   "id": "b0913557-0881-475c-a3c7-11d2a7a5da83",
   "metadata": {},
   "source": [
    "## Imports"
   ]
  },
  {
   "cell_type": "code",
   "execution_count": 1,
   "id": "97e372c0-8476-4b7d-ae5a-e4969e646e1b",
   "metadata": {
    "tags": []
   },
   "outputs": [],
   "source": [
    "# Audio\n",
    "import os\n",
    "import librosa\n",
    "import glob\n",
    "import pretty_midi\n",
    "from midi2audio import FluidSynth\n",
    "import numpy as np\n",
    "import pandas as pd\n",
    "\n",
    "# Model\n",
    "from transformers import Pop2PianoForConditionalGeneration, Pop2PianoProcessor\n",
    "import torch"
   ]
  },
  {
   "cell_type": "markdown",
   "id": "9652bd1c-d35f-46eb-af28-415539d18358",
   "metadata": {
    "jp-MarkdownHeadingCollapsed": true,
    "tags": []
   },
   "source": [
    "# Load midi data"
   ]
  },
  {
   "cell_type": "code",
   "execution_count": null,
   "id": "f08b138f-61ba-4563-8e2b-ba0c1f195667",
   "metadata": {
    "tags": []
   },
   "outputs": [],
   "source": [
    "os.getcwd()\n",
    "!ls"
   ]
  },
  {
   "cell_type": "code",
   "execution_count": null,
   "id": "9e3a3ed9-44c4-4256-b5ea-e50152bdd0c4",
   "metadata": {
    "tags": []
   },
   "outputs": [],
   "source": [
    "data_folder = \"../data\"\n",
    "midi_file_paths = glob.glob(f\"{data_folder}/.mid\")[:10]\n",
    "midi_files = [pretty_midi.PrettyMIDI(p) for p in midi_file_paths]\n",
    "print(f\"Working with {len(midi_files)} files.\")"
   ]
  },
  {
   "cell_type": "code",
   "execution_count": null,
   "id": "0e34368a-41bc-4ae7-810b-e6cd779716cb",
   "metadata": {
    "tags": []
   },
   "outputs": [],
   "source": [
    "test_title = \"Hotel_California_1\"\n",
    "single_midi = pretty_midi.PrettyMIDI(f\"{data_folder}/{test_title}.mid\")"
   ]
  },
  {
   "cell_type": "markdown",
   "id": "1979ce57-d62b-4e92-94e0-428c3ed341d6",
   "metadata": {
    "tags": []
   },
   "source": [
    "# Pop2Piano - out of the box"
   ]
  },
  {
   "cell_type": "markdown",
   "id": "ee6b66ff-7a24-432e-ad7c-98f8a35c43bc",
   "metadata": {
    "tags": []
   },
   "source": [
    "## Create wav file from midi"
   ]
  },
  {
   "cell_type": "code",
   "execution_count": null,
   "id": "b565383f-3de0-48c3-b29e-9c1507425be0",
   "metadata": {
    "tags": []
   },
   "outputs": [],
   "source": [
    "fs = FluidSynth()\n",
    "fs.midi_to_audio(f\"{data_folder}/{test_title}.mid\", f'../test_data/{test_title}.wav')"
   ]
  },
  {
   "cell_type": "markdown",
   "id": "6aed2473-5586-4925-9c0b-f8bd0249ca71",
   "metadata": {
    "tags": []
   },
   "source": [
    "## Use Pop2Piano to generate a piano arrangement"
   ]
  },
  {
   "cell_type": "code",
   "execution_count": null,
   "id": "0b54417e-a1ae-4363-a10f-ca684f2fc66e",
   "metadata": {
    "tags": []
   },
   "outputs": [],
   "source": [
    "audio, sr = librosa.load(f\"../test_data/{test_title}.wav\", sr=44100)  # feel free to change the sr to a suitable value.\n",
    "model = Pop2PianoForConditionalGeneration.from_pretrained(\"sweetcocoa/pop2piano\")\n",
    "processor = Pop2PianoProcessor.from_pretrained(\"sweetcocoa/pop2piano\")\n",
    "\n",
    "inputs = processor(audio=audio, sampling_rate=sr, return_tensors=\"pt\")\n",
    "model_output = model.generate(input_features=inputs[\"input_features\"], composer=\"composer1\")\n",
    "tokenizer_output = processor.batch_decode(\n",
    "    token_ids=model_output, feature_extractor_output=inputs\n",
    ")[\"pretty_midi_objects\"][0]\n",
    "tokenizer_output.write(f\"../test_data/{test_title}_pop2piano.mid\")"
   ]
  },
  {
   "cell_type": "markdown",
   "id": "55cfe828-2789-4ac8-89dd-f5e6c8a3e2a0",
   "metadata": {
    "tags": []
   },
   "source": [
    "### Make piano arrangement sound like drum\n",
    "\n"
   ]
  },
  {
   "cell_type": "code",
   "execution_count": null,
   "id": "29402933-0440-428a-bfe6-2858a1ef58d1",
   "metadata": {
    "tags": []
   },
   "outputs": [],
   "source": [
    "piano_to_drum_hack = pretty_midi.PrettyMIDI(f\"../test_data/{test_title}_pop2piano.mid\")"
   ]
  },
  {
   "cell_type": "code",
   "execution_count": null,
   "id": "9c888205-06b0-4a0e-b131-effa77caf680",
   "metadata": {
    "tags": []
   },
   "outputs": [],
   "source": [
    "piano_to_drum_hack.instruments[0].is_drum =True\n",
    "piano_to_drum_hack.instruments"
   ]
  },
  {
   "cell_type": "code",
   "execution_count": null,
   "id": "6923052f-b0c8-4a65-af65-44c7221b28c2",
   "metadata": {
    "tags": []
   },
   "outputs": [],
   "source": [
    "piano_to_drum_hack.write(f\"../test_data/{test_title}_pop2piano_drum_hack.mid\")"
   ]
  },
  {
   "cell_type": "code",
   "execution_count": null,
   "id": "4a6fe938-b443-4890-bd8c-30d39b25a825",
   "metadata": {
    "tags": []
   },
   "outputs": [],
   "source": [
    "# This is basically a test thing\n",
    "embedding = torch.nn.Embedding(num_embeddings=213356, embedding_dim=100)\n",
    "output = embedding(padded_guitar_tensor) "
   ]
  },
  {
   "cell_type": "markdown",
   "id": "a9ad81d1-38ea-4986-9b8d-ec05fb435d31",
   "metadata": {
    "tags": []
   },
   "source": [
    "# Load and pad pre-tokenized data"
   ]
  },
  {
   "cell_type": "markdown",
   "id": "07d1edcb-c703-4c51-8f6a-3c312dd36cbc",
   "metadata": {},
   "source": [
    "## Load tokenized data from pickle"
   ]
  },
  {
   "cell_type": "code",
   "execution_count": 2,
   "id": "5e8e75e1-ce7b-4629-95fc-280cdce0e8c9",
   "metadata": {
    "tags": []
   },
   "outputs": [
    {
     "data": {
      "text/html": [
       "<div>\n",
       "<style scoped>\n",
       "    .dataframe tbody tr th:only-of-type {\n",
       "        vertical-align: middle;\n",
       "    }\n",
       "\n",
       "    .dataframe tbody tr th {\n",
       "        vertical-align: top;\n",
       "    }\n",
       "\n",
       "    .dataframe thead th {\n",
       "        text-align: right;\n",
       "    }\n",
       "</style>\n",
       "<table border=\"1\" class=\"dataframe\">\n",
       "  <thead>\n",
       "    <tr style=\"text-align: right;\">\n",
       "      <th></th>\n",
       "      <th>song_name</th>\n",
       "      <th>guitar_tracks</th>\n",
       "      <th>drum_tracks</th>\n",
       "      <th>standardized_guitar_bars</th>\n",
       "      <th>standardized_drum_bars</th>\n",
       "      <th>tokenized_guitar</th>\n",
       "      <th>tokenized_drums</th>\n",
       "    </tr>\n",
       "  </thead>\n",
       "  <tbody>\n",
       "    <tr>\n",
       "      <th>0</th>\n",
       "      <td>data/No_Son_Of_Mine.mid</td>\n",
       "      <td>Instrument(program=28, is_drum=False, name=\"No...</td>\n",
       "      <td>Instrument(program=16, is_drum=True, name=\"No ...</td>\n",
       "      <td>[[], [], [], [], [], [Note(start=1.022917, end...</td>\n",
       "      <td>[[], [], [], [], [], [], [], [], [], [], [], [...</td>\n",
       "      <td>[5, 5, 5, 5, 5, 165357, 164307, 163344, 162387...</td>\n",
       "      <td>[5, 5, 5, 5, 5, 5, 5, 5, 5, 5, 5, 5, 5, 5, 5, ...</td>\n",
       "    </tr>\n",
       "    <tr>\n",
       "      <th>1</th>\n",
       "      <td>data/Deja-Vu.mid</td>\n",
       "      <td>Instrument(program=30, is_drum=False, name=\"Gu...</td>\n",
       "      <td>Instrument(program=0, is_drum=True, name=\"Drums\")</td>\n",
       "      <td>[[], [], [], [], [], [], [], [], [], [Note(sta...</td>\n",
       "      <td>[[], [], [], [], [], [], [], [], [Note(start=1...</td>\n",
       "      <td>[5, 5, 5, 5, 5, 5, 5, 5, 5, 168616, 82913, 711...</td>\n",
       "      <td>[5, 5, 5, 5, 5, 5, 5, 5, 212531, 147704, 14708...</td>\n",
       "    </tr>\n",
       "  </tbody>\n",
       "</table>\n",
       "</div>"
      ],
      "text/plain": [
       "                 song_name                                      guitar_tracks  \\\n",
       "0  data/No_Son_Of_Mine.mid  Instrument(program=28, is_drum=False, name=\"No...   \n",
       "1         data/Deja-Vu.mid  Instrument(program=30, is_drum=False, name=\"Gu...   \n",
       "\n",
       "                                         drum_tracks  \\\n",
       "0  Instrument(program=16, is_drum=True, name=\"No ...   \n",
       "1  Instrument(program=0, is_drum=True, name=\"Drums\")   \n",
       "\n",
       "                            standardized_guitar_bars  \\\n",
       "0  [[], [], [], [], [], [Note(start=1.022917, end...   \n",
       "1  [[], [], [], [], [], [], [], [], [], [Note(sta...   \n",
       "\n",
       "                              standardized_drum_bars  \\\n",
       "0  [[], [], [], [], [], [], [], [], [], [], [], [...   \n",
       "1  [[], [], [], [], [], [], [], [], [Note(start=1...   \n",
       "\n",
       "                                    tokenized_guitar  \\\n",
       "0  [5, 5, 5, 5, 5, 165357, 164307, 163344, 162387...   \n",
       "1  [5, 5, 5, 5, 5, 5, 5, 5, 5, 168616, 82913, 711...   \n",
       "\n",
       "                                     tokenized_drums  \n",
       "0  [5, 5, 5, 5, 5, 5, 5, 5, 5, 5, 5, 5, 5, 5, 5, ...  \n",
       "1  [5, 5, 5, 5, 5, 5, 5, 5, 212531, 147704, 14708...  "
      ]
     },
     "execution_count": 2,
     "metadata": {},
     "output_type": "execute_result"
    }
   ],
   "source": [
    "df = pd.read_pickle(\"../../midi_df_2199.pkl\")\n",
    "df.head(2)"
   ]
  },
  {
   "cell_type": "code",
   "execution_count": 3,
   "id": "846add8f-b16b-405e-92a0-ef84da5a6a13",
   "metadata": {
    "tags": []
   },
   "outputs": [
    {
     "data": {
      "text/plain": [
       "list"
      ]
     },
     "execution_count": 3,
     "metadata": {},
     "output_type": "execute_result"
    }
   ],
   "source": [
    "type(df[\"tokenized_guitar\"][0])"
   ]
  },
  {
   "cell_type": "markdown",
   "id": "2c5e8343-0c75-460a-8be8-53280652c59c",
   "metadata": {
    "tags": []
   },
   "source": [
    "## Add padding to make all rows same length"
   ]
  },
  {
   "cell_type": "code",
   "execution_count": 4,
   "id": "b225cac2-fbf1-4301-878c-60fdd17adb9c",
   "metadata": {
    "tags": []
   },
   "outputs": [],
   "source": [
    "#df['tokenized_guitar_list'] = df['tokenized_guitar'].apply(eval)\n",
    "#df['tokenized_drums_list'] = df['tokenized_drums'].apply(eval)"
   ]
  },
  {
   "cell_type": "code",
   "execution_count": 5,
   "id": "2b453388-4d3e-4998-aa0a-686007083e27",
   "metadata": {
    "tags": []
   },
   "outputs": [
    {
     "data": {
      "text/plain": [
       "1005"
      ]
     },
     "execution_count": 5,
     "metadata": {},
     "output_type": "execute_result"
    }
   ],
   "source": [
    "pad_to_max_len_list = max(df['tokenized_guitar'].apply(lambda x : len(x)))\n",
    "pad_to_max_len_list"
   ]
  },
  {
   "cell_type": "code",
   "execution_count": 6,
   "id": "84f5733e-26b4-4056-af29-e4644fadeb8f",
   "metadata": {
    "tags": []
   },
   "outputs": [],
   "source": [
    "df['tokenized_guitar_padded'] = df['tokenized_guitar'].apply(\n",
    "    lambda x: np.pad(x, pad_width=(0, (pad_to_max_len_list-len(x))), mode='constant', constant_values=0))\n",
    "df['tokenized_drums_padded'] = df['tokenized_drums'].apply(\n",
    "    lambda x: np.pad(x, pad_width=(0, (pad_to_max_len_list-len(x))), mode='constant', constant_values=0))"
   ]
  },
  {
   "cell_type": "code",
   "execution_count": 7,
   "id": "6936bc65-ef1b-4ea9-a1cb-c99649194da6",
   "metadata": {
    "tags": []
   },
   "outputs": [
    {
     "data": {
      "text/plain": [
       "(2199,)"
      ]
     },
     "execution_count": 7,
     "metadata": {},
     "output_type": "execute_result"
    }
   ],
   "source": [
    "df['tokenized_guitar_padded'].to_numpy().shape"
   ]
  },
  {
   "cell_type": "code",
   "execution_count": 8,
   "id": "eaddf9d1-5406-457f-8552-0504aae3c2fa",
   "metadata": {
    "tags": []
   },
   "outputs": [
    {
     "name": "stderr",
     "output_type": "stream",
     "text": [
      "/var/tmp/ipykernel_70656/4064964830.py:1: UserWarning: Creating a tensor from a list of numpy.ndarrays is extremely slow. Please consider converting the list to a single numpy.ndarray with numpy.array() before converting to a tensor. (Triggered internally at ../torch/csrc/utils/tensor_new.cpp:275.)\n",
      "  padded_guitar_tensor = torch.LongTensor(df['tokenized_guitar_padded'].apply(lambda x: x.astype(\"int32\")))\n"
     ]
    }
   ],
   "source": [
    "padded_guitar_tensor = torch.LongTensor(df['tokenized_guitar_padded'].apply(lambda x: x.astype(\"int32\")))\n",
    "padded_drum_tensor = torch.LongTensor(df['tokenized_drums_padded'].apply(lambda x: x.astype(\"int32\")))"
   ]
  },
  {
   "cell_type": "code",
   "execution_count": 9,
   "id": "0c89cd3e-1034-43f6-880d-d45604ce3a1b",
   "metadata": {
    "tags": []
   },
   "outputs": [
    {
     "data": {
      "text/plain": [
       "torch.Size([2199, 1005])"
      ]
     },
     "execution_count": 9,
     "metadata": {},
     "output_type": "execute_result"
    }
   ],
   "source": [
    "padded_guitar_tensor.size()"
   ]
  },
  {
   "cell_type": "markdown",
   "id": "99368678-3ea8-4c0a-b221-305f3803c9b1",
   "metadata": {},
   "source": [
    "# Train a T5 model with a custom config"
   ]
  },
  {
   "cell_type": "code",
   "execution_count": 11,
   "id": "f8ed1ec6-cfdc-4da8-9711-6fd71264d176",
   "metadata": {
    "tags": []
   },
   "outputs": [],
   "source": [
    "from transformers import T5Config, T5ForConditionalGeneration"
   ]
  },
  {
   "cell_type": "markdown",
   "id": "547b4873-dc15-4e59-83d5-69c18ff7e4f4",
   "metadata": {
    "tags": []
   },
   "source": [
    "## Initialize a model with custom config"
   ]
  },
  {
   "cell_type": "code",
   "execution_count": 12,
   "id": "68b6d275-132c-4ace-a4fe-ea315151473b",
   "metadata": {
    "tags": []
   },
   "outputs": [
    {
     "data": {
      "text/plain": [
       "T5Config {\n",
       "  \"classifier_dropout\": 0.0,\n",
       "  \"d_ff\": 2048,\n",
       "  \"d_kv\": 64,\n",
       "  \"d_model\": 512,\n",
       "  \"decoder_start_token_id\": 0,\n",
       "  \"dense_act_fn\": \"relu\",\n",
       "  \"dropout_rate\": 0.1,\n",
       "  \"eos_token_id\": 1,\n",
       "  \"feed_forward_proj\": \"relu\",\n",
       "  \"initializer_factor\": 1.0,\n",
       "  \"is_encoder_decoder\": true,\n",
       "  \"is_gated_act\": false,\n",
       "  \"layer_norm_epsilon\": 1e-06,\n",
       "  \"model_type\": \"t5\",\n",
       "  \"num_decoder_layers\": 6,\n",
       "  \"num_heads\": 8,\n",
       "  \"num_layers\": 6,\n",
       "  \"pad_token_id\": 0,\n",
       "  \"relative_attention_max_distance\": 128,\n",
       "  \"relative_attention_num_buckets\": 32,\n",
       "  \"transformers_version\": \"4.39.0.dev0\",\n",
       "  \"use_cache\": true,\n",
       "  \"vocab_size\": 213356\n",
       "}"
      ]
     },
     "execution_count": 12,
     "metadata": {},
     "output_type": "execute_result"
    }
   ],
   "source": [
    "# Change the config!\n",
    "config = T5Config()\n",
    "config.vocab_size = 213356\n",
    "config.decoder_start_token_id = 0\n",
    "config"
   ]
  },
  {
   "cell_type": "code",
   "execution_count": 13,
   "id": "92e3055d-5206-4b70-b987-eff35aede16d",
   "metadata": {
    "tags": []
   },
   "outputs": [],
   "source": [
    "custom_model = T5ForConditionalGeneration(config)"
   ]
  },
  {
   "cell_type": "markdown",
   "id": "67e4ff0c-e0da-40c7-bc01-ab6da2eac792",
   "metadata": {
    "tags": []
   },
   "source": [
    "## Train the model"
   ]
  },
  {
   "cell_type": "code",
   "execution_count": 14,
   "id": "cadaf777-6e17-41b1-81d5-ce3f91f25c82",
   "metadata": {
    "tags": []
   },
   "outputs": [],
   "source": [
    "# forward pass\n",
    "forward_pass = custom_model(input_ids=padded_guitar_tensor[:2], labels=padded_drum_tensor[:2])"
   ]
  },
  {
   "cell_type": "code",
   "execution_count": 16,
   "id": "158b03a4-6db2-4406-a3f7-e5b4658a59aa",
   "metadata": {
    "tags": []
   },
   "outputs": [
    {
     "data": {
      "text/plain": [
       "tensor(8.0127, grad_fn=<NllLossBackward0>)"
      ]
     },
     "execution_count": 16,
     "metadata": {},
     "output_type": "execute_result"
    }
   ],
   "source": [
    "forward_pass.loss"
   ]
  },
  {
   "cell_type": "markdown",
   "id": "47cb0945-a1b9-4710-90df-cf1dbb68bc04",
   "metadata": {
    "tags": []
   },
   "source": [
    "## Make prediction"
   ]
  },
  {
   "cell_type": "code",
   "execution_count": 23,
   "id": "c3a8e562-373a-4182-b51e-da15f42cd6d2",
   "metadata": {
    "tags": []
   },
   "outputs": [],
   "source": [
    "# Prep input data!\n",
    "pred_input = [df[\"tokenized_guitar\"][800]]\n",
    "\n",
    "padded_pred_input = np.pad(\n",
    "    pred_input, pad_width=(0, (pad_to_max_len_list-len(pred_input))), mode='constant', constant_values=0\n",
    ")\n",
    "\n",
    "padded_pred_tensor = torch.LongTensor(pred_input)"
   ]
  },
  {
   "cell_type": "code",
   "execution_count": 24,
   "id": "92d3c701-14ac-481d-b17f-11fd1a91ab50",
   "metadata": {
    "tags": []
   },
   "outputs": [
    {
     "data": {
      "text/plain": [
       "tensor([[     5,      5,  76202,  91139, 166530,  56924, 164763,  82674,  89941,\n",
       "         162018,  89361,  89096,  88927,  80625,  64691, 156708,  87623, 154961,\n",
       "         153994,  66694, 161171,  24913, 150738,  59593,  85453, 148377,  23963,\n",
       "          23565,  23261, 145508, 144760, 144029, 143333, 142661,  21038,  48864,\n",
       "         154025,  20584, 139481,  80672,  80427, 152015,  20627,  20514,  20404,\n",
       "          20313,  34577, 134637,  20117, 133551,  42513,  39156,  19517,  40926,\n",
       "          76101, 130649,  85784,      6]])"
      ]
     },
     "execution_count": 24,
     "metadata": {},
     "output_type": "execute_result"
    }
   ],
   "source": [
    "# The prediction input encoded\n",
    "padded_pred_tensor"
   ]
  },
  {
   "cell_type": "code",
   "execution_count": 26,
   "id": "be862023-ce0b-4993-9817-5dc0d2fa6a3e",
   "metadata": {
    "tags": []
   },
   "outputs": [
    {
     "name": "stdout",
     "output_type": "stream",
     "text": [
      "tensor([[    0,     0,     0,     0,     0,     0,     0,     0,     0,     0,\n",
      "             0,     0,     0,     0,     0,     0,     0,     0,     0,     0,\n",
      "             0,     0,     0,     0,     0,     0,     0,     0,     0,     0,\n",
      "             0,     0,     0,     0,     0,     0,     0,     0,     0,     0,\n",
      "             0,     0,     0,     0,     0,     0,     0,     0,     0,     0,\n",
      "             0,     0,     0,     0,     0,     0,     0,     0,     0,     0,\n",
      "             0,     0,     0,     0,     0,     0,     0,     0,     0,     0,\n",
      "             0,     0,     0,     0,     0,     0,     0,     0,     0,     0,\n",
      "             0,     0,     0,     0,     0,     0,     0,     0,     0,     0,\n",
      "             0,     0,     0,     0,     0,     0,     0,     0,     0,     0,\n",
      "             0,     0,     0,     0,     0,     0,     0,     0,     0,     0,\n",
      "             0,     0,     0,     0,     0,     0,     0,     0,     0,     0,\n",
      "             0,     0,     0,     0,     0,     0,     0,     0,     0,     0,\n",
      "             0,     0,     0,     0,     0,     0,     0,     0,     0,     0,\n",
      "             0,     0,     0,     0,     0,     0,     0,     0,     0,     0,\n",
      "             0,     0,     0,     0,     0,     0,     0,     0,     0,     0,\n",
      "             0,     0,     0,     0,     0,     0,     0,     0,     0,     0,\n",
      "             0,     0,     0,     0,     0,     0,     0,     0,     0,     0,\n",
      "             0,     0,     0,     0,     0,     0,     0,     0,     0,     0,\n",
      "             0,     0,     0,     0,     0,     0,     0,     0,     0,     0,\n",
      "             0, 71012, 71012, 71012, 71012, 71012, 71012, 71012, 71012, 71012,\n",
      "         71012, 71012, 71012, 71012, 71012, 71012, 71012, 71012, 71012, 71012,\n",
      "         71012, 71012, 71012, 71012, 71012, 71012, 71012, 71012, 71012, 71012,\n",
      "         71012, 71012, 71012, 71012, 71012, 71012, 71012, 71012, 71012, 71012,\n",
      "         71012, 71012, 71012, 71012, 71012, 71012, 71012, 71012, 71012, 71012,\n",
      "         71012, 71012, 71012, 71012, 71012, 71012, 71012, 71012, 71012, 71012,\n",
      "         71012, 71012, 71012, 71012, 71012, 71012, 71012, 71012, 71012, 71012,\n",
      "         71012, 71012, 71012, 71012, 71012, 71012, 71012, 71012, 71012, 71012,\n",
      "         71012, 71012, 71012, 71012, 71012, 71012, 71012, 71012, 71012, 71012,\n",
      "         71012, 71012, 71012, 71012, 71012, 71012, 71012, 71012, 71012, 71012,\n",
      "         71012, 71012, 71012, 71012, 71012, 71012, 71012, 71012, 71012, 71012,\n",
      "         71012, 71012, 71012, 71012, 71012, 71012, 71012, 71012, 71012, 71012,\n",
      "         71012, 71012, 71012, 71012, 71012, 71012, 71012, 71012, 71012, 71012,\n",
      "         71012, 71012, 71012, 71012, 71012, 71012, 71012, 71012, 71012, 71012,\n",
      "         71012, 71012, 71012, 71012, 71012, 71012, 71012, 71012, 71012, 71012,\n",
      "         71012, 71012, 71012, 71012, 71012, 71012, 71012, 71012, 71012, 71012,\n",
      "         71012, 71012, 71012, 71012, 71012, 71012, 71012, 71012, 71012, 71012,\n",
      "         71012, 71012, 71012, 71012, 71012, 71012, 71012, 71012, 71012, 71012,\n",
      "         71012, 71012, 71012, 71012, 71012, 71012, 71012, 71012, 71012, 71012,\n",
      "         71012, 71012, 71012, 71012, 71012, 71012, 71012, 71012, 71012, 71012,\n",
      "         71012, 71012, 71012, 71012, 71012, 71012, 71012, 71012, 71012, 71012,\n",
      "         71012, 71012, 71012, 71012, 71012, 71012, 71012, 71012, 71012, 71012,\n",
      "         71012, 71012, 71012, 71012, 71012, 71012, 71012, 71012, 71012, 71012,\n",
      "         71012, 71012, 71012, 71012, 71012, 71012, 71012, 71012, 71012, 71012,\n",
      "         71012, 71012, 71012, 71012, 71012, 71012, 71012, 71012, 71012, 71012,\n",
      "         71012, 71012, 71012, 71012, 71012, 71012, 71012, 71012, 71012, 71012,\n",
      "         71012, 71012, 71012, 71012, 71012, 71012, 71012, 71012, 71012, 71012,\n",
      "         71012, 71012, 71012, 71012, 71012, 71012, 71012, 71012, 71012, 71012,\n",
      "         71012, 71012, 71012, 71012, 71012, 71012, 71012, 71012, 71012, 71012,\n",
      "         71012, 71012, 71012, 71012, 71012, 71012, 71012, 71012, 71012, 71012,\n",
      "         71012, 71012, 71012, 71012, 71012, 71012, 71012, 71012, 71012, 71012,\n",
      "         71012, 71012, 71012, 71012, 71012, 71012, 71012, 71012, 71012, 71012,\n",
      "         71012, 71012, 71012, 71012, 71012, 71012, 71012, 71012, 71012, 71012,\n",
      "         71012, 71012, 71012, 71012, 71012, 71012, 71012, 71012, 71012, 71012,\n",
      "         71012, 71012, 71012, 71012, 71012, 71012, 71012, 71012, 71012, 71012,\n",
      "         71012, 71012, 71012, 71012, 71012, 71012, 71012, 71012, 71012, 71012,\n",
      "         71012, 71012, 71012, 71012, 71012, 71012, 71012, 71012, 71012, 71012,\n",
      "         71012, 71012, 71012, 71012, 71012, 71012, 71012, 71012, 71012, 71012,\n",
      "         71012, 71012, 71012, 71012, 71012, 71012, 71012, 71012, 71012, 71012,\n",
      "         71012, 71012, 71012, 71012, 71012, 71012, 71012, 71012, 71012, 71012,\n",
      "         71012, 71012, 71012, 71012, 71012, 71012, 71012, 71012, 71012, 71012,\n",
      "         71012, 71012, 71012, 71012, 71012, 71012, 71012, 71012, 71012, 71012,\n",
      "         71012, 71012, 71012, 71012, 71012, 71012, 71012, 71012, 71012, 71012,\n",
      "         71012, 71012, 71012, 71012, 71012, 71012, 71012, 71012, 71012, 71012,\n",
      "         71012, 71012, 71012, 71012, 71012, 71012, 71012, 71012, 71012, 71012,\n",
      "         71012, 71012, 71012, 71012, 71012, 71012, 71012, 71012, 71012, 71012,\n",
      "         71012, 71012, 71012, 71012, 71012, 71012, 71012, 71012, 71012, 71012,\n",
      "         71012, 71012, 71012, 71012, 71012, 71012, 71012, 71012, 71012, 71012,\n",
      "         71012, 71012, 71012, 71012, 71012, 71012, 71012, 71012, 71012, 71012,\n",
      "         71012, 71012, 71012, 71012, 71012, 71012, 71012, 71012, 71012, 71012,\n",
      "         71012, 71012, 71012, 71012, 71012, 71012, 71012, 71012, 71012, 71012,\n",
      "         71012, 71012, 71012, 71012, 71012, 71012, 71012, 71012, 71012, 71012,\n",
      "         71012, 71012, 71012, 71012, 71012, 71012, 71012, 71012, 71012, 71012,\n",
      "         71012, 71012, 71012, 71012, 71012, 71012, 71012, 71012, 71012, 71012,\n",
      "         71012, 71012, 71012, 71012, 71012, 71012, 71012, 71012, 71012, 71012,\n",
      "         71012, 71012, 71012, 71012, 71012, 71012, 71012, 71012, 71012, 71012,\n",
      "         71012, 71012, 71012, 71012, 71012, 71012, 71012, 71012, 71012, 71012,\n",
      "         71012, 71012, 71012, 71012, 71012, 71012, 71012, 71012, 71012, 71012,\n",
      "         71012, 71012, 71012, 71012, 71012, 71012, 71012, 71012, 71012, 71012,\n",
      "         71012, 71012, 71012, 71012, 71012, 71012, 71012, 71012, 71012, 71012,\n",
      "         71012, 71012, 71012, 71012, 71012, 71012, 71012, 71012, 71012, 71012,\n",
      "         71012, 71012, 71012, 71012, 71012, 71012, 71012, 71012, 71012, 71012,\n",
      "         71012, 71012, 71012, 71012, 71012, 71012, 71012, 71012, 71012, 71012,\n",
      "         71012, 71012, 71012, 71012, 71012, 71012, 71012, 71012, 71012, 71012,\n",
      "         71012, 71012, 71012, 71012, 71012, 71012, 71012, 71012, 71012, 71012,\n",
      "         71012, 71012, 71012, 71012, 71012, 71012, 71012, 71012, 71012, 71012,\n",
      "         71012, 71012, 71012, 71012, 71012, 71012, 71012, 71012, 71012, 71012,\n",
      "         71012, 71012, 71012, 71012, 71012, 71012, 71012, 71012, 71012, 71012,\n",
      "         71012, 71012, 71012, 71012, 71012, 71012, 71012, 71012, 71012, 71012,\n",
      "         71012, 71012, 71012, 71012, 71012, 71012, 71012, 71012, 71012, 71012,\n",
      "         71012, 71012, 71012, 71012, 71012, 71012, 71012, 71012, 71012, 71012,\n",
      "         71012, 71012, 71012, 71012, 71012, 71012, 71012, 71012, 71012, 71012,\n",
      "         71012, 71012, 71012, 71012, 71012, 71012, 71012, 71012, 71012, 71012,\n",
      "         71012, 71012, 71012, 71012, 71012, 71012, 71012, 71012, 71012, 71012,\n",
      "         71012, 71012, 71012, 71012, 71012, 71012, 71012, 71012, 71012, 71012,\n",
      "         71012, 71012, 71012, 71012, 71012, 71012, 71012, 71012, 71012, 71012,\n",
      "         71012, 71012, 71012, 71012, 71012, 71012, 71012, 71012, 71012, 71012,\n",
      "         71012, 71012, 71012, 71012, 71012, 71012, 71012, 71012, 71012, 71012,\n",
      "         71012, 71012, 71012, 71012, 71012, 71012, 71012, 71012, 71012, 71012,\n",
      "         71012, 71012, 71012, 71012, 71012, 71012, 71012, 71012, 71012, 71012]])\n"
     ]
    }
   ],
   "source": [
    "outputs = custom_model.generate(padded_pred_tensor, max_length=1000)\n",
    "print(outputs)"
   ]
  },
  {
   "cell_type": "markdown",
   "id": "70074391-eb41-45f9-97cc-c87c198d6e5b",
   "metadata": {
    "jp-MarkdownHeadingCollapsed": true,
    "tags": []
   },
   "source": [
    "# Playing around with T5\n",
    "Inspired by pop2piano! Check it out here: https://github.com/sweetcocoa/pop2piano/tree/main"
   ]
  },
  {
   "cell_type": "markdown",
   "id": "9d87a496-0123-4fda-8122-895a5c5f0081",
   "metadata": {
    "tags": []
   },
   "source": [
    "## Let's explore the T5"
   ]
  },
  {
   "cell_type": "code",
   "execution_count": null,
   "id": "8740b67b-1898-44a5-9d8b-c2b6ff1f8f9b",
   "metadata": {
    "tags": []
   },
   "outputs": [],
   "source": [
    "from transformers import T5Config, T5ForConditionalGeneration, T5Tokenizer, T5Model"
   ]
  },
  {
   "cell_type": "markdown",
   "id": "428ca6d9-e4b0-4bae-984e-c7f791bd54c6",
   "metadata": {
    "tags": []
   },
   "source": [
    "### Let's play around with a pretrained T5 model first"
   ]
  },
  {
   "cell_type": "code",
   "execution_count": null,
   "id": "b16d61a8-30a6-42fb-8ded-ed2d84d5c186",
   "metadata": {
    "tags": []
   },
   "outputs": [],
   "source": [
    "# load the tokenizers and model\n",
    "pretrained_tokenizer = T5Tokenizer.from_pretrained(\"t5-small\") # vocab size is 32100.\n",
    "predtrained_model = T5ForConditionalGeneration.from_pretrained(\"t5-small\")"
   ]
  },
  {
   "cell_type": "code",
   "execution_count": null,
   "id": "6a34d9de-8560-4d41-9ffb-7bd060e10da4",
   "metadata": {
    "tags": []
   },
   "outputs": [],
   "source": [
    "# for a phrase get the tokenised input ids\n",
    "input_ids = tokenizer(\"translate English to French: I am going to the party.\", return_tensors=\"pt\").input_ids\n",
    "# use the input ids to generte output\n",
    "outputs = model.generate(input_ids)\n",
    "# decode the output token ids to text\n",
    "print(tokenizer.decode(outputs[0], skip_special_tokens=True))\n",
    "## Output --> \n",
    "## Ich werde zur Partei gehen."
   ]
  },
  {
   "cell_type": "markdown",
   "id": "7b52bf09-0378-47ba-8368-199b4c51f45f",
   "metadata": {
    "tags": []
   },
   "source": [
    "### Tokenize with t5"
   ]
  },
  {
   "cell_type": "code",
   "execution_count": null,
   "id": "d77d11f0-b760-40c5-b720-eba26dbd0106",
   "metadata": {
    "tags": []
   },
   "outputs": [],
   "source": [
    "tokenizer = T5Tokenizer.from_pretrained(\"google-t5/t5-small\")\n",
    "model = T5ForConditionalGeneration.from_pretrained(\"google-t5/t5-small\")"
   ]
  },
  {
   "cell_type": "code",
   "execution_count": null,
   "id": "1a6e3f0d-d8f9-4666-9795-3dafc93f83cb",
   "metadata": {
    "tags": []
   },
   "outputs": [],
   "source": [
    "''.join(str(df[\"tokenized_guitar\"][0]))"
   ]
  },
  {
   "cell_type": "code",
   "execution_count": null,
   "id": "ad4ae6c2-7f36-401e-814e-2d91690eede8",
   "metadata": {
    "tags": []
   },
   "outputs": [],
   "source": []
  },
  {
   "cell_type": "code",
   "execution_count": null,
   "id": "2f57f38b-1a3e-470a-b64c-fd8ccf515a1b",
   "metadata": {
    "tags": []
   },
   "outputs": [],
   "source": [
    "# the following 2 hyperparameters are task-specific\n",
    "max_source_length = 512\n",
    "max_target_length = 128\n",
    "\n",
    "# goal\n",
    "task_prefix = \"translate guitar to drums\"\n",
    "\n",
    "# Suppose we have the following training examples:\n",
    "input_sequences = df[\"tokenized_guitar\"].apply(lambda x: ''.join(str(x)))\n",
    "output_sequences = df[\"tokenized_drums\"].apply(lambda x: ''.join(str(x)))\n",
    "# encode the inputs\n",
    "\n",
    "encoding = tokenizer(\n",
    "    [task_prefix + sequence for sequence in input_sequences],\n",
    "    padding=\"longest\",\n",
    "    max_length=max_source_length,\n",
    "    truncation=True,\n",
    "    return_tensors=\"pt\",\n",
    ")\n",
    "\n",
    "input_ids, attention_mask = encoding.input_ids, encoding.attention_mask\n",
    "\n",
    "# encode the targets\n",
    "target_encoding = tokenizer(\n",
    "    output_sequences,\n",
    "    padding=\"longest\",\n",
    "    max_length=max_target_length,\n",
    "    truncation=True,\n",
    "    return_tensors=\"pt\",\n",
    ")\n",
    "labels = target_encoding.input_ids\n",
    "\n",
    "# replace padding token id's of the labels by -100 so it's ignored by the loss\n",
    "labels[labels == tokenizer.pad_token_id] = -100\n",
    "\n",
    "# forward pass\n",
    "loss = model(input_ids=input_ids, attention_mask=attention_mask, labels=labels).loss\n",
    "loss.item()"
   ]
  },
  {
   "cell_type": "code",
   "execution_count": null,
   "id": "30c7c9ac-e970-4765-b700-716de996df6d",
   "metadata": {
    "tags": []
   },
   "outputs": [],
   "source": [
    "import tensorflow as tf\n",
    "\n",
    "guitar_vector = df[\"tokenized_guitar\"][:2].apply(eval).to_numpy()\n",
    "drum_vector = df[\"tokenized_drums\"][:2].apply(eval).to_numpy()\n",
    "\n",
    "ragged_guitar_tensor = tf.ragged.constant(guitar_vector)\n",
    "padded_guitar_tensor = ragged_guitar_tensor.to_tensor(default_value=0)\n",
    "\n",
    "ragged_drum_tensor = tf.ragged.constant(drum_vector)\n",
    "padded_drum_tensor = ragged_drum_tensor.to_tensor(default_value=0)\n"
   ]
  },
  {
   "cell_type": "code",
   "execution_count": null,
   "id": "c33e7f1d-680b-488c-ab78-f9d5334ae812",
   "metadata": {
    "tags": []
   },
   "outputs": [],
   "source": [
    "guitar_vector_padded = np.pad(guitar_vector, 'pad_width', mode='constant') \n",
    "guitar_vector_padded"
   ]
  }
 ],
 "metadata": {
  "environment": {
   "kernel": "conda-root-py",
   "name": "workbench-notebooks.m118",
   "type": "gcloud",
   "uri": "us-docker.pkg.dev/deeplearning-platform-release/gcr.io/workbench-notebooks:m118"
  },
  "kernelspec": {
   "display_name": "Python 3 (ipykernel)",
   "language": "python",
   "name": "conda-root-py"
  },
  "language_info": {
   "codemirror_mode": {
    "name": "ipython",
    "version": 3
   },
   "file_extension": ".py",
   "mimetype": "text/x-python",
   "name": "python",
   "nbconvert_exporter": "python",
   "pygments_lexer": "ipython3",
   "version": "3.10.13"
  },
  "toc-autonumbering": true
 },
 "nbformat": 4,
 "nbformat_minor": 5
}
