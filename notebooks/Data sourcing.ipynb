{
 "cells": [
  {
   "cell_type": "code",
   "execution_count": 9,
   "metadata": {},
   "outputs": [],
   "source": [
    "import pandas\n",
    "import mido\n",
    "import os\n",
    "import re"
   ]
  },
  {
   "cell_type": "code",
   "execution_count": 10,
   "metadata": {},
   "outputs": [],
   "source": [
    "# Use this to strip titles and instrument data of non-alphabetic characters\n",
    "pattern = \"[^a-zA-Z]+\""
   ]
  },
  {
   "cell_type": "code",
   "execution_count": 11,
   "metadata": {},
   "outputs": [
    {
     "data": {
      "text/plain": [
       "'../raw_data/Unzipped'"
      ]
     },
     "execution_count": 11,
     "metadata": {},
     "output_type": "execute_result"
    }
   ],
   "source": [
    "import os\n",
    "os.getcwd()\n",
    "raw_data_folder = os.path.join(os.pardir, \"raw_data\", \"Unzipped\")\n",
    "output_folder = os.path.join(os.pardir, \"data\")\n",
    "raw_data_folder"
   ]
  },
  {
   "cell_type": "code",
   "execution_count": 21,
   "metadata": {},
   "outputs": [
    {
     "name": "stdout",
     "output_type": "stream",
     "text": [
      "Processing file number: 0\n",
      "Processing file number: 100\n",
      "Processing file number: 200\n",
      "Processing file number: 300\n",
      "Processing file number: 400\n",
      "Processing file number: 500\n",
      "Processing file number: 600\n",
      "Processing file number: 700\n",
      "Processing file number: 800\n",
      "Processing file number: 900\n",
      "Processing file number: 1000\n",
      "Processing file number: 1100\n",
      "Processing file number: 1200\n",
      "Processing file number: 1300\n",
      "Processing file number: 1400\n",
      "Processing file number: 1500\n",
      "Processing file number: 1600\n",
      "Processing file number: 1700\n",
      "Processing file number: 1800\n",
      "Processing file number: 1900\n",
      "Processing file number: 2000\n",
      "Processing file number: 2100\n",
      "Processing file number: 2200\n",
      "Processing file number: 2300\n",
      "Processing file number: 2400\n",
      "Processing file number: 2500\n",
      "Processing file number: 2600\n",
      "Processing file number: 2700\n",
      "Processing file number: 2800\n",
      "Numbers of errors: 2809\n",
      "Numbers of errors: 2810\n",
      "Numbers of errors: 2811\n",
      "Numbers of errors: 2812\n",
      "Numbers of errors: 2813\n",
      "Numbers of errors: 2814\n",
      "Numbers of errors: 2815\n",
      "Numbers of errors: 2816\n",
      "Numbers of errors: 2817\n",
      "Numbers of errors: 2818\n",
      "Numbers of errors: 2819\n",
      "Numbers of errors: 2820\n",
      "Numbers of errors: 2821\n",
      "Numbers of errors: 2822\n",
      "Numbers of errors: 2823\n",
      "Numbers of errors: 2824\n",
      "Numbers of errors: 2825\n",
      "Numbers of errors: 2826\n",
      "Numbers of errors: 2827\n",
      "Numbers of errors: 2828\n",
      "Numbers of errors: 2829\n",
      "Numbers of errors: 2830\n",
      "Numbers of errors: 2831\n",
      "Numbers of errors: 2832\n",
      "Numbers of errors: 2833\n",
      "Numbers of errors: 2834\n",
      "Numbers of errors: 2835\n",
      "Numbers of errors: 2836\n",
      "Numbers of errors: 2837\n",
      "Numbers of errors: 2838\n",
      "Numbers of errors: 2839\n",
      "Numbers of errors: 2840\n",
      "Numbers of errors: 2841\n",
      "Numbers of errors: 2842\n",
      "Numbers of errors: 2843\n",
      "Numbers of errors: 2844\n",
      "Numbers of errors: 2845\n",
      "Numbers of errors: 2846\n",
      "Numbers of errors: 2847\n",
      "Numbers of errors: 2848\n",
      "Numbers of errors: 2849\n",
      "Numbers of errors: 2850\n",
      "Numbers of errors: 2851\n",
      "Numbers of errors: 2852\n",
      "Numbers of errors: 2853\n",
      "Numbers of errors: 2854\n",
      "Numbers of errors: 2855\n",
      "Numbers of errors: 2856\n",
      "Numbers of errors: 2857\n",
      "Numbers of errors: 2858\n",
      "Numbers of errors: 2859\n",
      "Numbers of errors: 2860\n",
      "Numbers of errors: 2861\n",
      "Numbers of errors: 2862\n",
      "Numbers of errors: 2863\n",
      "Numbers of errors: 2864\n",
      "Numbers of errors: 2865\n",
      "Numbers of errors: 2866\n",
      "Numbers of errors: 2867\n",
      "Numbers of errors: 2868\n",
      "Numbers of errors: 2869\n",
      "Numbers of errors: 2870\n",
      "Numbers of errors: 2871\n",
      "Numbers of errors: 2872\n",
      "Numbers of errors: 2873\n",
      "Numbers of errors: 2874\n",
      "Numbers of errors: 2875\n",
      "Numbers of errors: 2876\n",
      "Numbers of errors: 2877\n",
      "Numbers of errors: 2878\n",
      "Numbers of errors: 2879\n",
      "Numbers of errors: 2880\n",
      "Numbers of errors: 2881\n",
      "Numbers of errors: 2882\n",
      "Numbers of errors: 2883\n",
      "Numbers of errors: 2884\n",
      "Numbers of errors: 2885\n",
      "Numbers of errors: 2886\n",
      "Numbers of errors: 2887\n",
      "Numbers of errors: 2888\n",
      "Numbers of errors: 2889\n",
      "Numbers of errors: 2890\n",
      "Numbers of errors: 2891\n",
      "Numbers of errors: 2892\n",
      "Processing file number: 2900\n",
      "Processing file number: 3000\n",
      "Processing file number: 3100\n",
      "Processing file number: 3200\n"
     ]
    },
    {
     "ename": "KeyboardInterrupt",
     "evalue": "",
     "output_type": "error",
     "traceback": [
      "\u001b[0;31m---------------------------------------------------------------------------\u001b[0m",
      "\u001b[0;31mKeyboardInterrupt\u001b[0m                         Traceback (most recent call last)",
      "Cell \u001b[0;32mIn[21], line 4\u001b[0m\n\u001b[1;32m      2\u001b[0m errors \u001b[38;5;241m=\u001b[39m \u001b[38;5;241m0\u001b[39m\n\u001b[1;32m      3\u001b[0m \u001b[38;5;28;01mfor\u001b[39;00m idx, child \u001b[38;5;129;01min\u001b[39;00m \u001b[38;5;28menumerate\u001b[39m(os\u001b[38;5;241m.\u001b[39mlistdir(raw_data_folder)):\n\u001b[0;32m----> 4\u001b[0m     child_path \u001b[38;5;241m=\u001b[39m \u001b[43mos\u001b[49m\u001b[38;5;241;43m.\u001b[39;49m\u001b[43mpath\u001b[49m\u001b[38;5;241;43m.\u001b[39;49m\u001b[43mjoin\u001b[49m\u001b[43m(\u001b[49m\u001b[43mraw_data_folder\u001b[49m\u001b[43m,\u001b[49m\u001b[43m \u001b[49m\u001b[43mchild\u001b[49m\u001b[43m)\u001b[49m\n\u001b[1;32m      5\u001b[0m     \u001b[38;5;28;01mif\u001b[39;00m (idx \u001b[38;5;241m==\u001b[39m \u001b[38;5;241m0\u001b[39m) \u001b[38;5;129;01mor\u001b[39;00m (idx \u001b[38;5;241m%\u001b[39m \u001b[38;5;241m100\u001b[39m \u001b[38;5;241m==\u001b[39m \u001b[38;5;241m0\u001b[39m):\n\u001b[1;32m      6\u001b[0m         \u001b[38;5;28mprint\u001b[39m(\u001b[38;5;124mf\u001b[39m\u001b[38;5;124m\"\u001b[39m\u001b[38;5;124mProcessing file number: \u001b[39m\u001b[38;5;132;01m{\u001b[39;00midx\u001b[38;5;132;01m}\u001b[39;00m\u001b[38;5;124m\"\u001b[39m)\n",
      "File \u001b[0;32m~/.pyenv/versions/3.10.6/lib/python3.10/posixpath.py:83\u001b[0m, in \u001b[0;36mjoin\u001b[0;34m(a, *p)\u001b[0m\n\u001b[1;32m     81\u001b[0m     path[:\u001b[38;5;241m0\u001b[39m] \u001b[38;5;241m+\u001b[39m sep  \u001b[38;5;66;03m#23780: Ensure compatible data type even if p is null.\u001b[39;00m\n\u001b[1;32m     82\u001b[0m \u001b[38;5;28;01mfor\u001b[39;00m b \u001b[38;5;129;01min\u001b[39;00m \u001b[38;5;28mmap\u001b[39m(os\u001b[38;5;241m.\u001b[39mfspath, p):\n\u001b[0;32m---> 83\u001b[0m     \u001b[38;5;28;01mif\u001b[39;00m \u001b[43mb\u001b[49m\u001b[38;5;241;43m.\u001b[39;49m\u001b[43mstartswith\u001b[49m\u001b[43m(\u001b[49m\u001b[43msep\u001b[49m\u001b[43m)\u001b[49m:\n\u001b[1;32m     84\u001b[0m         path \u001b[38;5;241m=\u001b[39m b\n\u001b[1;32m     85\u001b[0m     \u001b[38;5;28;01melif\u001b[39;00m \u001b[38;5;129;01mnot\u001b[39;00m path \u001b[38;5;129;01mor\u001b[39;00m path\u001b[38;5;241m.\u001b[39mendswith(sep):\n",
      "\u001b[0;31mKeyboardInterrupt\u001b[0m: "
     ]
    }
   ],
   "source": [
    "songs = []\n",
    "errors = 0\n",
    "for idx, child in enumerate(os.listdir(raw_data_folder)):\n",
    "    child_path = os.path.join(raw_data_folder, child)\n",
    "    if (idx == 0) or (idx % 100 == 0):\n",
    "        print(f\"Processing file number: {idx}\")\n",
    "    if (errors > 0) and (errors % 25 == 0):\n",
    "        print(f\"Numbers of errors: {idx}\")\n",
    "\n",
    "    # If the path is a midi file, load the file\n",
    "    try:\n",
    "        if child_path.endswith(\".mid\"):\n",
    "            song_path = child_path\n",
    "            midi_file = mido.MidiFile(song_path, clip=True)\n",
    "            song = {\n",
    "                \"filename\": child,\n",
    "                \"title\": re.sub(pattern, \"\", child[:-4]).lower(),\n",
    "                \"folder\": \"\",\n",
    "                \"midi\": midi_file}\n",
    "            songs.append(song)\n",
    "\n",
    "        # If the path is a folder, load the midi files inside\n",
    "        elif os.path.isdir(child_path):\n",
    "            for file in os.listdir(child_path):\n",
    "                song_path = os.path.join(child_path, file)\n",
    "                if song_path.endswith(\".mid\"):\n",
    "                    midi_file = mido.MidiFile(song_path, clip=True)\n",
    "                    song = {\n",
    "                        \"filename\": file,\n",
    "                        \"title\": re.sub(pattern, \"\", file[:-4]).lower(),\n",
    "                        \"folder\": child,\n",
    "                        \"midi\": midi_file}\n",
    "                    songs.append(song)\n",
    "\n",
    "    except Exception as ke:\n",
    "        errors +=1\n",
    "\n",
    "print(f\"Found {len(songs)} .mid files in {raw_data_folder}.\")\n",
    "print(f\"Encountered {errors} errors.\")"
   ]
  },
  {
   "cell_type": "code",
   "execution_count": null,
   "metadata": {},
   "outputs": [
    {
     "name": "stdout",
     "output_type": "stream",
     "text": [
      "zombie\n",
      "hotelcalifornia\n",
      "wishyouwerehere\n",
      "zombie\n"
     ]
    }
   ],
   "source": [
    "#for song in songs:\n",
    "#    print(song[\"title\"])"
   ]
  },
  {
   "cell_type": "code",
   "execution_count": null,
   "metadata": {},
   "outputs": [],
   "source": [
    "drum_and_guitar_songs = {}\n",
    "\n",
    "guitars = {\"guitar\", \"guita\", \"gtr\", \"egtr\", \"eguitar\"}\n",
    "drums = {\"drums\", \"drum\"}\n",
    "\n",
    "pattern = \"[^a-zA-Z ]+\"\n",
    "\n",
    "# TODO check track text\n",
    "for song in songs:\n",
    "    has_guitar = False\n",
    "    has_drum = True\n",
    "    for track in song[\"midi\"]:\n",
    "        # Check if instruments in track name\n",
    "        if track.type == \"track_name\":\n",
    "            words = {re.sub(pattern, '', word.lower()) for word in track.name.split()}\n",
    "            if words.intersection(guitars):\n",
    "                has_guitar = True\n",
    "            if words.intersection(drums):\n",
    "                has_drums = True\n",
    "\n",
    "    if has_drum and has_guitar:\n",
    "        drum_and_guitar_songs[song[\"title\"]] = song\n",
    "\n",
    "    else:\n",
    "        for track in song[\"midi\"]:\n",
    "            if track.type == \"text\":\n",
    "                words = {re.sub(pattern, '', word.lower())  for word in track.text.split()}\n",
    "                if words.intersection(guitars):\n",
    "                    has_guitar = True\n",
    "                if words.intersection(drums):\n",
    "                    has_drums = True\n",
    "            if has_drum and has_guitar:\n",
    "                drum_and_guitar_songs[song[\"title\"]] = song\n"
   ]
  },
  {
   "cell_type": "code",
   "execution_count": null,
   "metadata": {},
   "outputs": [
    {
     "name": "stdout",
     "output_type": "stream",
     "text": [
      "zombie\n",
      "hotelcalifornia\n",
      "Saved 2 to ../data\n"
     ]
    }
   ],
   "source": [
    "for  k, v in drum_and_guitar_songs.items():\n",
    "    v[\"midi\"].save(f'{output_folder}/{v[\"filename\"]}')\n",
    "\n",
    "print(f\"Saved {len(drum_and_guitar_songs)} midi files to {output_folder}\")"
   ]
  }
 ],
 "metadata": {
  "kernelspec": {
   "display_name": "BandIt",
   "language": "python",
   "name": "python3"
  },
  "language_info": {
   "codemirror_mode": {
    "name": "ipython",
    "version": 3
   },
   "file_extension": ".py",
   "mimetype": "text/x-python",
   "name": "python",
   "nbconvert_exporter": "python",
   "pygments_lexer": "ipython3",
   "version": "3.10.6"
  }
 },
 "nbformat": 4,
 "nbformat_minor": 2
}
