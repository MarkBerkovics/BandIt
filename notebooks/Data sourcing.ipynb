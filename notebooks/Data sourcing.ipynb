{
 "cells": [
  {
   "cell_type": "code",
   "execution_count": 14,
   "metadata": {},
   "outputs": [],
   "source": [
    "import pandas\n",
    "import mido\n",
    "import os\n",
    "import re\n",
    "import shutil\n",
    "from multiprocessing import Pool\n"
   ]
  },
  {
   "cell_type": "code",
   "execution_count": null,
   "metadata": {},
   "outputs": [],
   "source": [
    "# Use this to strip titles and instrument data of non-alphabetic characters\n",
    "pattern = \"[^a-zA-Z]+\""
   ]
  },
  {
   "cell_type": "code",
   "execution_count": 35,
   "metadata": {},
   "outputs": [
    {
     "data": {
      "text/plain": [
       "'../raw_data/Unzipped'"
      ]
     },
     "execution_count": 35,
     "metadata": {},
     "output_type": "execute_result"
    }
   ],
   "source": [
    "import os\n",
    "os.getcwd()\n",
    "raw_data_folder = os.path.join(os.pardir, \"raw_data\", \"Unzipped\")\n",
    "#raw_data_folder = os.path.join(os.pardir, \"test_data\")\n",
    "output_folder = os.path.join(os.pardir, \"data_test\")\n",
    "raw_data_folder"
   ]
  },
  {
   "cell_type": "code",
   "execution_count": null,
   "metadata": {},
   "outputs": [],
   "source": []
  },
  {
   "cell_type": "code",
   "execution_count": 38,
   "metadata": {},
   "outputs": [],
   "source": [
    "class FileProcessor():\n",
    "    def __init__(self):\n",
    "        self.saved_songs = []\n",
    "        self.errors = 0\n",
    "        self.num_processed = 0\n",
    "        self.already_saved = os.listdir(output_folder)\n",
    "\n",
    "    def parse_file(self, child):\n",
    "        self.num_processed += 1\n",
    "        if self.num_processed % 500 == 0:\n",
    "            print(f\"Processing file number: {self.num_processed}\")\n",
    "\n",
    "        # If the path is a midi file, load the file\n",
    "        child_path = os.path.join(raw_data_folder, child)\n",
    "        try:\n",
    "            if child_path.endswith(\".mid\") and child not in self.already_saved:\n",
    "                song_path = child_path\n",
    "                midi_file = mido.MidiFile(song_path, clip=True)\n",
    "                dg_song = self.continueidentify_drum_and_guitar(midi_file)\n",
    "                if dg_song:\n",
    "                    title = re.sub(pattern, \"\", child[:-4]).lower()\n",
    "                    if title not in saved_songs:\n",
    "                        self.saved_songs.append(title)\n",
    "                        #midi_file.save(f'{output_folder}/{child}')\n",
    "                        shutil.copyfile(song_path, f'{output_folder}/{child}')\n",
    "\n",
    "\n",
    "            # If the path is a folder, load the midi files inside\n",
    "            elif os.path.isdir(child_path):\n",
    "                for child in os.listdir(child_path):\n",
    "                    song_path = os.path.join(child_path, child)\n",
    "                    if song_path.endswith(\".mid\") and child not in self.already_saved:\n",
    "                        midi_file = mido.MidiFile(song_path, clip=True)\n",
    "                        dg_song = self.identify_drum_and_guitar(midi_file)\n",
    "                        if dg_song:\n",
    "                            title = re.sub(pattern, \"\", child[:-4]).lower()\n",
    "                            if title not in saved_songs:\n",
    "                                self.saved_songs.append(title)\n",
    "                                #midi_file.save(f'{output_folder}/{child}')\n",
    "                                shutil.copyfile(song_path, f'{output_folder}/{child}')\n",
    "\n",
    "        except Exception as ke:\n",
    "            self.errors +=1\n",
    "\n",
    "\n",
    "    def identify_drum_and_guitar(self, midi):\n",
    "        guitars = {\"guitar\", \"guita\", \"gtr\", \"egtr\", \"eguitar\"}\n",
    "        drums = {\"drums\", \"drum\", \"drumsperc\", \"perc\", \"percussion\"}\n",
    "\n",
    "        pattern = \"[^a-zA-Z ]+\"\n",
    "        has_drum = False\n",
    "        has_guitar = False\n",
    "\n",
    "        for track in midi:\n",
    "            # Check if instruments in track name\n",
    "            if track.type == \"track_name\":\n",
    "                words = {re.sub(pattern, '', word.lower()) for word in track.name.split()}\n",
    "                if words.intersection(guitars):\n",
    "                    has_guitar = True\n",
    "                if words.intersection(drums):\n",
    "                    has_drum = True\n",
    "        if has_drum and has_guitar:\n",
    "            return True\n",
    "\n",
    "        # Check if instruments in track text\n",
    "        for track in midi:\n",
    "            if track.type == \"text\":\n",
    "                words = {re.sub(pattern, '', word.lower())  for word in track.text.split()}\n",
    "                if words.intersection(guitars):\n",
    "                    has_guitar = True\n",
    "                if words.intersection(drums):\n",
    "                    has_drum = True\n",
    "        if has_drum and has_guitar:\n",
    "            return True"
   ]
  },
  {
   "cell_type": "code",
   "execution_count": 40,
   "metadata": {},
   "outputs": [
    {
     "name": "stdout",
     "output_type": "stream",
     "text": [
      "CPU times: user 6 µs, sys: 0 ns, total: 6 µs\n",
      "Wall time: 12.2 µs\n",
      "Gettting started....\n"
     ]
    }
   ],
   "source": [
    "%time\n",
    "file_processor = FileProcessor()\n",
    "with Pool(6) as pools:\n",
    "    print(\"Gettting started....\")\n",
    "    pools.map(file_processor.parse_file, os.listdir(raw_data_folder))\n",
    "\n",
    "print(f\"Processed {file_processor.num_processed} files in {raw_data_folder}.\")\n",
    "print(f\"Encountered {file_processor.erors} errors.\")\n",
    "print(\"Number of songs already in data folder from a previous run:\", len(file_processor.already_saved))\n",
    "print(\"Number of new songs saved in data folder in this run\", len(file_processor.saved_songs))\n",
    "print(\"Total number of non-duplicate songs with drums and guitar saved:\", len(file_processor.saved_songs) + len(already_saved))"
   ]
  },
  {
   "cell_type": "code",
   "execution_count": null,
   "metadata": {},
   "outputs": [],
   "source": []
  }
 ],
 "metadata": {
  "kernelspec": {
   "display_name": "BandIt",
   "language": "python",
   "name": "python3"
  },
  "language_info": {
   "codemirror_mode": {
    "name": "ipython",
    "version": 3
   },
   "file_extension": ".py",
   "mimetype": "text/x-python",
   "name": "python",
   "nbconvert_exporter": "python",
   "pygments_lexer": "ipython3",
   "version": "3.10.6"
  }
 },
 "nbformat": 4,
 "nbformat_minor": 2
}
