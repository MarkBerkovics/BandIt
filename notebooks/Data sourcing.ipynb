{
 "cells": [
  {
   "cell_type": "code",
   "execution_count": 1,
   "metadata": {},
   "outputs": [],
   "source": [
    "import pandas\n",
    "import mido\n",
    "import os\n",
    "import re\n",
    "import shutil"
   ]
  },
  {
   "cell_type": "code",
   "execution_count": 2,
   "metadata": {},
   "outputs": [],
   "source": [
    "# Use this to strip titles and instrument data of non-alphabetic characters\n",
    "pattern = \"[^a-zA-Z]+\""
   ]
  },
  {
   "cell_type": "code",
   "execution_count": 3,
   "metadata": {},
   "outputs": [
    {
     "data": {
      "text/plain": [
       "'../raw_data/Unzipped'"
      ]
     },
     "execution_count": 3,
     "metadata": {},
     "output_type": "execute_result"
    }
   ],
   "source": [
    "import os\n",
    "os.getcwd()\n",
    "raw_data_folder = os.path.join(os.pardir, \"raw_data\", \"Unzipped\")\n",
    "#raw_data_folder = os.path.join(os.pardir, \"test_data\")\n",
    "output_folder = os.path.join(os.pardir, \"data\")\n",
    "raw_data_folder"
   ]
  },
  {
   "cell_type": "code",
   "execution_count": 4,
   "metadata": {},
   "outputs": [],
   "source": [
    "already_saved = os.listdir(output_folder)"
   ]
  },
  {
   "cell_type": "code",
   "execution_count": 5,
   "metadata": {},
   "outputs": [],
   "source": [
    "def identify_drum_and_guitar(midi):\n",
    "    guitars = {\"guitar\", \"guita\", \"gtr\", \"egtr\", \"eguitar\"}\n",
    "    drums = {\"drums\", \"drum\", \"drumsperc\", \"perc\", \"percussion\"}\n",
    "\n",
    "    pattern = \"[^a-zA-Z ]+\"\n",
    "    has_drum = False\n",
    "    has_guitar = False\n",
    "\n",
    "    for track in midi:\n",
    "        # Check if instruments in track name\n",
    "        if track.type == \"track_name\":\n",
    "            words = {re.sub(pattern, '', word.lower()) for word in track.name.split()}\n",
    "            if words.intersection(guitars):\n",
    "                has_guitar = True\n",
    "            if words.intersection(drums):\n",
    "                has_drum = True\n",
    "    if has_drum and has_guitar:\n",
    "        return True\n",
    "\n",
    "    # Check if instruments in track text\n",
    "    for track in midi:\n",
    "        if track.type == \"text\":\n",
    "            words = {re.sub(pattern, '', word.lower())  for word in track.text.split()}\n",
    "            if words.intersection(guitars):\n",
    "                has_guitar = True\n",
    "            if words.intersection(drums):\n",
    "                has_drum = True\n",
    "    if has_drum and has_guitar:\n",
    "        return True"
   ]
  },
  {
   "cell_type": "code",
   "execution_count": 6,
   "metadata": {},
   "outputs": [
    {
     "name": "stdout",
     "output_type": "stream",
     "text": [
      "CPU times: user 9 µs, sys: 2 µs, total: 11 µs\n",
      "Wall time: 21.5 µs\n",
      "Processing file number: 0\n",
      "Processing file number: 250\n",
      "Processing file number: 500\n",
      "Processing file number: 750\n",
      "Processing file number: 1000\n",
      "Processing file number: 1250\n",
      "Processing file number: 1500\n",
      "Processing file number: 1750\n",
      "Processing file number: 2000\n",
      "Processing file number: 2250\n",
      "Processing file number: 2500\n",
      "Processing file number: 2750\n",
      "Processing file number: 3000\n",
      "Processing file number: 3250\n",
      "Processing file number: 3500\n",
      "Processing file number: 3750\n",
      "Processing file number: 4000\n",
      "Processing file number: 4250\n",
      "Processing file number: 4500\n",
      "Processing file number: 4750\n",
      "Processing file number: 5000\n",
      "Processing file number: 5250\n",
      "Processing file number: 5500\n",
      "Processing file number: 5750\n",
      "Processing file number: 6000\n",
      "Processing file number: 6250\n",
      "Processing file number: 6500\n",
      "Found 1108 .mid files in ../raw_data/Unzipped.\n",
      "Encountered 77 errors.\n"
     ]
    }
   ],
   "source": [
    "%time\n",
    "\n",
    "saved_songs = []\n",
    "songs = []\n",
    "errors = 0\n",
    "\n",
    "for idx, child in enumerate(os.listdir(raw_data_folder)):\n",
    "    if (idx == 0) or (idx % 250 == 0):\n",
    "        print(f\"Processing file number: {idx}\")\n",
    "\n",
    "    # If the path is a midi file, load the file\n",
    "    child_path = os.path.join(raw_data_folder, child)\n",
    "    try:\n",
    "        if child_path.endswith(\".mid\") and child not in already_saved:\n",
    "            song_path = child_path\n",
    "            midi_file = mido.MidiFile(song_path, clip=True)\n",
    "            dg_song = identify_drum_and_guitar(midi_file)\n",
    "            if dg_song:\n",
    "                title = re.sub(pattern, \"\", child[:-4]).lower()\n",
    "                if title not in saved_songs:\n",
    "                    saved_songs.append(title)\n",
    "                    #midi_file.save(f'{output_folder}/{child}')\n",
    "                    shutil.copyfile(song_path, f'{output_folder}/{child}')\n",
    "\n",
    "\n",
    "        # If the path is a folder, load the midi files inside\n",
    "        elif os.path.isdir(child_path):\n",
    "            for child in os.listdir(child_path):\n",
    "                song_path = os.path.join(child_path, child)\n",
    "                if song_path.endswith(\".mid\") and child not in already_saved:\n",
    "                    midi_file = mido.MidiFile(song_path, clip=True)\n",
    "                    dg_song = identify_drum_and_guitar(midi_file)\n",
    "                    if dg_song:\n",
    "                        title = re.sub(pattern, \"\", child[:-4]).lower()\n",
    "                        if title not in saved_songs:\n",
    "                            saved_songs.append(title)\n",
    "                            #midi_file.save(f'{output_folder}/{child}')\n",
    "                            shutil.copyfile(song_path, f'{output_folder}/{child}')\n",
    "\n",
    "    except Exception as ke:\n",
    "        errors +=1\n",
    "\n",
    "print(f\"Processed {idx+1} files in {raw_data_folder}.\")\n",
    "print(f\"Encountered {errors} errors.\")\n",
    "print(\"Number of songs already in data folder from a previous run:\", len(already_saved))\n",
    "print(\"Number of new songs saved in data folder in this run\", len(saved_songs))\n",
    "print(\"Total number of non-duplicate songs with drums and guitar saved:\", len(saved_songs) + len(already_saved))"
   ]
  },
  {
   "cell_type": "code",
   "execution_count": 11,
   "metadata": {},
   "outputs": [
    {
     "name": "stdout",
     "output_type": "stream",
     "text": [
      "Processed 6695 files in ../raw_data/Unzipped.\n",
      "Encountered 77 errors.\n",
      "Number of songs already in data folder from a previous run: 405\n",
      "Number of new songs saved in data folder in this run 1108\n",
      "Total number of non-duplicate songs with drums and guitar saved: 1513\n"
     ]
    }
   ],
   "source": [
    "print(f\"Processed {idx+1} files in {raw_data_folder}.\")\n",
    "print(f\"Encountered {errors} errors.\")\n",
    "print(\"Number of songs already in data folder from a previous run:\", len(already_saved))\n",
    "print(\"Number of new songs saved in data folder in this run\", len(saved_songs))\n",
    "print(\"Total number of non-duplicate songs with drums and guitar saved:\", len(saved_songs) + len(already_saved))"
   ]
  },
  {
   "cell_type": "code",
   "execution_count": null,
   "metadata": {},
   "outputs": [],
   "source": []
  }
 ],
 "metadata": {
  "kernelspec": {
   "display_name": "BandIt",
   "language": "python",
   "name": "python3"
  },
  "language_info": {
   "codemirror_mode": {
    "name": "ipython",
    "version": 3
   },
   "file_extension": ".py",
   "mimetype": "text/x-python",
   "name": "python",
   "nbconvert_exporter": "python",
   "pygments_lexer": "ipython3",
   "version": "3.10.6"
  }
 },
 "nbformat": 4,
 "nbformat_minor": 2
}
