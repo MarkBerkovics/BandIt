{
 "cells": [
  {
   "cell_type": "code",
   "execution_count": 2,
   "metadata": {},
   "outputs": [],
   "source": [
    "import pandas\n",
    "import mido\n",
    "import os\n",
    "import re\n",
    "import shutil\n",
    "from multiprocessing import Pool, Value, Array\n",
    "import glob\n",
    "import ntpath\n",
    "import time\n"
   ]
  },
  {
   "cell_type": "code",
   "execution_count": 3,
   "metadata": {},
   "outputs": [],
   "source": [
    "# Use this to strip titles and instrument data of non-alphabetic characters\n",
    "pattern = \"[^a-zA-Z]+\""
   ]
  },
  {
   "cell_type": "code",
   "execution_count": 4,
   "metadata": {},
   "outputs": [
    {
     "data": {
      "text/plain": [
       "'/home/branchedelac/code/MarkBerkovics/BandIt/notebooks'"
      ]
     },
     "execution_count": 4,
     "metadata": {},
     "output_type": "execute_result"
    }
   ],
   "source": [
    "import os\n",
    "os.getcwd()\n"
   ]
  },
  {
   "cell_type": "code",
   "execution_count": 5,
   "metadata": {},
   "outputs": [],
   "source": [
    "class FileProcessor():\n",
    "    def __init__(self, output_path):\n",
    "        self.saved_songs = []\n",
    "        self.errors = 0\n",
    "        self.num_processed = 0\n",
    "        self.output_path = output_path\n",
    "\n",
    "    def parse_file(self, midi_path):\n",
    "        try:\n",
    "            midi_file = mido.MidiFile(midi_path, clip=True)\n",
    "            dg_song = self.identify_drum_and_guitar(midi_file)\n",
    "            if dg_song:\n",
    "                location_, filename = ntpath.split(midi_path)\n",
    "                midi_file.save(f'{self.output_path}/{filename}')\n",
    "                #shutil.copyfile(midi_file, f'{self.output_path}/{filename}')\n",
    "\n",
    "        except Exception as ke:\n",
    "            self.errors +=1\n",
    "\n",
    "\n",
    "    def identify_drum_and_guitar(self, midi):\n",
    "        guitars = {\"guitar\", \"guita\", \"gtr\", \"egtr\", \"eguitar\"}\n",
    "        drums = {\"drums\", \"drum\", \"drumsperc\", \"perc\", \"percussion\"}\n",
    "\n",
    "        pattern = \"[^a-zA-Z ]+\"\n",
    "        has_drum = False\n",
    "        has_guitar = False\n",
    "\n",
    "        for track in midi:\n",
    "            # Check if instruments in track name\n",
    "            if track.type == \"track_name\":\n",
    "                words = {re.sub(pattern, '', word.lower()) for word in track.name.split()}\n",
    "                if words.intersection(guitars):\n",
    "                    has_guitar = True\n",
    "                if words.intersection(drums):\n",
    "                    has_drum = True\n",
    "        if has_drum and has_guitar:\n",
    "            return True\n",
    "\n",
    "        # Check if instruments in track text\n",
    "        for track in midi:\n",
    "            if track.type == \"text\":\n",
    "                words = {re.sub(pattern, '', word.lower())  for word in track.text.split()}\n",
    "                if words.intersection(guitars):\n",
    "                    has_guitar = True\n",
    "                if words.intersection(drums):\n",
    "                    has_drum = True\n",
    "        if has_drum and has_guitar:\n",
    "            return True"
   ]
  },
  {
   "cell_type": "code",
   "execution_count": 24,
   "metadata": {},
   "outputs": [
    {
     "name": "stdout",
     "output_type": "stream",
     "text": [
      "../data_deduped\n"
     ]
    }
   ],
   "source": [
    "# Get raw midi files from..\n",
    "raw_data_folder = os.path.join(os.pardir, \"raw_data\", \"Unzipped\")\n",
    "#raw_data_folder = os.path.join(os.pardir, \"test_data\")\n",
    "midi_file_paths = glob.glob(f\"{raw_data_folder}/*.mid\") + glob.glob(f\"{raw_data_folder}/*/*.mid\")\n",
    "\n",
    "# Save all midi guitar and drum files to...\n",
    "output_folder = os.path.join(os.pardir, \"data_deduped\")\n",
    "print(output_folder)"
   ]
  },
  {
   "cell_type": "code",
   "execution_count": 25,
   "metadata": {},
   "outputs": [
    {
     "name": "stdout",
     "output_type": "stream",
     "text": [
      "CPU times: user 4 µs, sys: 2 µs, total: 6 µs\n",
      "Wall time: 10 µs\n",
      "Processing 4062 files in ../raw_data/Unzipped...\n",
      "Saving to ../data_deduped...\n",
      "Removing duplicates from ../data_deduped...\n",
      "[]\n",
      "Total number of non-duplicate songs with drums and guitar saved: 0\n"
     ]
    }
   ],
   "source": [
    "%time\n",
    "file_processor = FileProcessor(output_folder)\n",
    "\n",
    "# Identify and save files with guitar and drum\n",
    "print(f\"Processing {len(midi_file_paths)} files in {raw_data_folder}...\")\n",
    "print(f\"Saving to {output_folder}...\")\n",
    "pool = Pool(5)\n",
    "result = pool.map(file_processor.parse_file, midi_file_paths)\n",
    "\n",
    "# Remove duplicated\n",
    "print(f\"Removing duplicates from {output_folder}...\")\n",
    "already_seen = []\n",
    "saved_files = glob.glob(f\"{output_folder}/*.mid\")\n",
    "print(saved_files)\n",
    "for midi_file in saved_files:\n",
    "    title = re.sub(pattern, \"\", midi_file).lower()\n",
    "    if title in already_seen:\n",
    "        os.remove(midi_file)\n",
    "    else:\n",
    "        already_seen.append(title)\n",
    "\n",
    "print(\"Total number of non-duplicate songs with drums and guitar saved:\", len(saved_files))\n"
   ]
  },
  {
   "cell_type": "code",
   "execution_count": null,
   "metadata": {},
   "outputs": [],
   "source": [
    "print(\"Total number of non-duplicate songs with drums and guitar saved:\", len(saved_files))\n"
   ]
  }
 ],
 "metadata": {
  "kernelspec": {
   "display_name": "BandIt",
   "language": "python",
   "name": "python3"
  },
  "language_info": {
   "codemirror_mode": {
    "name": "ipython",
    "version": 3
   },
   "file_extension": ".py",
   "mimetype": "text/x-python",
   "name": "python",
   "nbconvert_exporter": "python",
   "pygments_lexer": "ipython3",
   "version": "3.10.6"
  }
 },
 "nbformat": 4,
 "nbformat_minor": 2
}
