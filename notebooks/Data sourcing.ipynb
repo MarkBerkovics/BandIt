{
 "cells": [
  {
   "cell_type": "code",
   "execution_count": 105,
   "metadata": {},
   "outputs": [],
   "source": [
    "import pandas\n",
    "import mido\n",
    "import os\n",
    "import re\n",
    "import shutil\n",
    "from multiprocessing import Pool, Value, Array\n",
    "import glob\n",
    "import ntpath\n",
    "import time\n"
   ]
  },
  {
   "cell_type": "code",
   "execution_count": null,
   "metadata": {},
   "outputs": [],
   "source": [
    "# Use this to strip titles and instrument data of non-alphabetic characters\n",
    "pattern = \"[^a-zA-Z]+\""
   ]
  },
  {
   "cell_type": "code",
   "execution_count": 35,
   "metadata": {},
   "outputs": [
    {
     "data": {
      "text/plain": [
       "'../raw_data/Unzipped'"
      ]
     },
     "execution_count": 35,
     "metadata": {},
     "output_type": "execute_result"
    }
   ],
   "source": [
    "import os\n",
    "os.getcwd()\n"
   ]
  },
  {
   "cell_type": "code",
   "execution_count": 112,
   "metadata": {},
   "outputs": [],
   "source": [
    "class FileProcessor():\n",
    "    def __init__(self):\n",
    "        self.saved_songs = []\n",
    "        self.errors = 0\n",
    "        self.num_processed = 0\n",
    "\n",
    "    def parse_file(self, midi_path):\n",
    "        print(\"hey\")\n",
    "        try:\n",
    "            midi_file = mido.MidiFile(midi_path, clip=True)\n",
    "            dg_song = self.continueidentify_drum_and_guitar(midi_file)\n",
    "            if dg_song:\n",
    "                location_, filename = ntpath.split(midi_path)\n",
    "                #midi_file.save(f'{output_folder}/{child}')\n",
    "                shutil.copyfile(song_path, f'{output_folder}/{filename}')\n",
    "\n",
    "        except Exception as ke:\n",
    "            self.errors +=1\n",
    "\n",
    "\n",
    "    def identify_drum_and_guitar(self, midi):\n",
    "        guitars = {\"guitar\", \"guita\", \"gtr\", \"egtr\", \"eguitar\"}\n",
    "        drums = {\"drums\", \"drum\", \"drumsperc\", \"perc\", \"percussion\"}\n",
    "\n",
    "        pattern = \"[^a-zA-Z ]+\"\n",
    "        has_drum = False\n",
    "        has_guitar = False\n",
    "\n",
    "        for track in midi:\n",
    "            # Check if instruments in track name\n",
    "            if track.type == \"track_name\":\n",
    "                words = {re.sub(pattern, '', word.lower()) for word in track.name.split()}\n",
    "                if words.intersection(guitars):\n",
    "                    has_guitar = True\n",
    "                if words.intersection(drums):\n",
    "                    has_drum = True\n",
    "        if has_drum and has_guitar:\n",
    "            return True\n",
    "\n",
    "        # Check if instruments in track text\n",
    "        for track in midi:\n",
    "            if track.type == \"text\":\n",
    "                words = {re.sub(pattern, '', word.lower())  for word in track.text.split()}\n",
    "                if words.intersection(guitars):\n",
    "                    has_guitar = True\n",
    "                if words.intersection(drums):\n",
    "                    has_drum = True\n",
    "        if has_drum and has_guitar:\n",
    "            return True"
   ]
  },
  {
   "cell_type": "code",
   "execution_count": 115,
   "metadata": {},
   "outputs": [
    {
     "name": "stdout",
     "output_type": "stream",
     "text": [
      "../data_test\n"
     ]
    }
   ],
   "source": [
    "# Get raw midi files from..\n",
    "raw_data_folder = os.path.join(os.pardir, \"raw_data\", \"Unzipped\")\n",
    "#raw_data_folder = os.path.join(os.pardir, \"test_data\")\n",
    "midi_file_paths = glob.glob(f\"{raw_data_folder}/*.mid\") + glob.glob(f\"{raw_data_folder}/*/*.mid\")\n",
    "\n",
    "# Save all midi guitar and drum files to...\n",
    "output_folder = os.path.join(os.pardir, \"data_test\")\n",
    "print(output_folder)"
   ]
  },
  {
   "cell_type": "code",
   "execution_count": 107,
   "metadata": {},
   "outputs": [
    {
     "name": "stdout",
     "output_type": "stream",
     "text": [
      "4062\n"
     ]
    }
   ],
   "source": [
    "print(len(midi_file_paths))"
   ]
  },
  {
   "cell_type": "code",
   "execution_count": 114,
   "metadata": {},
   "outputs": [
    {
     "name": "stdout",
     "output_type": "stream",
     "text": [
      "CPU times: user 4 µs, sys: 0 ns, total: 4 µs\n",
      "Wall time: 8.58 µs\n",
      "Processing 4062 files in ../raw_data/Unzipped...\n",
      "Saving to ../data_test...\n",
      "Number of tasks left: 20\n",
      "Number of tasks left: 20\n",
      "Number of tasks left: 15\n",
      "Number of tasks left: 10\n",
      "Number of tasks left: 5\n",
      "Number of tasks left: 3\n",
      "Removing duplicates from ../data_test...\n"
     ]
    },
    {
     "ename": "TypeError",
     "evalue": "list.append() takes exactly one argument (0 given)",
     "output_type": "error",
     "traceback": [
      "\u001b[0;31m---------------------------------------------------------------------------\u001b[0m",
      "\u001b[0;31mTypeError\u001b[0m                                 Traceback (most recent call last)",
      "Cell \u001b[0;32mIn[114], line 21\u001b[0m\n\u001b[1;32m     19\u001b[0m         os\u001b[38;5;241m.\u001b[39mremove()\n\u001b[1;32m     20\u001b[0m     \u001b[38;5;28;01melse\u001b[39;00m:\n\u001b[0;32m---> 21\u001b[0m         \u001b[43malready_seen\u001b[49m\u001b[38;5;241;43m.\u001b[39;49m\u001b[43mappend\u001b[49m\u001b[43m(\u001b[49m\u001b[43m)\u001b[49m\n\u001b[1;32m     23\u001b[0m \u001b[38;5;28mprint\u001b[39m(\u001b[38;5;124mf\u001b[39m\u001b[38;5;124m\"\u001b[39m\u001b[38;5;124mProcessed \u001b[39m\u001b[38;5;132;01m{\u001b[39;00mfile_processor\u001b[38;5;241m.\u001b[39mnum_processed\u001b[38;5;132;01m}\u001b[39;00m\u001b[38;5;124m files in \u001b[39m\u001b[38;5;132;01m{\u001b[39;00mraw_data_folder\u001b[38;5;132;01m}\u001b[39;00m\u001b[38;5;124m.\u001b[39m\u001b[38;5;124m\"\u001b[39m)\n\u001b[1;32m     24\u001b[0m \u001b[38;5;28mprint\u001b[39m(\u001b[38;5;124mf\u001b[39m\u001b[38;5;124m\"\u001b[39m\u001b[38;5;124mEncountered \u001b[39m\u001b[38;5;132;01m{\u001b[39;00mfile_processor\u001b[38;5;241m.\u001b[39merrors\u001b[38;5;132;01m}\u001b[39;00m\u001b[38;5;124m errors.\u001b[39m\u001b[38;5;124m\"\u001b[39m)\n",
      "\u001b[0;31mTypeError\u001b[0m: list.append() takes exactly one argument (0 given)"
     ]
    }
   ],
   "source": [
    "%time\n",
    "file_processor = FileProcessor()\n",
    "\n",
    "# Identify and save files with guitar and drum\n",
    "print(f\"Processing {len(midi_file_paths)} files in {raw_data_folder}...\")\n",
    "print(f\"Saving to {output_folder}...\")\n",
    "pool = Pool(5)\n",
    "result = pool.map_async(file_processor.parse_file, midi_file_paths)\n",
    "while not result.ready():\n",
    "    print(f\"Number of tasks left: {result._number_left}\")\n",
    "    time.sleep(60)\n",
    "\n",
    "# Remove duplicated\n",
    "print(f\"Removing duplicates from {output_folder}...\")\n",
    "already_seen = []\n",
    "for file in glob.glob(output_folder):\n",
    "    title = re.sub(pattern, \"\", file).lower()\n",
    "    if title in already_seen:\n",
    "        os.remove()\n",
    "    else:\n",
    "        already_seen.append(title)\n",
    "\n",
    "print(f\"Processed {file_processor.num_processed} files in {raw_data_folder}.\")\n",
    "print(f\"Encountered {file_processor.errors} errors.\")\n",
    "print(\"Total number of non-duplicate songs with drums and guitar saved:\", len(saved_files) + len(already_saved))\n"
   ]
  },
  {
   "cell_type": "code",
   "execution_count": 93,
   "metadata": {},
   "outputs": [
    {
     "name": "stdout",
     "output_type": "stream",
     "text": [
      "CPU times: user 8 µs, sys: 0 ns, total: 8 µs\n",
      "Wall time: 14.5 µs\n"
     ]
    },
    {
     "name": "stdout",
     "output_type": "stream",
     "text": [
      "Processing 4062 files in ../raw_data/Unzipped...\n",
      "Saving to ../data_test...\n"
     ]
    },
    {
     "ename": "KeyboardInterrupt",
     "evalue": "",
     "output_type": "error",
     "traceback": [
      "\u001b[0;31m---------------------------------------------------------------------------\u001b[0m",
      "\u001b[0;31mKeyboardInterrupt\u001b[0m                         Traceback (most recent call last)",
      "Cell \u001b[0;32mIn[93], line 9\u001b[0m\n\u001b[1;32m      7\u001b[0m     \u001b[38;5;28mprint\u001b[39m(\u001b[38;5;124mf\u001b[39m\u001b[38;5;124m\"\u001b[39m\u001b[38;5;124mProcessing \u001b[39m\u001b[38;5;132;01m{\u001b[39;00m\u001b[38;5;28mlen\u001b[39m(midi_file_paths)\u001b[38;5;132;01m}\u001b[39;00m\u001b[38;5;124m files in \u001b[39m\u001b[38;5;132;01m{\u001b[39;00mraw_data_folder\u001b[38;5;132;01m}\u001b[39;00m\u001b[38;5;124m...\u001b[39m\u001b[38;5;124m\"\u001b[39m)\n\u001b[1;32m      8\u001b[0m     \u001b[38;5;28mprint\u001b[39m(\u001b[38;5;124mf\u001b[39m\u001b[38;5;124m\"\u001b[39m\u001b[38;5;124mSaving to \u001b[39m\u001b[38;5;132;01m{\u001b[39;00moutput_folder\u001b[38;5;132;01m}\u001b[39;00m\u001b[38;5;124m...\u001b[39m\u001b[38;5;124m\"\u001b[39m)\n\u001b[0;32m----> 9\u001b[0m     \u001b[43mpools\u001b[49m\u001b[38;5;241;43m.\u001b[39;49m\u001b[43mmap\u001b[49m\u001b[43m(\u001b[49m\u001b[43mfile_processor\u001b[49m\u001b[38;5;241;43m.\u001b[39;49m\u001b[43mparse_file\u001b[49m\u001b[43m,\u001b[49m\u001b[43m \u001b[49m\u001b[43mmidi_file_paths\u001b[49m\u001b[43m)\u001b[49m\n\u001b[1;32m     11\u001b[0m \u001b[38;5;66;03m# Remove duplicated\u001b[39;00m\n\u001b[1;32m     12\u001b[0m \u001b[38;5;28mprint\u001b[39m(\u001b[38;5;124mf\u001b[39m\u001b[38;5;124m\"\u001b[39m\u001b[38;5;124mRemoving duplicates from \u001b[39m\u001b[38;5;132;01m{\u001b[39;00moutput_folder\u001b[38;5;132;01m}\u001b[39;00m\u001b[38;5;124m...\u001b[39m\u001b[38;5;124m\"\u001b[39m)\n",
      "File \u001b[0;32m~/.pyenv/versions/3.10.6/lib/python3.10/multiprocessing/pool.py:367\u001b[0m, in \u001b[0;36mPool.map\u001b[0;34m(self, func, iterable, chunksize)\u001b[0m\n\u001b[1;32m    362\u001b[0m \u001b[38;5;28;01mdef\u001b[39;00m \u001b[38;5;21mmap\u001b[39m(\u001b[38;5;28mself\u001b[39m, func, iterable, chunksize\u001b[38;5;241m=\u001b[39m\u001b[38;5;28;01mNone\u001b[39;00m):\n\u001b[1;32m    363\u001b[0m \u001b[38;5;250m    \u001b[39m\u001b[38;5;124;03m'''\u001b[39;00m\n\u001b[1;32m    364\u001b[0m \u001b[38;5;124;03m    Apply `func` to each element in `iterable`, collecting the results\u001b[39;00m\n\u001b[1;32m    365\u001b[0m \u001b[38;5;124;03m    in a list that is returned.\u001b[39;00m\n\u001b[1;32m    366\u001b[0m \u001b[38;5;124;03m    '''\u001b[39;00m\n\u001b[0;32m--> 367\u001b[0m     \u001b[38;5;28;01mreturn\u001b[39;00m \u001b[38;5;28;43mself\u001b[39;49m\u001b[38;5;241;43m.\u001b[39;49m\u001b[43m_map_async\u001b[49m\u001b[43m(\u001b[49m\u001b[43mfunc\u001b[49m\u001b[43m,\u001b[49m\u001b[43m \u001b[49m\u001b[43miterable\u001b[49m\u001b[43m,\u001b[49m\u001b[43m \u001b[49m\u001b[43mmapstar\u001b[49m\u001b[43m,\u001b[49m\u001b[43m \u001b[49m\u001b[43mchunksize\u001b[49m\u001b[43m)\u001b[49m\u001b[38;5;241;43m.\u001b[39;49m\u001b[43mget\u001b[49m\u001b[43m(\u001b[49m\u001b[43m)\u001b[49m\n",
      "File \u001b[0;32m~/.pyenv/versions/3.10.6/lib/python3.10/multiprocessing/pool.py:768\u001b[0m, in \u001b[0;36mApplyResult.get\u001b[0;34m(self, timeout)\u001b[0m\n\u001b[1;32m    767\u001b[0m \u001b[38;5;28;01mdef\u001b[39;00m \u001b[38;5;21mget\u001b[39m(\u001b[38;5;28mself\u001b[39m, timeout\u001b[38;5;241m=\u001b[39m\u001b[38;5;28;01mNone\u001b[39;00m):\n\u001b[0;32m--> 768\u001b[0m     \u001b[38;5;28;43mself\u001b[39;49m\u001b[38;5;241;43m.\u001b[39;49m\u001b[43mwait\u001b[49m\u001b[43m(\u001b[49m\u001b[43mtimeout\u001b[49m\u001b[43m)\u001b[49m\n\u001b[1;32m    769\u001b[0m     \u001b[38;5;28;01mif\u001b[39;00m \u001b[38;5;129;01mnot\u001b[39;00m \u001b[38;5;28mself\u001b[39m\u001b[38;5;241m.\u001b[39mready():\n\u001b[1;32m    770\u001b[0m         \u001b[38;5;28;01mraise\u001b[39;00m \u001b[38;5;167;01mTimeoutError\u001b[39;00m\n",
      "File \u001b[0;32m~/.pyenv/versions/3.10.6/lib/python3.10/multiprocessing/pool.py:765\u001b[0m, in \u001b[0;36mApplyResult.wait\u001b[0;34m(self, timeout)\u001b[0m\n\u001b[1;32m    764\u001b[0m \u001b[38;5;28;01mdef\u001b[39;00m \u001b[38;5;21mwait\u001b[39m(\u001b[38;5;28mself\u001b[39m, timeout\u001b[38;5;241m=\u001b[39m\u001b[38;5;28;01mNone\u001b[39;00m):\n\u001b[0;32m--> 765\u001b[0m     \u001b[38;5;28;43mself\u001b[39;49m\u001b[38;5;241;43m.\u001b[39;49m\u001b[43m_event\u001b[49m\u001b[38;5;241;43m.\u001b[39;49m\u001b[43mwait\u001b[49m\u001b[43m(\u001b[49m\u001b[43mtimeout\u001b[49m\u001b[43m)\u001b[49m\n",
      "File \u001b[0;32m~/.pyenv/versions/3.10.6/lib/python3.10/threading.py:607\u001b[0m, in \u001b[0;36mEvent.wait\u001b[0;34m(self, timeout)\u001b[0m\n\u001b[1;32m    605\u001b[0m signaled \u001b[38;5;241m=\u001b[39m \u001b[38;5;28mself\u001b[39m\u001b[38;5;241m.\u001b[39m_flag\n\u001b[1;32m    606\u001b[0m \u001b[38;5;28;01mif\u001b[39;00m \u001b[38;5;129;01mnot\u001b[39;00m signaled:\n\u001b[0;32m--> 607\u001b[0m     signaled \u001b[38;5;241m=\u001b[39m \u001b[38;5;28;43mself\u001b[39;49m\u001b[38;5;241;43m.\u001b[39;49m\u001b[43m_cond\u001b[49m\u001b[38;5;241;43m.\u001b[39;49m\u001b[43mwait\u001b[49m\u001b[43m(\u001b[49m\u001b[43mtimeout\u001b[49m\u001b[43m)\u001b[49m\n\u001b[1;32m    608\u001b[0m \u001b[38;5;28;01mreturn\u001b[39;00m signaled\n",
      "File \u001b[0;32m~/.pyenv/versions/3.10.6/lib/python3.10/threading.py:320\u001b[0m, in \u001b[0;36mCondition.wait\u001b[0;34m(self, timeout)\u001b[0m\n\u001b[1;32m    318\u001b[0m \u001b[38;5;28;01mtry\u001b[39;00m:    \u001b[38;5;66;03m# restore state no matter what (e.g., KeyboardInterrupt)\u001b[39;00m\n\u001b[1;32m    319\u001b[0m     \u001b[38;5;28;01mif\u001b[39;00m timeout \u001b[38;5;129;01mis\u001b[39;00m \u001b[38;5;28;01mNone\u001b[39;00m:\n\u001b[0;32m--> 320\u001b[0m         \u001b[43mwaiter\u001b[49m\u001b[38;5;241;43m.\u001b[39;49m\u001b[43macquire\u001b[49m\u001b[43m(\u001b[49m\u001b[43m)\u001b[49m\n\u001b[1;32m    321\u001b[0m         gotit \u001b[38;5;241m=\u001b[39m \u001b[38;5;28;01mTrue\u001b[39;00m\n\u001b[1;32m    322\u001b[0m     \u001b[38;5;28;01melse\u001b[39;00m:\n",
      "\u001b[0;31mKeyboardInterrupt\u001b[0m: "
     ]
    }
   ],
   "source": [
    "%time\n",
    "file_processor = FileProcessor()\n",
    "\n",
    "# Identify and save files with guitar and drum\n",
    "with Pool(5) as pools:\n",
    "    file_processor = FileProcessor()\n",
    "    print(f\"Processing {len(midi_file_paths)} files in {raw_data_folder}...\")\n",
    "    print(f\"Saving to {output_folder}...\")\n",
    "    pools.map(file_processor.parse_file, midi_file_paths)\n",
    "\n",
    "# Remove duplicated\n",
    "print(f\"Removing duplicates from {output_folder}...\")\n",
    "already_seen = []\n",
    "for file in glob.glob(output_folder):\n",
    "    title = [re.sub(pattern, \"\", child[:-4]).lower()]\n",
    "    if title in already_seen:\n",
    "        os.remove()\n",
    "    else:\n",
    "        already_seen.append()\n",
    "\n",
    "\n",
    "\n",
    "\n",
    "\n",
    "print(f\"Processed {file_processor.num_processed} files in {raw_data_folder}.\")\n",
    "print(f\"Encountered {file_processor.errors} errors.\")\n",
    "print(\"Total number of non-duplicate songs with drums and guitar saved:\", len(saved_files) + len(already_saved))"
   ]
  },
  {
   "cell_type": "code",
   "execution_count": 111,
   "metadata": {},
   "outputs": [
    {
     "name": "stdout",
     "output_type": "stream",
     "text": [
      "myfolder/mypath myfile.mid\n"
     ]
    }
   ],
   "source": [
    "path = \"myfolder/mypath/myfile.mid\"\n",
    "head, tail = ntpath.split(path)\n",
    "print(head, tail)\n"
   ]
  },
  {
   "cell_type": "code",
   "execution_count": null,
   "metadata": {},
   "outputs": [],
   "source": []
  }
 ],
 "metadata": {
  "kernelspec": {
   "display_name": "BandIt",
   "language": "python",
   "name": "python3"
  },
  "language_info": {
   "codemirror_mode": {
    "name": "ipython",
    "version": 3
   },
   "file_extension": ".py",
   "mimetype": "text/x-python",
   "name": "python",
   "nbconvert_exporter": "python",
   "pygments_lexer": "ipython3",
   "version": "3.10.6"
  }
 },
 "nbformat": 4,
 "nbformat_minor": 2
}
