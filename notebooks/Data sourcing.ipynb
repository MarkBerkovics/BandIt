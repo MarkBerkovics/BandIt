{
 "cells": [
  {
   "cell_type": "code",
   "execution_count": 2,
   "metadata": {},
   "outputs": [],
   "source": [
    "import pandas\n",
    "import mido\n",
    "import os\n",
    "import re\n",
    "import shutil"
   ]
  },
  {
   "cell_type": "code",
   "execution_count": 3,
   "metadata": {},
   "outputs": [],
   "source": [
    "# Use this to strip titles and instrument data of non-alphabetic characters\n",
    "pattern = \"[^a-zA-Z]+\""
   ]
  },
  {
   "cell_type": "code",
   "execution_count": 4,
   "metadata": {},
   "outputs": [
    {
     "data": {
      "text/plain": [
       "'../raw_data/Unzipped'"
      ]
     },
     "execution_count": 4,
     "metadata": {},
     "output_type": "execute_result"
    }
   ],
   "source": [
    "import os\n",
    "os.getcwd()\n",
    "raw_data_folder = os.path.join(os.pardir, \"raw_data\", \"Unzipped\")\n",
    "#raw_data_folder = os.path.join(os.pardir, \"test_data\")\n",
    "output_folder = os.path.join(os.pardir, \"data\")\n",
    "raw_data_folder"
   ]
  },
  {
   "cell_type": "code",
   "execution_count": 5,
   "metadata": {},
   "outputs": [],
   "source": [
    "def identify_drum_and_guitar(midi):\n",
    "    guitars = {\"guitar\", \"guita\", \"gtr\", \"egtr\", \"eguitar\"}\n",
    "    drums = {\"drums\", \"drum\", \"drumsperc\", \"perc\", \"percussion\"}\n",
    "\n",
    "    pattern = \"[^a-zA-Z ]+\"\n",
    "    has_drum = False\n",
    "    has_guitar = False\n",
    "\n",
    "    for track in midi:\n",
    "        # Check if instruments in track name\n",
    "        if track.type == \"track_name\":\n",
    "            words = {re.sub(pattern, '', word.lower()) for word in track.name.split()}\n",
    "            if words.intersection(guitars):\n",
    "                has_guitar = True\n",
    "            if words.intersection(drums):\n",
    "                has_drum = True\n",
    "    if has_drum and has_guitar:\n",
    "        return True\n",
    "\n",
    "    # Check if instruments in track text\n",
    "    for track in midi:\n",
    "        if track.type == \"text\":\n",
    "            words = {re.sub(pattern, '', word.lower())  for word in track.text.split()}\n",
    "            if words.intersection(guitars):\n",
    "                has_guitar = True\n",
    "            if words.intersection(drums):\n",
    "                has_drum = True\n",
    "    if has_drum and has_guitar:\n",
    "        return True"
   ]
  },
  {
   "cell_type": "code",
   "execution_count": 6,
   "metadata": {},
   "outputs": [],
   "source": [
    "import sys"
   ]
  },
  {
   "cell_type": "code",
   "execution_count": 12,
   "metadata": {},
   "outputs": [
    {
     "name": "stdout",
     "output_type": "stream",
     "text": [
      "CPU times: user 4 µs, sys: 1e+03 ns, total: 5 µs\n",
      "Wall time: 9.54 µs\n"
     ]
    },
    {
     "ename": "KeyboardInterrupt",
     "evalue": "",
     "output_type": "error",
     "traceback": [
      "\u001b[0;31m---------------------------------------------------------------------------\u001b[0m",
      "\u001b[0;31mKeyboardInterrupt\u001b[0m                         Traceback (most recent call last)",
      "Cell \u001b[0;32mIn[12], line 32\u001b[0m\n\u001b[1;32m     30\u001b[0m \u001b[38;5;28;01mif\u001b[39;00m song_path\u001b[38;5;241m.\u001b[39mendswith(\u001b[38;5;124m\"\u001b[39m\u001b[38;5;124m.mid\u001b[39m\u001b[38;5;124m\"\u001b[39m):\n\u001b[1;32m     31\u001b[0m     midi_file \u001b[38;5;241m=\u001b[39m mido\u001b[38;5;241m.\u001b[39mMidiFile(song_path, clip\u001b[38;5;241m=\u001b[39m\u001b[38;5;28;01mTrue\u001b[39;00m)\n\u001b[0;32m---> 32\u001b[0m     dg_song \u001b[38;5;241m=\u001b[39m \u001b[43midentify_drum_and_guitar\u001b[49m\u001b[43m(\u001b[49m\u001b[43mmidi_file\u001b[49m\u001b[43m)\u001b[49m\n\u001b[1;32m     33\u001b[0m     \u001b[38;5;28;01mif\u001b[39;00m dg_song:\n\u001b[1;32m     34\u001b[0m         title \u001b[38;5;241m=\u001b[39m re\u001b[38;5;241m.\u001b[39msub(pattern, \u001b[38;5;124m\"\u001b[39m\u001b[38;5;124m\"\u001b[39m, child[:\u001b[38;5;241m-\u001b[39m\u001b[38;5;241m4\u001b[39m])\u001b[38;5;241m.\u001b[39mlower()\n",
      "Cell \u001b[0;32mIn[5], line 9\u001b[0m, in \u001b[0;36midentify_drum_and_guitar\u001b[0;34m(midi)\u001b[0m\n\u001b[1;32m      6\u001b[0m has_drum \u001b[38;5;241m=\u001b[39m \u001b[38;5;28;01mFalse\u001b[39;00m\n\u001b[1;32m      7\u001b[0m has_guitar \u001b[38;5;241m=\u001b[39m \u001b[38;5;28;01mFalse\u001b[39;00m\n\u001b[0;32m----> 9\u001b[0m \u001b[38;5;28;01mfor\u001b[39;00m track \u001b[38;5;129;01min\u001b[39;00m midi:\n\u001b[1;32m     10\u001b[0m     \u001b[38;5;66;03m# Check if instruments in track name\u001b[39;00m\n\u001b[1;32m     11\u001b[0m     \u001b[38;5;28;01mif\u001b[39;00m track\u001b[38;5;241m.\u001b[39mtype \u001b[38;5;241m==\u001b[39m \u001b[38;5;124m\"\u001b[39m\u001b[38;5;124mtrack_name\u001b[39m\u001b[38;5;124m\"\u001b[39m:\n\u001b[1;32m     12\u001b[0m         words \u001b[38;5;241m=\u001b[39m {re\u001b[38;5;241m.\u001b[39msub(pattern, \u001b[38;5;124m'\u001b[39m\u001b[38;5;124m'\u001b[39m, word\u001b[38;5;241m.\u001b[39mlower()) \u001b[38;5;28;01mfor\u001b[39;00m word \u001b[38;5;129;01min\u001b[39;00m track\u001b[38;5;241m.\u001b[39mname\u001b[38;5;241m.\u001b[39msplit()}\n",
      "File \u001b[0;32m~/.pyenv/versions/3.10.6/envs/BandIt/lib/python3.10/site-packages/mido/midifiles/midifiles.py:399\u001b[0m, in \u001b[0;36mMidiFile.__iter__\u001b[0;34m(self)\u001b[0m\n\u001b[1;32m    396\u001b[0m \u001b[38;5;28;01melse\u001b[39;00m:\n\u001b[1;32m    397\u001b[0m     delta \u001b[38;5;241m=\u001b[39m \u001b[38;5;241m0\u001b[39m\n\u001b[0;32m--> 399\u001b[0m \u001b[38;5;28;01myield\u001b[39;00m \u001b[43mmsg\u001b[49m\u001b[38;5;241;43m.\u001b[39;49m\u001b[43mcopy\u001b[49m\u001b[43m(\u001b[49m\u001b[43mskip_checks\u001b[49m\u001b[38;5;241;43m=\u001b[39;49m\u001b[38;5;28;43;01mTrue\u001b[39;49;00m\u001b[43m,\u001b[49m\u001b[43m \u001b[49m\u001b[43mtime\u001b[49m\u001b[38;5;241;43m=\u001b[39;49m\u001b[43mdelta\u001b[49m\u001b[43m)\u001b[49m\n\u001b[1;32m    401\u001b[0m \u001b[38;5;28;01mif\u001b[39;00m msg\u001b[38;5;241m.\u001b[39mtype \u001b[38;5;241m==\u001b[39m \u001b[38;5;124m'\u001b[39m\u001b[38;5;124mset_tempo\u001b[39m\u001b[38;5;124m'\u001b[39m:\n\u001b[1;32m    402\u001b[0m     tempo \u001b[38;5;241m=\u001b[39m msg\u001b[38;5;241m.\u001b[39mtempo\n",
      "File \u001b[0;32m~/.pyenv/versions/3.10.6/envs/BandIt/lib/python3.10/site-packages/mido/messages/messages.py:152\u001b[0m, in \u001b[0;36mMessage.copy\u001b[0;34m(self, skip_checks, **overrides)\u001b[0m\n\u001b[1;32m    149\u001b[0m \u001b[38;5;28;01mif\u001b[39;00m \u001b[38;5;129;01mnot\u001b[39;00m skip_checks:\n\u001b[1;32m    150\u001b[0m     check_msgdict(msgdict)\n\u001b[0;32m--> 152\u001b[0m \u001b[38;5;28;01mreturn\u001b[39;00m \u001b[38;5;28;43mself\u001b[39;49m\u001b[38;5;241;43m.\u001b[39;49m\u001b[38;5;18;43m__class__\u001b[39;49m\u001b[43m(\u001b[49m\u001b[43mskip_checks\u001b[49m\u001b[38;5;241;43m=\u001b[39;49m\u001b[43mskip_checks\u001b[49m\u001b[43m,\u001b[49m\u001b[43m \u001b[49m\u001b[38;5;241;43m*\u001b[39;49m\u001b[38;5;241;43m*\u001b[39;49m\u001b[43mmsgdict\u001b[49m\u001b[43m)\u001b[49m\n",
      "File \u001b[0;32m~/.pyenv/versions/3.10.6/envs/BandIt/lib/python3.10/site-packages/mido/messages/messages.py:115\u001b[0m, in \u001b[0;36mMessage.__init__\u001b[0;34m(self, type, skip_checks, **args)\u001b[0m\n\u001b[1;32m    114\u001b[0m \u001b[38;5;28;01mdef\u001b[39;00m \u001b[38;5;21m__init__\u001b[39m(\u001b[38;5;28mself\u001b[39m, \u001b[38;5;28mtype\u001b[39m, skip_checks\u001b[38;5;241m=\u001b[39m\u001b[38;5;28;01mFalse\u001b[39;00m, \u001b[38;5;241m*\u001b[39m\u001b[38;5;241m*\u001b[39margs):\n\u001b[0;32m--> 115\u001b[0m     msgdict \u001b[38;5;241m=\u001b[39m \u001b[43mmake_msgdict\u001b[49m\u001b[43m(\u001b[49m\u001b[38;5;28;43mtype\u001b[39;49m\u001b[43m,\u001b[49m\u001b[43m \u001b[49m\u001b[43margs\u001b[49m\u001b[43m)\u001b[49m\n\u001b[1;32m    116\u001b[0m     \u001b[38;5;28;01mif\u001b[39;00m \u001b[38;5;28mtype\u001b[39m \u001b[38;5;241m==\u001b[39m \u001b[38;5;124m'\u001b[39m\u001b[38;5;124msysex\u001b[39m\u001b[38;5;124m'\u001b[39m:\n\u001b[1;32m    117\u001b[0m         msgdict[\u001b[38;5;124m'\u001b[39m\u001b[38;5;124mdata\u001b[39m\u001b[38;5;124m'\u001b[39m] \u001b[38;5;241m=\u001b[39m SysexData(msgdict[\u001b[38;5;124m'\u001b[39m\u001b[38;5;124mdata\u001b[39m\u001b[38;5;124m'\u001b[39m])\n",
      "File \u001b[0;32m~/.pyenv/versions/3.10.6/envs/BandIt/lib/python3.10/site-packages/mido/messages/specs.py:134\u001b[0m, in \u001b[0;36mmake_msgdict\u001b[0;34m(type_, overrides)\u001b[0m\n\u001b[1;32m    131\u001b[0m \u001b[38;5;28;01mfor\u001b[39;00m name \u001b[38;5;129;01min\u001b[39;00m spec[\u001b[38;5;124m'\u001b[39m\u001b[38;5;124mvalue_names\u001b[39m\u001b[38;5;124m'\u001b[39m]:\n\u001b[1;32m    132\u001b[0m     msg[name] \u001b[38;5;241m=\u001b[39m DEFAULT_VALUES[name]\n\u001b[0;32m--> 134\u001b[0m \u001b[43mmsg\u001b[49m\u001b[38;5;241;43m.\u001b[39;49m\u001b[43mupdate\u001b[49m\u001b[43m(\u001b[49m\u001b[43moverrides\u001b[49m\u001b[43m)\u001b[49m\n\u001b[1;32m    136\u001b[0m \u001b[38;5;28;01mreturn\u001b[39;00m msg\n",
      "\u001b[0;31mKeyboardInterrupt\u001b[0m: "
     ]
    }
   ],
   "source": [
    "%time\n",
    "\n",
    "saved_songs = []\n",
    "songs = []\n",
    "errors = 0\n",
    "\n",
    "for idx, child in enumerate(os.listdir(raw_data_folder)):\n",
    "    if (idx == 0) or (idx % 250 == 0):\n",
    "        print(f\"Processing file number: {idx}\")\n",
    "\n",
    "    # If the path is a midi file, load the file\n",
    "    child_path = os.path.join(raw_data_folder, child)\n",
    "    try:\n",
    "        if child_path.endswith(\".mid\"):\n",
    "            song_path = child_path\n",
    "            midi_file = mido.MidiFile(song_path, clip=True)\n",
    "            dg_song = identify_drum_and_guitar(midi_file)\n",
    "            if dg_song:\n",
    "                title = re.sub(pattern, \"\", child[:-4]).lower()\n",
    "                if title not in saved_songs:\n",
    "                    saved_songs.append(title)\n",
    "                    #midi_file.save(f'{output_folder}/{child}')\n",
    "                    shutil.copyfile(song_path, f'{output_folder}/{child}')\n",
    "\n",
    "\n",
    "        # If the path is a folder, load the midi files inside\n",
    "        elif os.path.isdir(child_path):\n",
    "            for child in os.listdir(child_path):\n",
    "                song_path = os.path.join(child_path, child)\n",
    "                if song_path.endswith(\".mid\"):\n",
    "                    midi_file = mido.MidiFile(song_path, clip=True)\n",
    "                    dg_song = identify_drum_and_guitar(midi_file)\n",
    "                    if dg_song:\n",
    "                        title = re.sub(pattern, \"\", child[:-4]).lower()\n",
    "                        if title not in saved_songs:\n",
    "                            saved_songs.append(title)\n",
    "                            #midi_file.save(f'{output_folder}/{child}')\n",
    "                            shutil.copyfile(song_path, f'{output_folder}/{child}')\n",
    "\n",
    "    except Exception as ke:\n",
    "        errors +=1\n",
    "\n",
    "print(f\"Found {len(saved_songs)} .mid files in {raw_data_folder}.\")\n",
    "print(f\"Encountered {errors} errors.\")"
   ]
  },
  {
   "cell_type": "code",
   "execution_count": null,
   "metadata": {},
   "outputs": [
    {
     "name": "stdout",
     "output_type": "stream",
     "text": [
      "zombie\n",
      "hotelcalifornia\n",
      "Saved 2 to ../data\n"
     ]
    }
   ],
   "source": [
    "%time\n",
    "for  k, v in drum_and_guitar_songs.items():\n",
    "    v[\"midi\"].save(f'{output_folder}/{v[\"filename\"]}')\n",
    "\n",
    "print(f\"Saved {len(drum_and_guitar_songs)} midi files to {output_folder}\")"
   ]
  }
 ],
 "metadata": {
  "kernelspec": {
   "display_name": "BandIt",
   "language": "python",
   "name": "python3"
  },
  "language_info": {
   "codemirror_mode": {
    "name": "ipython",
    "version": 3
   },
   "file_extension": ".py",
   "mimetype": "text/x-python",
   "name": "python",
   "nbconvert_exporter": "python",
   "pygments_lexer": "ipython3",
   "version": "3.10.6"
  }
 },
 "nbformat": 4,
 "nbformat_minor": 2
}
