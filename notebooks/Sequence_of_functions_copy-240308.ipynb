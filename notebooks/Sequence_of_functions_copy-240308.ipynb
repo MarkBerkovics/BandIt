{
 "cells": [
  {
   "cell_type": "code",
   "execution_count": null,
   "id": "9a53aa2f-11df-4db8-b532-1008b3a77a56",
   "metadata": {},
   "outputs": [],
   "source": [
    "import pretty_midi\n",
    "import numpy as np\n",
    "import os\n",
    "import IPython\n",
    "import fluidsynth\n",
    "import glob\n",
    "import pandas as pd"
   ]
  },
  {
   "cell_type": "code",
   "execution_count": null,
   "id": "d2d14283-a14e-47d5-ad9e-f411f3d5f8fc",
   "metadata": {
    "scrolled": true
   },
   "outputs": [],
   "source": [
    "song_list = glob.glob(os.path.join(\"data\", \"*.mid\"))\n",
    "song_list"
   ]
  },
  {
   "cell_type": "code",
   "execution_count": null,
   "id": "4c2ec8d9-ddf3-4f96-b7c0-763a08e1896b",
   "metadata": {},
   "outputs": [],
   "source": [
    "len(song_list)"
   ]
  },
  {
   "cell_type": "code",
   "execution_count": null,
   "id": "e2f06ada-ffb1-41d9-8218-ff27890e92c7",
   "metadata": {},
   "outputs": [],
   "source": [
    "def bpm_to_120(midi_file):\n",
    "    \"\"\"\n",
    "    This function evens out the tempo throuout the song to be 120 BPM,\n",
    "    even if there are tempo changes. It gets a midi file as an input\n",
    "    and outputs a modified pretty_midi object and the song title as a string.\n",
    "    \"\"\"\n",
    "\n",
    "    mid = pretty_midi.PrettyMIDI(midi_file)\n",
    "\n",
    "    tempo = mid.get_tempo_changes()\n",
    "    num_of_changes = len(tempo[0])\n",
    "    full_length = mid.get_end_time()\n",
    "\n",
    "    old_times = []\n",
    "    changes = [0]\n",
    "\n",
    "    for i in range(num_of_changes):\n",
    "        old_times.append(tempo[0][i])\n",
    "        if i < (num_of_changes - 1):\n",
    "            changes.append((tempo[0][i+1] - tempo[0][i]) * (tempo[1][i]/120))\n",
    "        else:\n",
    "            changes.append((full_length - tempo[0][i]) * (tempo[1][i]/120))\n",
    "\n",
    "    old_times.append(full_length)\n",
    "    new_times = np.cumsum(changes)\n",
    "\n",
    "    mid.adjust_times(old_times, new_times)\n",
    "\n",
    "    song_title = os.path.splitext(os.path.basename(midi_file))[0]\n",
    "\n",
    "    return mid, song_title"
   ]
  },
  {
   "cell_type": "code",
   "execution_count": null,
   "id": "d23c4efd-f1e6-4ce5-bbf6-867905923e92",
   "metadata": {},
   "outputs": [],
   "source": [
    "%time\n",
    "guitar_tracks = []\n",
    "drum_tracks = []\n",
    "for song in song_list:\n",
    "    # print(song)\n",
    "    mid, song_title = bpm_to_120(song)\n",
    "    song_dict = extract_guitar_and_drums(mid, song_title)\n",
    "    guitar_tracks.append(song_dict['guitar'])\n",
    "    drum_tracks.append(song_dict['drums'])\n"
   ]
  },
  {
   "cell_type": "code",
   "execution_count": null,
   "id": "01385b2b-fae4-4098-bdbe-c33ad1e6cb90",
   "metadata": {},
   "outputs": [],
   "source": [
    "len(guitar_tracks)"
   ]
  },
  {
   "cell_type": "code",
   "execution_count": null,
   "id": "66f47f98-c22e-4352-9403-8fc404f4b823",
   "metadata": {},
   "outputs": [],
   "source": [
    "midi_df = pd.DataFrame({'song_name': song_list, 'guitar_tracks': guitar_tracks, 'drum_tracks': drum_tracks})\n",
    "midi_df"
   ]
  },
  {
   "cell_type": "code",
   "execution_count": null,
   "id": "d33611a0-a54e-46a2-9e49-64a21d4caa23",
   "metadata": {},
   "outputs": [],
   "source": [
    "mid_120, title = bpm_to_120('data/The_Fortunes_-_Youve_Got_Your_Troubles.mid')"
   ]
  },
  {
   "cell_type": "code",
   "execution_count": null,
   "id": "79b96045-ffb1-4250-be11-7cba91363a48",
   "metadata": {
    "scrolled": true
   },
   "outputs": [],
   "source": [
    "mid_120.instruments"
   ]
  },
  {
   "cell_type": "code",
   "execution_count": null,
   "id": "7fb6d045-42eb-432a-b065-3c5e276093e4",
   "metadata": {},
   "outputs": [],
   "source": [
    "def extract_guitar_and_drums(mid, song_title='unknown'):\n",
    "    \"\"\"This function extracts the guitar and drum tracks from a midi file.\n",
    "       The first input is either a path to a midi file (for example: 'raw_data/song_name.mid')\n",
    "       in string format, or a pretty_midi object. The second input is the song title as a string.\n",
    "       The output is a dictionary with the song name, guitar track and drum track\"\"\"\n",
    "\n",
    "    if type(mid) == str:\n",
    "        mid = pretty_midi.PrettyMIDI(mid)\n",
    "        song_title = os.path.splitext(os.path.basename(mid))[0]\n",
    "\n",
    "    guitars = []\n",
    "    lengths_guitar = []\n",
    "    drums = []\n",
    "    lengths_drums = []\n",
    "\n",
    "    for instrument in mid.instruments:\n",
    "        if instrument.is_drum:\n",
    "            drums.append(instrument)\n",
    "            lengths_drums.append(len(instrument.notes))\n",
    "\n",
    "        if (instrument.program >= 24) and (instrument.program <= 31):\n",
    "            guitars.append(instrument)\n",
    "            lengths_guitar.append(len(instrument.notes))\n",
    "\n",
    "    drum_track = drums[lengths_drums.index(max(lengths_drums))]\n",
    "    guitar_track = guitars[lengths_guitar.index(max(lengths_guitar))]\n",
    "\n",
    "    # song_title = os.path.splitext(os.path.basename(midi_file))[0]\n",
    "\n",
    "\n",
    "\n",
    "\n",
    "    song_dict = {'title': song_title,\n",
    "                 'down_beats': mid.get_downbeats(),\n",
    "                 'guitar': guitar_track,\n",
    "                 'drums': drum_track\n",
    "                }\n",
    "    return song_dict"
   ]
  },
  {
   "cell_type": "code",
   "execution_count": null,
   "id": "45d810e9-aa1f-446f-bde9-b1020ff999dc",
   "metadata": {},
   "outputs": [],
   "source": [
    "original = pretty_midi.PrettyMIDI('raw_data/Another-One-Bites-The-Dust-1.mid')"
   ]
  },
  {
   "cell_type": "code",
   "execution_count": null,
   "id": "8e3a8821-1bca-458a-ae01-d217ade7f9f1",
   "metadata": {},
   "outputs": [],
   "source": [
    "original.get_downbeats()"
   ]
  },
  {
   "cell_type": "code",
   "execution_count": null,
   "id": "9f0d85fe-4a9e-44f8-ae0e-bcf39b0a6771",
   "metadata": {
    "scrolled": true
   },
   "outputs": [],
   "source": [
    "song_dict = extract_guitar_and_drums(mid_120, title)\n",
    "song_dict"
   ]
  },
  {
   "cell_type": "code",
   "execution_count": null,
   "id": "c78ef2dc-5037-41ab-9c02-9e92adf4e9e4",
   "metadata": {},
   "outputs": [],
   "source": [
    "def tracks_to_bars(song_dict: dict) -> dict:\n",
    "    \"\"\"This function accepts a dictionary as an input with 4 keys: 'title', 'down_beats', 'guitar', 'drums'.\n",
    "    The function takes the guitar and drums, both pretty_midi instrument objects, and cuts them up into a sequence of individual bars.\n",
    "    The output is a dictionary that contains the following keys/values: song_title, a list of guitar bars, a list of drum bars, and a list of the song's downbeats\n",
    "    \"\"\"\n",
    "\n",
    "    new_dict={}\n",
    "    new_dict['song_title']=song_dict['title']\n",
    "    guitar = song_dict['guitar']\n",
    "    drums = song_dict['drums']\n",
    "    down_beats_array = song_dict['down_beats']\n",
    "\n",
    "\n",
    "    guitar_bars_list = []\n",
    "    drums_bars_list = []\n",
    "\n",
    "    for i in range(len(down_beats_array)):\n",
    "        if i < len(down_beats_array) - 1:\n",
    "            end_time = down_beats_array[i+1]\n",
    "        else:\n",
    "            end_time = down_beats_array[i] + 2\n",
    "\n",
    "        guitar_bar = []\n",
    "        drums_bar = []\n",
    "        for j in range(len(guitar.notes)):\n",
    "            if (guitar.notes[j].start >= down_beats_array[i]) and (guitar.notes[j].end < end_time):\n",
    "                guitar_bar.append(guitar.notes[j])\n",
    "\n",
    "        for k in range(len(drums.notes)):\n",
    "            if (drums.notes[k].start >= down_beats_array[i]) and (drums.notes[k].end < end_time):\n",
    "                drums_bar.append(drums.notes[k])\n",
    "\n",
    "        drums_bars_list.append(drums_bar)\n",
    "        guitar_bars_list.append(guitar_bar)\n",
    "\n",
    "\n",
    "    new_dict['guitar_bars'] = guitar_bars_list\n",
    "    new_dict['drum_bars'] = drums_bars_list\n",
    "    new_dict['down_beats'] = down_beats_array.tolist()\n",
    "    return new_dict"
   ]
  },
  {
   "cell_type": "code",
   "execution_count": null,
   "id": "eb033936-9717-4de2-ac2e-8966a1eaa437",
   "metadata": {},
   "outputs": [],
   "source": [
    "%time\n",
    "std_guitar_bars = []\n",
    "std_drum_bars = []\n",
    "for song in song_list:\n",
    "    # print(song)\n",
    "    mid, song_title = bpm_to_120(song)\n",
    "    song_dict = extract_guitar_and_drums(mid, song_title)\n",
    "    new_dict = tracks_to_bars(song_dict)\n",
    "\n",
    "    std_guitar = standardize_bars(new_dict['guitar_bars'], new_dict['down_beats'])\n",
    "    std_drums = standardize_bars(new_dict['drum_bars'], new_dict['down_beats'])\n",
    "\n",
    "    std_guitar_bars.append(std_guitar)\n",
    "    std_drum_bars.append(std_drums)"
   ]
  },
  {
   "cell_type": "code",
   "execution_count": null,
   "id": "0838737a-d4d1-4c3f-b2eb-4b68916536ac",
   "metadata": {},
   "outputs": [],
   "source": [
    "len(std_guitar_bars)"
   ]
  },
  {
   "cell_type": "code",
   "execution_count": null,
   "id": "dc493d81-a3c3-4801-8be6-f5732d05fec5",
   "metadata": {},
   "outputs": [],
   "source": [
    "len(std_drum_bars)"
   ]
  },
  {
   "cell_type": "code",
   "execution_count": null,
   "id": "d8100a8b-2e62-44cc-a44b-8200ce07c84f",
   "metadata": {
    "scrolled": true
   },
   "outputs": [],
   "source": [
    "midi_df['standardize_guitar_bars'] = std_guitar_bars\n",
    "midi_df"
   ]
  },
  {
   "cell_type": "code",
   "execution_count": null,
   "id": "64baf432-dc4c-403f-bf2b-2567a6c74a96",
   "metadata": {},
   "outputs": [],
   "source": [
    "midi_df['standardize_drum_bars'] = std_drum_bars\n",
    "midi_df"
   ]
  },
  {
   "cell_type": "code",
   "execution_count": null,
   "id": "8a1c966a-865a-4924-8a12-27307957c9e6",
   "metadata": {
    "scrolled": true
   },
   "outputs": [],
   "source": [
    "debug_track = midi_df['guitar_tracks'].iloc[2]\n",
    "debug_track"
   ]
  },
  {
   "cell_type": "code",
   "execution_count": null,
   "id": "8256ce10-6c54-41af-a76f-ccb9f969662b",
   "metadata": {},
   "outputs": [],
   "source": [
    "midi_df.to_csv('midi_df.csv', escapechar='\\\\')"
   ]
  },
  {
   "cell_type": "code",
   "execution_count": null,
   "id": "e6ad8f98-1f47-460e-b3e2-84fe8c1004f4",
   "metadata": {},
   "outputs": [],
   "source": [
    "def standardize_bars(list_of_bars, downbeats):\n",
    "    \"\"\"\n",
    "    This function standardizes the timing of musical bars\n",
    "    so that each bar will start at the same time point.\n",
    "    It gets a list of bars and the list of downbeats as inputs\n",
    "    and returns a list of bars that all start with time = 1\n",
    "    \"\"\"\n",
    "\n",
    "    for i in range(len(list_of_bars)):\n",
    "        for j in range(len(list_of_bars[i])):\n",
    "            if i == 0:\n",
    "                list_of_bars[0][j].start = list_of_bars[0][j].start / downbeats[1]\n",
    "                list_of_bars[0][j].end = list_of_bars[0][j].end / downbeats[1]\n",
    "\n",
    "            list_of_bars[i][j].start = list_of_bars[i][j].start / downbeats[i]\n",
    "            list_of_bars[i][j].end = list_of_bars[i][j].end / downbeats[i]\n",
    "\n",
    "    return list_of_bars\n"
   ]
  },
  {
   "cell_type": "code",
   "execution_count": null,
   "id": "a1dd919b-8f7d-4a26-994a-1ae94f83c5ca",
   "metadata": {},
   "outputs": [],
   "source": [
    "def mapping_dictionary(list_of_bars):\n",
    "    bar_dict = {}\n",
    "    for bar in list_of_bars:\n",
    "        bar_dict[str(bar)] = bar\n",
    "\n",
    "    return bar_dict"
   ]
  },
  {
   "cell_type": "code",
   "execution_count": null,
   "id": "68a2662d-9d79-435f-a1f5-902111193b53",
   "metadata": {
    "scrolled": true
   },
   "outputs": [],
   "source": [
    "bar_dict = mapping_dictionary(standardized_drums)\n",
    "bar_dict"
   ]
  },
  {
   "cell_type": "code",
   "execution_count": null,
   "id": "9f49ac86-5fc2-4da0-910b-bf3515ce8621",
   "metadata": {},
   "outputs": [],
   "source": [
    "len(bar_dict.keys())"
   ]
  },
  {
   "cell_type": "code",
   "execution_count": null,
   "id": "a93305f4-d34b-4f10-b346-8eff63e23d6c",
   "metadata": {},
   "outputs": [],
   "source": [
    "def objects_to_strings(list_of_bars):\n",
    "    list_of_strings = [str(bar) for bar in list_of_bars]\n",
    "    return list_of_strings"
   ]
  },
  {
   "cell_type": "code",
   "execution_count": null,
   "id": "4581f9ef-4bb5-4e8b-a507-9ddcbd94c3ac",
   "metadata": {},
   "outputs": [],
   "source": [
    "len(strings)"
   ]
  },
  {
   "cell_type": "code",
   "execution_count": null,
   "id": "f05d7121-30e5-4dc6-9718-adda63e1977b",
   "metadata": {},
   "outputs": [],
   "source": [
    "from tokenizers import Tokenizer\n",
    "from tokenizers.models import WordLevel\n",
    "from tokenizers.pre_tokenizers import WhitespaceSplit\n",
    "from tokenizers.trainers import WordLevelTrainer\n",
    "#from transformers import PreTrainedTokenizerFast\n",
    "tokenizer = Tokenizer(WordLevel(unk_token=\"[UNK]\"))\n",
    "#tokenizer.pre_tokenizer = WhitespaceSplit()\n",
    "training_data = strings\n",
    "trainer = WordLevelTrainer(\n",
    "    special_tokens=[\"[UNK]\", \"[CLS]\", \"[SEP]\", \"[PAD]\", \"[MASK]\"]\n",
    ")\n",
    "\n",
    "#training_corpus = get_training_corpus()\n",
    "tokenizer.train_from_iterator(training_data, trainer=trainer)"
   ]
  },
  {
   "cell_type": "code",
   "execution_count": null,
   "id": "0e1d28b5-fb27-4c02-b536-cda3a3369d79",
   "metadata": {},
   "outputs": [],
   "source": [
    "len(tokenizer.get_vocab())"
   ]
  },
  {
   "cell_type": "code",
   "execution_count": null,
   "id": "54071f86-259b-4e27-8631-ec495641bd2c",
   "metadata": {},
   "outputs": [],
   "source": [
    "import time"
   ]
  },
  {
   "cell_type": "code",
   "execution_count": null,
   "id": "6739f554-048c-436f-b32c-36cafab15353",
   "metadata": {},
   "outputs": [],
   "source": [
    "start = time.time()\n",
    "\n",
    "string_guitars = []\n",
    "string_drums = []\n",
    "for i in range(len(std_guitar_bars)):\n",
    "    list_of_strings_guitar = objects_to_strings(std_guitar_bars[i])\n",
    "    list_of_strings_drums = objects_to_strings(std_guitar_bars[i])\n",
    "\n",
    "    string_guitars.append(list_of_strings_guitar)\n",
    "    string_drums.append(list_of_strings_drums)\n",
    "\n",
    "end = time.time()\n",
    "print(end - start)"
   ]
  },
  {
   "cell_type": "code",
   "execution_count": null,
   "id": "d55e5126-c022-4a54-b3d0-5824aae92910",
   "metadata": {},
   "outputs": [],
   "source": [
    "start = time.time()\n",
    "\n",
    "string_guitars_all = []\n",
    "string_drums_all = []\n",
    "for i in range(len(std_guitar_bars)):\n",
    "    string_guitars_all += string_guitars[i]\n",
    "    string_drums_all += string_drums[i]\n",
    "\n",
    "end = time.time()\n",
    "print(end - start)"
   ]
  },
  {
   "cell_type": "code",
   "execution_count": null,
   "id": "325e4993-9404-4e45-9fba-8ac07b56d53b",
   "metadata": {},
   "outputs": [],
   "source": [
    "len(set(string_guitars_all))"
   ]
  },
  {
   "cell_type": "code",
   "execution_count": null,
   "id": "c987c74e-9a74-4274-b81f-efc5c03fa0b3",
   "metadata": {},
   "outputs": [],
   "source": [
    "guitar_tokenizer = Tokenizer(WordLevel(unk_token=\"[UNK]\"))\n",
    "drum_tokenizer = Tokenizer(WordLevel(unk_token=\"[UNK]\"))\n",
    "\n",
    "guitar_trainer = WordLevelTrainer(vocab_size=len(set(string_guitars_all)),\n",
    "    special_tokens=[\"[UNK]\", \"[CLS]\", \"[SEP]\", \"[PAD]\", \"[MASK]\"]\n",
    ")\n",
    "\n",
    "drum_trainer = WordLevelTrainer(vocab_size=len(set(string_drums_all)),\n",
    "    special_tokens=[\"[UNK]\", \"[CLS]\", \"[SEP]\", \"[PAD]\", \"[MASK]\"]\n",
    ")\n",
    "\n",
    "guitar_tokenizer.train_from_iterator(string_guitars_all, trainer=guitar_trainer)\n",
    "drum_tokenizer.train_from_iterator(string_drums_all, trainer=drum_trainer)\n"
   ]
  },
  {
   "cell_type": "code",
   "execution_count": null,
   "id": "bdb22cc4-4ccf-42bb-8f3e-6affa2f5c0c1",
   "metadata": {},
   "outputs": [],
   "source": [
    "guitar_tokenizer.save(\"guitar_tokenizer.json\", pretty=True)\n",
    "drum_tokenizer.save(\"drum_tokenizer.json\", pretty=True)"
   ]
  },
  {
   "cell_type": "code",
   "execution_count": null,
   "id": "29bd6691-f467-4ee5-a54a-5b3a5c8bd71c",
   "metadata": {
    "scrolled": true
   },
   "outputs": [],
   "source": [
    "guitar_tokenizer.get_vocab()['[Note(start=1.291667, end=1.320660, pitch=64, velocity=125), Note(start=1.208333, end=1.327604, pitch=60, velocity=123)]']"
   ]
  },
  {
   "cell_type": "code",
   "execution_count": null,
   "id": "3cc618a6-1db5-4edd-87f0-12bdabee9ccc",
   "metadata": {},
   "outputs": [],
   "source": [
    "len(guitar_tokenizer.get_vocab())"
   ]
  },
  {
   "cell_type": "code",
   "execution_count": null,
   "id": "8490ea31-e1b5-4758-ad2d-ba7c29ba747d",
   "metadata": {
    "scrolled": true
   },
   "outputs": [],
   "source": [
    "string_guitars[0]"
   ]
  },
  {
   "cell_type": "code",
   "execution_count": null,
   "id": "be906aa2-2666-4222-8ea4-e0fc9b4bae23",
   "metadata": {
    "scrolled": true
   },
   "outputs": [],
   "source": [
    "def guitar_encoder(guitar_track):\n",
    "    tokenized_guitar = []\n",
    "    for bar in guitar_track:\n",
    "        tokenized_guitar.append(guitar_tokenizer.get_vocab()[bar])\n",
    "\n",
    "    return tokenized_guitar"
   ]
  },
  {
   "cell_type": "code",
   "execution_count": null,
   "id": "c0d0fdad-4209-4cc2-823c-2ad9892f79d9",
   "metadata": {},
   "outputs": [],
   "source": [
    "def drum_encoder(drum_track):\n",
    "    tokenized_drum = []\n",
    "    for bar in drum_track:\n",
    "        tokenized_drum.append(drum_tokenizer.get_vocab()[bar])\n",
    "\n",
    "    return tokenized_drum"
   ]
  },
  {
   "cell_type": "code",
   "execution_count": null,
   "id": "74480b85-ce70-427d-a559-b31b064bb417",
   "metadata": {
    "scrolled": true
   },
   "outputs": [],
   "source": [
    "start = time.time()\n",
    "\n",
    "guitar_token_list = []\n",
    "drum_token_list = []\n",
    "for i in range(len(string_guitars)):\n",
    "    guitar_token_list.append(guitar_encoder(string_guitars[i]))\n",
    "    drum_token_list.append(drum_encoder(string_drums[i]))\n",
    "\n",
    "end = time.time()\n",
    "print(end - start)"
   ]
  },
  {
   "cell_type": "code",
   "execution_count": null,
   "id": "175eab14-477b-47ed-9697-ddaa1a30f6b7",
   "metadata": {},
   "outputs": [],
   "source": [
    "len(tokenized_guitar)"
   ]
  },
  {
   "cell_type": "code",
   "execution_count": null,
   "id": "98e52cb8-8623-42ce-98b6-f857a1d7e057",
   "metadata": {},
   "outputs": [],
   "source": [
    "from tokenizers import Tokenizer, models, pre_tokenizers, decoders, trainers, processors\n",
    "\n",
    "# Initialize a tokenizer\n",
    "guitar_tokenizer = Tokenizer(models.BPE())\n",
    "\n",
    "# Customize pre-tokenization and decoding\n",
    "# guitar_tokenizer.pre_tokenizer = pre_tokenizers.ByteLevel(add_prefix_space=True)\n",
    "# guitar_tokenizer.decoder = decoders.ByteLevel()\n",
    "# guitar_tokenizer.post_processor = processors.ByteLevel(trim_offsets=True)\n",
    "\n",
    "# And then train\n",
    "trainer = trainers.BpeTrainer(\n",
    "    vocab_size=20000,\n",
    "    min_frequency=2\n",
    ")\n",
    "guitar_tokenizer.train_from_iterator(string_guitars_all, trainer=trainer)\n",
    "\n",
    "# And Save it\n",
    "#guitar_tokenizer.save(\"guitar_tokenizer.json\", pretty=True)"
   ]
  },
  {
   "cell_type": "code",
   "execution_count": null,
   "id": "86b4272b-8171-4d2e-acd5-51d8c249c3b5",
   "metadata": {
    "scrolled": true
   },
   "outputs": [],
   "source": [
    "test_str = ''\n",
    "for jj in range(len(string_guitars[0])):\n",
    "    if jj == 0:\n",
    "        test_str = test_str + string_guitars[0][jj]\n",
    "\n",
    "    test_str = test_str + ' ' + string_guitars[0][jj]\n",
    "\n",
    "test_str"
   ]
  },
  {
   "cell_type": "code",
   "execution_count": null,
   "id": "f1029e66-b98c-4e34-bfda-cd1ceebfcdf9",
   "metadata": {},
   "outputs": [],
   "source": [
    "tt = guitar_tokenizer.encode(test_str)\n",
    "tt"
   ]
  },
  {
   "cell_type": "code",
   "execution_count": null,
   "id": "be370e2f-4d05-4143-bafc-ba1e98e5d71d",
   "metadata": {
    "scrolled": true
   },
   "outputs": [],
   "source": [
    "tt.tokens"
   ]
  },
  {
   "cell_type": "code",
   "execution_count": null,
   "id": "32b5febd-156b-440b-af67-31b6efd0ce92",
   "metadata": {},
   "outputs": [],
   "source": [
    "len(string_guitars[0])"
   ]
  }
 ],
 "metadata": {
  "kernelspec": {
   "display_name": "Python 3 (ipykernel)",
   "language": "python",
   "name": "python3"
  },
  "language_info": {
   "codemirror_mode": {
    "name": "ipython",
    "version": 3
   },
   "file_extension": ".py",
   "mimetype": "text/x-python",
   "name": "python",
   "nbconvert_exporter": "python",
   "pygments_lexer": "ipython3",
   "version": "3.10.6"
  }
 },
 "nbformat": 4,
 "nbformat_minor": 5
}
