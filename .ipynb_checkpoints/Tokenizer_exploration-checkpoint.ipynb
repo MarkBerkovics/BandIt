{
 "cells": [
  {
   "cell_type": "code",
   "execution_count": 84,
   "id": "4f2c5618-a247-4ca2-a25c-ec457b52ca22",
   "metadata": {},
   "outputs": [
    {
     "data": {
      "text/plain": [
       "'/home/sergi_carapuig/code/MarkBerkovics/BandIt/raw_data/'"
      ]
     },
     "execution_count": 84,
     "metadata": {},
     "output_type": "execute_result"
    }
   ],
   "source": [
    "filepath = \"/home/sergi_carapuig/code/MarkBerkovics/BandIt/raw_data/\"\n",
    "filepath"
   ]
  },
  {
   "cell_type": "code",
   "execution_count": 85,
   "id": "af128fd6-0c05-4657-868e-ca000a2d7019",
   "metadata": {},
   "outputs": [],
   "source": [
    "import pretty_midi\n",
    "import os\n",
    "\n",
    "def extract_guitar_and_drums(midi_file):\n",
    "    mid = pretty_midi.PrettyMIDI(midi_file)\n",
    "    guitars = []\n",
    "    lengths_guitar = []\n",
    "    drums = []\n",
    "    lengths_drums = []\n",
    "    for instrument in mid.instruments:\n",
    "        if instrument.is_drum:\n",
    "            drums.append(instrument)\n",
    "            lengths_drums.append(len(instrument.notes))\n",
    "        if (instrument.program >= 25) and (instrument.program <= 31):\n",
    "            guitars.append(instrument)\n",
    "            lengths_guitar.append(len(instrument.notes))\n",
    "    drum_track = drums[lengths_drums.index(max(lengths_drums))]\n",
    "    guitar_track = guitars[lengths_guitar.index(max(lengths_guitar))]\n",
    "    song_title = os.path.splitext(os.path.basename(file))[0]\n",
    "    song_dict = {\"title\": song_title,\n",
    "                 \"guitar\": guitar_track,\n",
    "                 \"drums\": drum_track\n",
    "                }\n",
    "    return song_dict"
   ]
  },
  {
   "cell_type": "code",
   "execution_count": 131,
   "id": "bf1f6b6d-c047-443d-84f1-192a1f13e255",
   "metadata": {},
   "outputs": [],
   "source": [
    "import os \n",
    "\n",
    "directory = \"/home/sergi_carapuig/code/MarkBerkovics/BandIt/raw_data/\"\n",
    "\n",
    "\n",
    "midi_files = []\n",
    "\n",
    "for filename in os.listdir(directory):\n",
    "    full_path = os.path.join(directory, filename)\n",
    "    midi_files.append(full_path)"
   ]
  },
  {
   "cell_type": "code",
   "execution_count": 214,
   "id": "3e938a39-a770-43ab-9258-dac26b277745",
   "metadata": {},
   "outputs": [
    {
     "name": "stdout",
     "output_type": "stream",
     "text": [
      "['/home/sergi_carapuig/code/MarkBerkovics/BandIt/raw_data/10cc_-_The_Things_We_Do_for_Love.mid', '/home/sergi_carapuig/code/MarkBerkovics/BandIt/raw_data/10cc_-_Im_Not_In_Love.mid', '/home/sergi_carapuig/code/MarkBerkovics/BandIt/raw_data/ABC_-_The_Look_of_Love.mid', '/home/sergi_carapuig/code/MarkBerkovics/BandIt/raw_data/1910_Fruitgum_Company_-_Simon_Says.mid', '/home/sergi_carapuig/code/MarkBerkovics/BandIt/raw_data/Aaron_Neville_-_Tell_It_Like_It_Is.mid', '/home/sergi_carapuig/code/MarkBerkovics/BandIt/raw_data/911_-_The_Day_We_Find_Love.mid', '/home/sergi_carapuig/code/MarkBerkovics/BandIt/raw_data/10cc_-_Dreadlock_Holiday.mid', '/home/sergi_carapuig/code/MarkBerkovics/BandIt/raw_data/38_Special_-_Fantasy_Girl.mid', '/home/sergi_carapuig/code/MarkBerkovics/BandIt/raw_data/ABC_-_Poison_Arrow.mid', '/home/sergi_carapuig/code/MarkBerkovics/BandIt/raw_data/38_Special_-_Caught_Up_In_You.mid']\n"
     ]
    }
   ],
   "source": [
    "print(midi_files)"
   ]
  },
  {
   "cell_type": "code",
   "execution_count": 215,
   "id": "c9f7f07b-64c7-42c7-935d-f11a76fa49b4",
   "metadata": {},
   "outputs": [],
   "source": [
    "\n",
    "list_ = []\n",
    "\n",
    "for file in midi_files:\n",
    "    dict_ = extract_guitar_and_drums(full_path)\n",
    "    list_.append(dict_)\n"
   ]
  },
  {
   "cell_type": "code",
   "execution_count": 218,
   "id": "329dc5c3-0806-4ff8-9449-ca4995ff3ce3",
   "metadata": {},
   "outputs": [
    {
     "name": "stdout",
     "output_type": "stream",
     "text": [
      "{'title': '10cc_-_The_Things_We_Do_for_Love', 'guitar': Instrument(program=25, is_drum=False, name=\"SteelGtr\"), 'drums': Instrument(program=16, is_drum=True, name=\"Rhythm&SE\")}\n",
      "{'title': '10cc_-_Im_Not_In_Love', 'guitar': Instrument(program=25, is_drum=False, name=\"SteelGtr\"), 'drums': Instrument(program=16, is_drum=True, name=\"Rhythm&SE\")}\n",
      "{'title': 'ABC_-_The_Look_of_Love', 'guitar': Instrument(program=25, is_drum=False, name=\"SteelGtr\"), 'drums': Instrument(program=16, is_drum=True, name=\"Rhythm&SE\")}\n",
      "{'title': '1910_Fruitgum_Company_-_Simon_Says', 'guitar': Instrument(program=25, is_drum=False, name=\"SteelGtr\"), 'drums': Instrument(program=16, is_drum=True, name=\"Rhythm&SE\")}\n",
      "{'title': 'Aaron_Neville_-_Tell_It_Like_It_Is', 'guitar': Instrument(program=25, is_drum=False, name=\"SteelGtr\"), 'drums': Instrument(program=16, is_drum=True, name=\"Rhythm&SE\")}\n",
      "{'title': '911_-_The_Day_We_Find_Love', 'guitar': Instrument(program=25, is_drum=False, name=\"SteelGtr\"), 'drums': Instrument(program=16, is_drum=True, name=\"Rhythm&SE\")}\n",
      "{'title': '10cc_-_Dreadlock_Holiday', 'guitar': Instrument(program=25, is_drum=False, name=\"SteelGtr\"), 'drums': Instrument(program=16, is_drum=True, name=\"Rhythm&SE\")}\n",
      "{'title': '38_Special_-_Fantasy_Girl', 'guitar': Instrument(program=25, is_drum=False, name=\"SteelGtr\"), 'drums': Instrument(program=16, is_drum=True, name=\"Rhythm&SE\")}\n",
      "{'title': 'ABC_-_Poison_Arrow', 'guitar': Instrument(program=25, is_drum=False, name=\"SteelGtr\"), 'drums': Instrument(program=16, is_drum=True, name=\"Rhythm&SE\")}\n",
      "{'title': '38_Special_-_Caught_Up_In_You', 'guitar': Instrument(program=25, is_drum=False, name=\"SteelGtr\"), 'drums': Instrument(program=16, is_drum=True, name=\"Rhythm&SE\")}\n"
     ]
    }
   ],
   "source": [
    "for element in list_:\n",
    "    print(element)"
   ]
  },
  {
   "cell_type": "code",
   "execution_count": 133,
   "id": "93879306-17b3-4da8-8611-e4c8a92fe676",
   "metadata": {},
   "outputs": [
    {
     "data": {
      "text/plain": [
       "10"
      ]
     },
     "execution_count": 133,
     "metadata": {},
     "output_type": "execute_result"
    }
   ],
   "source": [
    "len(list_)"
   ]
  },
  {
   "cell_type": "code",
   "execution_count": 134,
   "id": "44814b65-9520-4b70-a86e-f874358f7fbe",
   "metadata": {},
   "outputs": [
    {
     "data": {
      "text/plain": [
       "{'title': '38_Special_-_Caught_Up_In_You',\n",
       " 'guitar': Instrument(program=25, is_drum=False, name=\"SteelGtr\"),\n",
       " 'drums': Instrument(program=16, is_drum=True, name=\"Rhythm&SE\")}"
      ]
     },
     "execution_count": 134,
     "metadata": {},
     "output_type": "execute_result"
    }
   ],
   "source": [
    "list_[-1]"
   ]
  },
  {
   "cell_type": "code",
   "execution_count": 185,
   "id": "67bd1ef9-4918-4117-bc85-900af5b97db9",
   "metadata": {},
   "outputs": [],
   "source": [
    "list_of_string = []\n",
    "\n",
    "for element in list_:\n",
    "    string = \"\"\n",
    "    for note in element[\"guitar\"].notes:\n",
    "        delta = \"delta=\" + str(note.end - note.start) + \" \"\n",
    "        #start_time = \"start_time=\" + str(int(note.start)) + \" \"\n",
    "        #end_time = \"end_time=\" + str(int(note.end)) + \" \"\n",
    "        pitch = \"pitch=\" + str(note.pitch) + \" \"\n",
    "        velocity = \"velocity=\" + str(note.velocity) + \" \"\n",
    "        string = string + delta + pitch + velocity\n",
    "    list_of_string.append(string)\n"
   ]
  },
  {
   "cell_type": "code",
   "execution_count": 186,
   "id": "65338881-6402-4f62-bb29-22d78efa6cab",
   "metadata": {},
   "outputs": [
    {
     "data": {
      "text/plain": [
       "10"
      ]
     },
     "execution_count": 186,
     "metadata": {},
     "output_type": "execute_result"
    }
   ],
   "source": [
    "len(list_of_string)"
   ]
  },
  {
   "cell_type": "code",
   "execution_count": 187,
   "id": "036495f6-9d62-45ca-b389-69b5f2b9a1ac",
   "metadata": {},
   "outputs": [
    {
     "data": {
      "text/plain": [
       "numpy.float64"
      ]
     },
     "execution_count": 187,
     "metadata": {},
     "output_type": "execute_result"
    }
   ],
   "source": [
    "note = dict_[\"guitar\"].notes[0].start\n",
    "type(note)"
   ]
  },
  {
   "cell_type": "code",
   "execution_count": 188,
   "id": "28fb3322-1ea7-4abd-b90a-7adfa26f2404",
   "metadata": {},
   "outputs": [
    {
     "data": {
      "text/plain": [
       "0"
      ]
     },
     "execution_count": 188,
     "metadata": {},
     "output_type": "execute_result"
    }
   ],
   "source": [
    "from tokenizers import Tokenizer\n",
    "from tokenizers.models import WordLevel\n",
    "from tokenizers.pre_tokenizers import WhitespaceSplit\n",
    "from tokenizers.trainers import WordLevelTrainer\n",
    "\n",
    "from transformers import PreTrainedTokenizerFast\n",
    "\n",
    "\n",
    "tokenizer1 = Tokenizer(WordLevel(unk_token=\"[UNK]\"))\n",
    "tokenizer1.pre_tokenizer = WhitespaceSplit()\n",
    "trainer = WordLevelTrainer(\n",
    "    special_tokens=[\"[UNK]\", \"[CLS]\", \"[SEP]\", \"[PAD]\", \"[MASK]\"]\n",
    ")\n",
    "\n",
    "string = list_of_string[0]\n",
    "tokenizer1.train_from_iterator(string, trainer=trainer)\n",
    "tokenizer1.save(\"tokenizer.json\")\n",
    "\n",
    "tokenizer1 = PreTrainedTokenizerFast(tokenizer_file=\"tokenizer.json\")\n",
    "tokenizer1.add_special_tokens({'pad_token': '[PAD]'})"
   ]
  },
  {
   "cell_type": "code",
   "execution_count": 189,
   "id": "98b456ee-86de-4d08-895d-313ed3f84598",
   "metadata": {},
   "outputs": [
    {
     "data": {
      "text/plain": [
       "29"
      ]
     },
     "execution_count": 189,
     "metadata": {},
     "output_type": "execute_result"
    }
   ],
   "source": [
    "len(tokenizer1.get_vocab())"
   ]
  },
  {
   "cell_type": "code",
   "execution_count": 190,
   "id": "7f924508-d8ed-4667-ae88-4592aac425d3",
   "metadata": {},
   "outputs": [
    {
     "data": {
      "text/plain": [
       "{'4': 24,\n",
       " 'e': 9,\n",
       " '[SEP]': 2,\n",
       " '2': 26,\n",
       " 'a': 17,\n",
       " '[MASK]': 4,\n",
       " '9': 14,\n",
       " 'h': 19,\n",
       " '.': 16,\n",
       " '[UNK]': 0,\n",
       " '3': 27,\n",
       " '1': 13,\n",
       " 'o': 20,\n",
       " 'p': 21,\n",
       " '=': 6,\n",
       " 't': 7,\n",
       " 'i': 10,\n",
       " '6': 5,\n",
       " 'l': 11,\n",
       " 'v': 22,\n",
       " 'y': 23,\n",
       " '8': 28,\n",
       " '5': 25,\n",
       " '[PAD]': 3,\n",
       " '0': 15,\n",
       " 'd': 18,\n",
       " 'c': 8,\n",
       " '[CLS]': 1,\n",
       " '7': 12}"
      ]
     },
     "execution_count": 190,
     "metadata": {},
     "output_type": "execute_result"
    }
   ],
   "source": [
    "tokenizer1.get_vocab()"
   ]
  },
  {
   "cell_type": "code",
   "execution_count": 191,
   "id": "0d537d6f-f85c-40b6-9030-25fbf1f6599a",
   "metadata": {},
   "outputs": [],
   "source": [
    "from tokenizers import Tokenizer\n",
    "from tokenizers.models import WordLevel\n",
    "from tokenizers.pre_tokenizers import WhitespaceSplit\n",
    "from tokenizers.trainers import WordLevelTrainer\n",
    "\n",
    "from transformers import PreTrainedTokenizerFast\n",
    "\n",
    "\n",
    "tokenizer = Tokenizer(WordLevel(unk_token=\"[UNK]\"))\n",
    "tokenizer.pre_tokenizer = WhitespaceSplit()\n",
    "trainer = WordLevelTrainer(\n",
    "    special_tokens=[\"[UNK]\", \"[CLS]\", \"[SEP]\", \"[PAD]\", \"[MASK]\"]\n",
    ")\n",
    "\n",
    "def get_training_corpus():\n",
    "    for element in list_of_string:\n",
    "        yield element\n",
    "    \n",
    "training_corpus = get_training_corpus()\n",
    "tokenizer.train_from_iterator(training_corpus, trainer=trainer)\n",
    "tokenizer.save(\"tokenizer.json\")\n",
    "\n",
    "tokenizer = PreTrainedTokenizerFast(tokenizer_file=\"tokenizer.json\")"
   ]
  },
  {
   "cell_type": "code",
   "execution_count": 192,
   "id": "c4d17057-b812-4236-a5a4-8077ee592677",
   "metadata": {},
   "outputs": [
    {
     "data": {
      "text/plain": [
       "33"
      ]
     },
     "execution_count": 192,
     "metadata": {},
     "output_type": "execute_result"
    }
   ],
   "source": [
    "len(tokenizer.get_vocab())"
   ]
  },
  {
   "cell_type": "code",
   "execution_count": 193,
   "id": "b996ea99-fe46-4d17-b9bb-6823483be824",
   "metadata": {},
   "outputs": [
    {
     "data": {
      "text/plain": [
       "{'[PAD]': 3,\n",
       " 'delta=0.5': 22,\n",
       " 'delta=0.3333333333333428': 32,\n",
       " 'pitch=69': 28,\n",
       " 'delta=0.5729166666666572': 30,\n",
       " 'pitch=71': 20,\n",
       " 'delta=0.1666666666666714': 6,\n",
       " 'delta=0.16666666666666607': 19,\n",
       " 'pitch=42': 27,\n",
       " 'pitch=66': 14,\n",
       " 'delta=0.16666666666666785': 13,\n",
       " 'pitch=52': 23,\n",
       " '[SEP]': 2,\n",
       " 'delta=0.65625': 26,\n",
       " 'pitch=61': 11,\n",
       " 'pitch=54': 16,\n",
       " '[CLS]': 1,\n",
       " 'delta=0.1666666666666643': 8,\n",
       " 'pitch=56': 15,\n",
       " 'pitch=63': 24,\n",
       " 'delta=0.5833333333333428': 29,\n",
       " 'pitch=51': 31,\n",
       " '[UNK]': 0,\n",
       " 'pitch=57': 12,\n",
       " 'pitch=64': 9,\n",
       " 'pitch=47': 18,\n",
       " 'pitch=58': 21,\n",
       " 'velocity=79': 5,\n",
       " 'pitch=49': 25,\n",
       " 'delta=0.1666666666666572': 7,\n",
       " 'pitch=68': 17,\n",
       " 'pitch=59': 10,\n",
       " '[MASK]': 4}"
      ]
     },
     "execution_count": 193,
     "metadata": {},
     "output_type": "execute_result"
    }
   ],
   "source": [
    "tokenizer.get_vocab()"
   ]
  },
  {
   "cell_type": "code",
   "execution_count": 194,
   "id": "a1c9cbb6-3935-40bd-9e4e-a49822853d8c",
   "metadata": {},
   "outputs": [
    {
     "data": {
      "text/plain": [
       "'delta=0.16666666666666607 pitch=71 velocity=79 delta=0.16666666666666607 pitch=64 velocity=79 delta=0.16666666666666607 pitch=71 velocity=79 delta=0.16666666666666607 pitch=64 velocity=79 delta=0.16666666666666607 pitch=71 velocity=79 delta=0.16666666666666607 pitch=64 velocity=79 delta=0.16666666666666607 pitch=71 velocity=79 delta=0.16666666666666607 pitch=63 velocity=79 delta=0.16666666666666607 pitch=71 velocity=79 delta=0.16666666666666607 pitch=63 velocity=79 delta=0.16666666666666607 pitch=71 velocity=79 delta=0.16666666666666607 pitch=63 velocity=79 delta=0.16666666666666607 pitch=71 velocity=79 delta=0.16666666666666607 pitch=63 velocity=79 delta=0.16666666666666607 pitch=68 velocity=79 delta=0.16666666666666607 pitch=61 velocity=79 delta=0.16666666666666607 pitch=68 velocity=79 delta=0.16666666666666607 pitch=61 velocity=79 delta=0.16666666666666607 pitch=68 velocity=79 delta=0.16666666666666607 pitch=61 velocity=79 delta=0.16666666666666607 pitch=68 velocity=79 delta=0.16666666666666607 pitch=61 velocity=79 delta=0.16666666666666607 pitch=66 velocity=79 delta=0.16666666666666607 pitch=59 velocity=79 delta=0.16666666666666607 pitch=66 velocity=79 delta=0.16666666666666607 pitch=59 velocity=79 delta=0.16666666666666607 pitch=66 velocity=79 delta=0.16666666666666607 pitch=59 velocity=79 delta=0.16666666666666607 pitch=66 velocity=79 delta=0.16666666666666607 pitch=59 velocity=79 delta=0.16666666666666607 pitch=64 velocity=79 delta=0.16666666666666607 pitch=57 velocity=79 delta=0.16666666666666607 pitch=64 velocity=79 delta=0.16666666666666607 pitch=57 velocity=79 delta=0.16666666666666607 pitch=64 velocity=79 delta=0.16666666666666607 pitch=57 velocity=79 delta=0.16666666666666607 pitch=64 velocity=79 delta=0.16666666666666607 pitch=57 velocity=79 delta=0.16666666666666607 pitch=64 velocity=79 delta=0.16666666666666607 pitch=57 velocity=79 delta=0.16666666666666607 pitch=68 velocity=79 delta=0.16666666666666607 pitch=61 velocity=79 delta=0.16666666666666607 pitch=68 velocity=79 delta=0.16666666666666607 pitch=61 velocity=79 delta=0.16666666666666607 pitch=68 velocity=79 delta=0.16666666666666607 pitch=61 velocity=79 delta=0.16666666666666607 pitch=66 velocity=79 delta=0.16666666666666607 pitch=59 velocity=79 delta=0.16666666666666785 pitch=66 velocity=79 delta=0.16666666666666785 pitch=59 velocity=79 delta=0.16666666666666785 pitch=66 velocity=79 delta=0.16666666666666785 pitch=59 velocity=79 delta=0.16666666666666785 pitch=66 velocity=79 delta=0.16666666666666785 pitch=59 velocity=79 delta=0.16666666666666785 pitch=66 velocity=79 delta=0.16666666666666785 pitch=59 velocity=79 delta=0.16666666666666785 pitch=66 velocity=79 delta=0.16666666666666785 pitch=59 velocity=79 delta=0.16666666666666785 pitch=66 velocity=79 delta=0.16666666666666785 pitch=59 velocity=79 delta=0.16666666666666785 pitch=66 velocity=79 delta=0.16666666666666785 pitch=59 velocity=79 delta=0.16666666666666785 pitch=66 velocity=79 delta=0.16666666666666785 pitch=59 velocity=79 delta=0.16666666666666785 pitch=71 velocity=79 delta=0.16666666666666785 pitch=64 velocity=79 delta=0.16666666666666785 pitch=71 velocity=79 delta=0.16666666666666785 pitch=64 velocity=79 delta=0.16666666666666785 pitch=71 velocity=79 delta=0.16666666666666785 pitch=64 velocity=79 delta=0.16666666666666785 pitch=71 velocity=79 delta=0.16666666666666785 pitch=63 velocity=79 delta=0.16666666666666785 pitch=71 velocity=79 delta=0.16666666666666785 pitch=63 velocity=79 delta=0.16666666666666785 pitch=71 velocity=79 delta=0.16666666666666785 pitch=63 velocity=79 delta=0.16666666666666785 pitch=71 velocity=79 delta=0.16666666666666785 pitch=63 velocity=79 delta=0.16666666666666785 pitch=68 velocity=79 delta=0.16666666666666785 pitch=61 velocity=79 delta=0.16666666666666785 pitch=68 velocity=79 delta=0.16666666666666785 pitch=61 velocity=79 delta=0.16666666666666785 pitch=68 velocity=79 delta=0.16666666666666785 pitch=61 velocity=79 delta=0.16666666666666785 pitch=68 velocity=79 delta=0.16666666666666785 pitch=61 velocity=79 delta=0.16666666666666785 pitch=66 velocity=79 delta=0.16666666666666785 pitch=59 velocity=79 delta=0.16666666666666785 pitch=66 velocity=79 delta=0.16666666666666785 pitch=59 velocity=79 delta=0.16666666666666785 pitch=66 velocity=79 delta=0.16666666666666785 pitch=59 velocity=79 delta=0.16666666666666785 pitch=66 velocity=79 delta=0.16666666666666785 pitch=59 velocity=79 delta=0.16666666666666785 pitch=64 velocity=79 delta=0.16666666666666785 pitch=57 velocity=79 delta=0.16666666666666785 pitch=64 velocity=79 delta=0.16666666666666785 pitch=57 velocity=79 delta=0.16666666666666785 pitch=64 velocity=79 delta=0.16666666666666785 pitch=57 velocity=79 delta=0.16666666666666785 pitch=64 velocity=79 delta=0.16666666666666785 pitch=57 velocity=79 delta=0.16666666666666785 pitch=64 velocity=79 delta=0.16666666666666785 pitch=57 velocity=79 delta=0.16666666666666785 pitch=68 velocity=79 delta=0.16666666666666785 pitch=61 velocity=79 delta=0.16666666666666785 pitch=68 velocity=79 delta=0.16666666666666785 pitch=61 velocity=79 delta=0.16666666666666785 pitch=68 velocity=79 delta=0.16666666666666785 pitch=61 velocity=79 delta=0.16666666666666785 pitch=66 velocity=79 delta=0.16666666666666785 pitch=59 velocity=79 delta=0.16666666666666785 pitch=66 velocity=79 delta=0.16666666666666785 pitch=59 velocity=79 delta=0.16666666666666785 pitch=66 velocity=79 delta=0.16666666666666785 pitch=59 velocity=79 delta=0.16666666666666785 pitch=66 velocity=79 delta=0.16666666666666785 pitch=59 velocity=79 delta=0.16666666666666785 pitch=66 velocity=79 delta=0.16666666666666785 pitch=59 velocity=79 delta=0.16666666666666785 pitch=66 velocity=79 delta=0.16666666666666785 pitch=59 velocity=79 delta=0.16666666666666785 pitch=66 velocity=79 delta=0.16666666666666785 pitch=59 velocity=79 delta=0.16666666666666785 pitch=66 velocity=79 delta=0.16666666666666785 pitch=59 velocity=79 delta=0.16666666666666785 pitch=64 velocity=79 delta=0.16666666666666785 pitch=57 velocity=79 delta=0.16666666666666785 pitch=64 velocity=79 delta=0.16666666666666785 pitch=57 velocity=79 delta=0.16666666666666785 pitch=64 velocity=79 delta=0.16666666666666785 pitch=57 velocity=79 delta=0.16666666666666785 pitch=64 velocity=79 delta=0.16666666666666785 pitch=57 velocity=79 delta=0.16666666666666785 pitch=64 velocity=79 delta=0.16666666666666785 pitch=57 velocity=79 delta=0.16666666666666785 pitch=68 velocity=79 delta=0.16666666666666785 pitch=61 velocity=79 delta=0.16666666666666785 pitch=68 velocity=79 delta=0.16666666666666785 pitch=61 velocity=79 delta=0.16666666666666785 pitch=68 velocity=79 delta=0.16666666666666785 pitch=61 velocity=79 delta=0.16666666666666785 pitch=66 velocity=79 delta=0.16666666666666785 pitch=59 velocity=79 delta=0.16666666666666785 pitch=66 velocity=79 delta=0.16666666666666785 pitch=59 velocity=79 delta=0.16666666666666785 pitch=66 velocity=79 delta=0.16666666666666785 pitch=59 velocity=79 delta=0.16666666666666785 pitch=66 velocity=79 delta=0.16666666666666785 pitch=59 velocity=79 delta=0.16666666666666785 pitch=66 velocity=79 delta=0.16666666666666785 pitch=59 velocity=79 delta=0.16666666666666785 pitch=66 velocity=79 delta=0.16666666666666785 pitch=59 velocity=79 delta=0.16666666666666785 pitch=66 velocity=79 delta=0.16666666666666785 pitch=59 velocity=79 delta=0.16666666666666785 pitch=66 velocity=79 delta=0.16666666666666785 pitch=59 velocity=79 delta=0.16666666666666785 pitch=66 velocity=79 delta=0.16666666666666785 pitch=59 velocity=79 delta=0.16666666666666785 pitch=64 velocity=79 delta=0.16666666666666785 pitch=57 velocity=79 delta=0.16666666666666785 pitch=64 velocity=79 delta=0.16666666666666785 pitch=57 velocity=79 delta=0.16666666666666785 pitch=64 velocity=79 delta=0.16666666666666785 pitch=57 velocity=79 delta=0.16666666666666785 pitch=64 velocity=79 delta=0.16666666666666785 pitch=57 velocity=79 delta=0.16666666666666785 pitch=68 velocity=79 delta=0.16666666666666785 pitch=61 velocity=79 delta=0.16666666666666785 pitch=68 velocity=79 delta=0.16666666666666785 pitch=61 velocity=79 delta=0.16666666666666785 pitch=68 velocity=79 delta=0.16666666666666785 pitch=61 velocity=79 delta=0.16666666666666785 pitch=66 velocity=79 delta=0.16666666666666785 pitch=59 velocity=79 delta=0.1666666666666643 pitch=66 velocity=79 delta=0.1666666666666643 pitch=59 velocity=79 delta=0.1666666666666643 pitch=66 velocity=79 delta=0.1666666666666643 pitch=59 velocity=79 delta=0.1666666666666643 pitch=66 velocity=79 delta=0.1666666666666643 pitch=59 velocity=79 delta=0.1666666666666643 pitch=66 velocity=79 delta=0.1666666666666643 pitch=59 velocity=79 delta=0.1666666666666643 pitch=66 velocity=79 delta=0.1666666666666643 pitch=59 velocity=79 delta=0.1666666666666643 pitch=66 velocity=79 delta=0.1666666666666643 pitch=59 velocity=79 delta=0.1666666666666643 pitch=66 velocity=79 delta=0.1666666666666643 pitch=59 velocity=79 delta=0.1666666666666643 pitch=66 velocity=79 delta=0.1666666666666643 pitch=59 velocity=79 delta=0.1666666666666643 pitch=69 velocity=79 delta=0.1666666666666643 pitch=54 velocity=79 delta=0.1666666666666643 pitch=69 velocity=79 delta=0.1666666666666643 pitch=54 velocity=79 delta=0.1666666666666643 pitch=69 velocity=79 delta=0.1666666666666643 pitch=54 velocity=79 delta=0.1666666666666643 pitch=71 velocity=79 delta=0.1666666666666643 pitch=56 velocity=79 delta=0.1666666666666643 pitch=71 velocity=79 delta=0.1666666666666643 pitch=56 velocity=79 delta=0.1666666666666643 pitch=71 velocity=79 delta=0.1666666666666643 pitch=56 velocity=79 delta=0.1666666666666643 pitch=71 velocity=79 delta=0.1666666666666643 pitch=56 velocity=79 delta=0.1666666666666643 pitch=64 velocity=79 delta=0.1666666666666643 pitch=57 velocity=79 delta=0.1666666666666643 pitch=64 velocity=79 delta=0.1666666666666643 pitch=57 velocity=79 delta=0.1666666666666643 pitch=64 velocity=79 delta=0.1666666666666643 pitch=57 velocity=79 delta=0.1666666666666643 pitch=64 velocity=79 delta=0.1666666666666643 pitch=57 velocity=79 delta=0.1666666666666643 pitch=66 velocity=79 delta=0.1666666666666643 pitch=58 velocity=79 delta=0.1666666666666643 pitch=66 velocity=79 delta=0.1666666666666643 pitch=58 velocity=79 delta=0.1666666666666643 pitch=66 velocity=79 delta=0.1666666666666643 pitch=58 velocity=79 delta=0.1666666666666643 pitch=66 velocity=79 delta=0.1666666666666643 pitch=58 velocity=79 delta=0.1666666666666643 pitch=66 velocity=79 delta=0.1666666666666643 pitch=58 velocity=79 delta=0.1666666666666643 pitch=66 velocity=79 delta=0.1666666666666643 pitch=59 velocity=79 delta=0.1666666666666643 pitch=66 velocity=79 delta=0.1666666666666643 pitch=59 velocity=79 delta=0.1666666666666643 pitch=66 velocity=79 delta=0.1666666666666643 pitch=59 velocity=79 delta=0.1666666666666643 pitch=66 velocity=79 delta=0.1666666666666643 pitch=59 velocity=79 delta=0.1666666666666643 pitch=66 velocity=79 delta=0.1666666666666643 pitch=59 velocity=79 delta=0.1666666666666643 pitch=66 velocity=79 delta=0.1666666666666643 pitch=59 velocity=79 delta=0.1666666666666643 pitch=66 velocity=79 delta=0.1666666666666643 pitch=59 velocity=79 delta=0.1666666666666643 pitch=66 velocity=79 delta=0.1666666666666643 pitch=59 velocity=79 delta=0.1666666666666643 pitch=66 velocity=79 delta=0.1666666666666643 pitch=59 velocity=79 delta=0.1666666666666643 pitch=66 velocity=79 delta=0.1666666666666643 pitch=59 velocity=79 delta=0.1666666666666643 pitch=64 velocity=79 delta=0.1666666666666643 pitch=57 velocity=79 delta=0.1666666666666643 pitch=64 velocity=79 delta=0.1666666666666643 pitch=57 velocity=79 delta=0.1666666666666643 pitch=64 velocity=79 delta=0.1666666666666643 pitch=57 velocity=79 delta=0.1666666666666643 pitch=64 velocity=79 delta=0.1666666666666643 pitch=57 velocity=79 delta=0.1666666666666643 pitch=64 velocity=79 delta=0.1666666666666643 pitch=57 velocity=79 delta=0.1666666666666643 pitch=64 velocity=79 delta=0.1666666666666643 pitch=57 velocity=79 delta=0.1666666666666643 pitch=64 velocity=79 delta=0.1666666666666643 pitch=57 velocity=79 delta=0.1666666666666643 pitch=64 velocity=79 delta=0.1666666666666643 pitch=57 velocity=79 delta=0.1666666666666643 pitch=64 velocity=79 delta=0.1666666666666643 pitch=56 velocity=79 delta=0.1666666666666643 pitch=64 velocity=79 delta=0.1666666666666643 pitch=56 velocity=79 delta=0.1666666666666643 pitch=64 velocity=79 delta=0.1666666666666643 pitch=56 velocity=79 delta=0.1666666666666643 pitch=64 velocity=79 delta=0.1666666666666643 pitch=56 velocity=79 delta=0.1666666666666643 pitch=64 velocity=79 delta=0.1666666666666643 pitch=56 velocity=79 delta=0.1666666666666643 pitch=64 velocity=79 delta=0.1666666666666643 pitch=56 velocity=79 delta=0.1666666666666643 pitch=64 velocity=79 delta=0.1666666666666643 pitch=56 velocity=79 delta=0.1666666666666643 pitch=64 velocity=79 delta=0.1666666666666643 pitch=56 velocity=79 delta=0.1666666666666643 pitch=61 velocity=79 delta=0.1666666666666643 pitch=54 velocity=79 delta=0.1666666666666643 pitch=61 velocity=79 delta=0.1666666666666643 pitch=54 velocity=79 delta=0.1666666666666643 pitch=61 velocity=79 delta=0.1666666666666643 pitch=54 velocity=79 delta=0.1666666666666643 pitch=61 velocity=79 delta=0.1666666666666643 pitch=54 velocity=79 delta=0.1666666666666643 pitch=61 velocity=79 delta=0.1666666666666643 pitch=54 velocity=79 delta=0.1666666666666643 pitch=61 velocity=79 delta=0.1666666666666643 pitch=54 velocity=79 delta=0.1666666666666643 pitch=61 velocity=79 delta=0.1666666666666643 pitch=54 velocity=79 delta=0.1666666666666643 pitch=61 velocity=79 delta=0.1666666666666643 pitch=54 velocity=79 delta=0.1666666666666643 pitch=68 velocity=79 delta=0.1666666666666643 pitch=61 velocity=79 delta=0.1666666666666643 pitch=68 velocity=79 delta=0.1666666666666643 pitch=61 velocity=79 delta=0.1666666666666643 pitch=68 velocity=79 delta=0.1666666666666643 pitch=61 velocity=79 delta=0.1666666666666643 pitch=68 velocity=79 delta=0.1666666666666643 pitch=61 velocity=79 delta=0.1666666666666643 pitch=68 velocity=79 delta=0.1666666666666643 pitch=61 velocity=79 delta=0.1666666666666643 pitch=64 velocity=79 delta=0.1666666666666643 pitch=52 velocity=79 delta=0.1666666666666643 pitch=64 velocity=79 delta=0.1666666666666643 pitch=52 velocity=79 delta=0.1666666666666643 pitch=64 velocity=79 delta=0.1666666666666643 pitch=52 velocity=79 delta=0.1666666666666643 pitch=64 velocity=79 delta=0.1666666666666643 pitch=57 velocity=79 delta=0.1666666666666643 pitch=64 velocity=79 delta=0.1666666666666643 pitch=57 velocity=79 delta=0.1666666666666643 pitch=64 velocity=79 delta=0.1666666666666643 pitch=57 velocity=79 delta=0.1666666666666643 pitch=64 velocity=79 delta=0.1666666666666643 pitch=57 velocity=79 delta=0.1666666666666643 pitch=64 velocity=79 delta=0.1666666666666643 pitch=57 velocity=79 delta=0.1666666666666643 pitch=64 velocity=79 delta=0.1666666666666643 pitch=57 velocity=79 delta=0.1666666666666643 pitch=64 velocity=79 delta=0.1666666666666643 pitch=57 velocity=79 delta=0.1666666666666643 pitch=64 velocity=79 delta=0.1666666666666643 pitch=57 velocity=79 delta=0.1666666666666643 pitch=64 velocity=79 delta=0.1666666666666643 pitch=56 velocity=79 delta=0.1666666666666643 pitch=64 velocity=79 delta=0.1666666666666643 pitch=56 velocity=79 delta=0.1666666666666643 pitch=64 velocity=79 delta=0.1666666666666643 pitch=56 velocity=79 delta=0.1666666666666643 pitch=64 velocity=79 delta=0.1666666666666643 pitch=56 velocity=79 delta=0.1666666666666643 pitch=64 velocity=79 delta=0.1666666666666643 pitch=56 velocity=79 delta=0.1666666666666643 pitch=64 velocity=79 delta=0.1666666666666643 pitch=56 velocity=79 delta=0.1666666666666643 pitch=64 velocity=79 delta=0.1666666666666643 pitch=56 velocity=79 delta=0.1666666666666643 pitch=64 velocity=79 delta=0.1666666666666643 pitch=56 velocity=79 delta=0.1666666666666643 pitch=61 velocity=79 delta=0.1666666666666643 pitch=54 velocity=79 delta=0.1666666666666643 pitch=61 velocity=79 delta=0.1666666666666643 pitch=54 velocity=79 delta=0.1666666666666643 pitch=61 velocity=79 delta=0.1666666666666643 pitch=54 velocity=79 delta=0.1666666666666643 pitch=61 velocity=79 delta=0.1666666666666643 pitch=54 velocity=79 delta=0.1666666666666643 pitch=61 velocity=79 delta=0.1666666666666643 pitch=54 velocity=79 delta=0.1666666666666643 pitch=61 velocity=79 delta=0.1666666666666643 pitch=54 velocity=79 delta=0.1666666666666643 pitch=61 velocity=79 delta=0.1666666666666643 pitch=54 velocity=79 delta=0.1666666666666643 pitch=61 velocity=79 delta=0.1666666666666643 pitch=54 velocity=79 delta=0.1666666666666643 pitch=61 velocity=79 delta=0.1666666666666643 pitch=61 velocity=79 delta=0.1666666666666643 pitch=61 velocity=79 delta=0.1666666666666643 pitch=61 velocity=79 delta=0.1666666666666643 pitch=61 velocity=79 delta=0.1666666666666643 pitch=64 velocity=79 delta=0.1666666666666643 pitch=52 velocity=79 delta=0.1666666666666643 pitch=64 velocity=79 delta=0.1666666666666643 pitch=52 velocity=79 delta=0.1666666666666643 pitch=64 velocity=79 delta=0.1666666666666643 pitch=52 velocity=79 delta=0.1666666666666643 pitch=64 velocity=79 delta=0.1666666666666643 pitch=57 velocity=79 delta=0.1666666666666643 pitch=64 velocity=79 delta=0.1666666666666643 pitch=57 velocity=79 delta=0.1666666666666643 pitch=64 velocity=79 delta=0.1666666666666643 pitch=57 velocity=79 delta=0.1666666666666643 pitch=64 velocity=79 delta=0.1666666666666643 pitch=57 velocity=79 delta=0.1666666666666643 pitch=64 velocity=79 delta=0.1666666666666643 pitch=57 velocity=79 delta=0.1666666666666643 pitch=64 velocity=79 delta=0.1666666666666643 pitch=57 velocity=79 delta=0.1666666666666643 pitch=64 velocity=79 delta=0.1666666666666643 pitch=57 velocity=79 delta=0.1666666666666643 pitch=64 velocity=79 delta=0.1666666666666643 pitch=57 velocity=79 delta=0.1666666666666643 pitch=64 velocity=79 delta=0.1666666666666643 pitch=56 velocity=79 delta=0.1666666666666643 pitch=64 velocity=79 delta=0.1666666666666643 pitch=56 velocity=79 delta=0.1666666666666643 pitch=64 velocity=79 delta=0.1666666666666643 pitch=56 velocity=79 delta=0.1666666666666643 pitch=64 velocity=79 delta=0.1666666666666643 pitch=56 velocity=79 delta=0.1666666666666643 pitch=64 velocity=79 delta=0.1666666666666643 pitch=56 velocity=79 delta=0.1666666666666643 pitch=64 velocity=79 delta=0.1666666666666643 pitch=56 velocity=79 delta=0.1666666666666643 pitch=64 velocity=79 delta=0.1666666666666643 pitch=56 velocity=79 delta=0.1666666666666643 pitch=64 velocity=79 delta=0.1666666666666643 pitch=56 velocity=79 delta=0.1666666666666643 pitch=61 velocity=79 delta=0.1666666666666643 pitch=54 velocity=79 delta=0.1666666666666643 pitch=61 velocity=79 delta=0.1666666666666643 pitch=54 velocity=79 delta=0.1666666666666643 pitch=61 velocity=79 delta=0.1666666666666643 pitch=54 velocity=79 delta=0.1666666666666643 pitch=61 velocity=79 delta=0.1666666666666643 pitch=54 velocity=79 delta=0.1666666666666643 pitch=57 velocity=79 delta=0.1666666666666643 pitch=56 velocity=79 delta=0.1666666666666643 pitch=56 velocity=79 delta=0.1666666666666643 pitch=56 velocity=79 delta=0.1666666666666643 pitch=64 velocity=79 delta=0.1666666666666643 pitch=57 velocity=79 delta=0.1666666666666714 pitch=64 velocity=79 delta=0.1666666666666714 pitch=57 velocity=79 delta=0.1666666666666714 pitch=64 velocity=79 delta=0.1666666666666714 pitch=57 velocity=79 delta=0.1666666666666714 pitch=64 velocity=79 delta=0.1666666666666714 pitch=57 velocity=79 delta=0.1666666666666714 pitch=58 velocity=79 delta=0.1666666666666714 pitch=58 velocity=79 delta=0.1666666666666714 pitch=58 velocity=79 delta=0.1666666666666714 pitch=58 velocity=79 delta=0.1666666666666714 pitch=59 velocity=79 delta=0.1666666666666714 pitch=47 velocity=79 delta=0.1666666666666714 pitch=59 velocity=79 delta=0.1666666666666714 pitch=47 velocity=79 delta=0.1666666666666714 pitch=59 velocity=79 delta=0.1666666666666714 pitch=47 velocity=79 delta=0.1666666666666714 pitch=59 velocity=79 delta=0.1666666666666714 pitch=47 velocity=79 delta=0.1666666666666714 pitch=59 velocity=79 delta=0.1666666666666714 pitch=47 velocity=79 delta=0.1666666666666714 pitch=59 velocity=79 delta=0.1666666666666714 pitch=47 velocity=79 delta=0.1666666666666714 pitch=59 velocity=79 delta=0.1666666666666714 pitch=47 velocity=79 delta=0.1666666666666714 pitch=59 velocity=79 delta=0.1666666666666714 pitch=47 velocity=79 delta=0.1666666666666714 pitch=59 velocity=79 delta=0.1666666666666714 pitch=47 velocity=79 delta=0.1666666666666714 pitch=59 velocity=79 delta=0.1666666666666714 pitch=47 velocity=79 delta=0.1666666666666714 pitch=71 velocity=79 delta=0.1666666666666714 pitch=64 velocity=79 delta=0.1666666666666714 pitch=71 velocity=79 delta=0.1666666666666714 pitch=64 velocity=79 delta=0.1666666666666714 pitch=71 velocity=79 delta=0.1666666666666714 pitch=64 velocity=79 delta=0.1666666666666714 pitch=71 velocity=79 delta=0.1666666666666714 pitch=63 velocity=79 delta=0.1666666666666714 pitch=71 velocity=79 delta=0.1666666666666714 pitch=63 velocity=79 delta=0.1666666666666714 pitch=71 velocity=79 delta=0.1666666666666714 pitch=63 velocity=79 delta=0.1666666666666714 pitch=71 velocity=79 delta=0.1666666666666714 pitch=63 velocity=79 delta=0.1666666666666714 pitch=68 velocity=79 delta=0.1666666666666714 pitch=61 velocity=79 delta=0.1666666666666714 pitch=68 velocity=79 delta=0.1666666666666714 pitch=61 velocity=79 delta=0.1666666666666714 pitch=68 velocity=79 delta=0.1666666666666714 pitch=61 velocity=79 delta=0.1666666666666714 pitch=68 velocity=79 delta=0.1666666666666714 pitch=61 velocity=79 delta=0.1666666666666714 pitch=66 velocity=79 delta=0.1666666666666714 pitch=59 velocity=79 delta=0.1666666666666714 pitch=66 velocity=79 delta=0.1666666666666714 pitch=59 velocity=79 delta=0.1666666666666714 pitch=66 velocity=79 delta=0.1666666666666714 pitch=59 velocity=79 delta=0.1666666666666714 pitch=66 velocity=79 delta=0.1666666666666714 pitch=59 velocity=79 delta=0.1666666666666714 pitch=64 velocity=79 delta=0.1666666666666714 pitch=57 velocity=79 delta=0.1666666666666714 pitch=64 velocity=79 delta=0.1666666666666714 pitch=57 velocity=79 delta=0.1666666666666714 pitch=64 velocity=79 delta=0.1666666666666714 pitch=57 velocity=79 delta=0.1666666666666714 pitch=64 velocity=79 delta=0.1666666666666714 pitch=57 velocity=79 delta=0.1666666666666714 pitch=64 velocity=79 delta=0.1666666666666714 pitch=57 velocity=79 delta=0.1666666666666714 pitch=68 velocity=79 delta=0.1666666666666714 pitch=61 velocity=79 delta=0.1666666666666714 pitch=68 velocity=79 delta=0.1666666666666714 pitch=61 velocity=79 delta=0.1666666666666714 pitch=68 velocity=79 delta=0.1666666666666714 pitch=61 velocity=79 delta=0.1666666666666714 pitch=66 velocity=79 delta=0.1666666666666714 pitch=59 velocity=79 delta=0.1666666666666714 pitch=66 velocity=79 delta=0.1666666666666714 pitch=59 velocity=79 delta=0.1666666666666714 pitch=66 velocity=79 delta=0.1666666666666714 pitch=59 velocity=79 delta=0.1666666666666714 pitch=66 velocity=79 delta=0.1666666666666714 pitch=59 velocity=79 delta=0.1666666666666714 pitch=66 velocity=79 delta=0.1666666666666714 pitch=59 velocity=79 delta=0.1666666666666714 pitch=66 velocity=79 delta=0.1666666666666714 pitch=59 velocity=79 delta=0.1666666666666714 pitch=66 velocity=79 delta=0.1666666666666714 pitch=59 velocity=79 delta=0.1666666666666714 pitch=66 velocity=79 delta=0.1666666666666714 pitch=59 velocity=79 delta=0.1666666666666714 pitch=66 velocity=79 delta=0.1666666666666714 pitch=59 velocity=79 delta=0.1666666666666714 pitch=71 velocity=79 delta=0.1666666666666714 pitch=64 velocity=79 delta=0.1666666666666714 pitch=71 velocity=79 delta=0.1666666666666714 pitch=64 velocity=79 delta=0.1666666666666714 pitch=71 velocity=79 delta=0.1666666666666714 pitch=64 velocity=79 delta=0.1666666666666714 pitch=71 velocity=79 delta=0.1666666666666714 pitch=63 velocity=79 delta=0.1666666666666714 pitch=71 velocity=79 delta=0.1666666666666714 pitch=63 velocity=79 delta=0.1666666666666714 pitch=71 velocity=79 delta=0.1666666666666714 pitch=63 velocity=79 delta=0.1666666666666714 pitch=71 velocity=79 delta=0.1666666666666714 pitch=63 velocity=79 delta=0.1666666666666714 pitch=68 velocity=79 delta=0.1666666666666714 pitch=61 velocity=79 delta=0.1666666666666714 pitch=68 velocity=79 delta=0.1666666666666714 pitch=61 velocity=79 delta=0.1666666666666714 pitch=68 velocity=79 delta=0.1666666666666714 pitch=61 velocity=79 delta=0.1666666666666714 pitch=68 velocity=79 delta=0.1666666666666714 pitch=61 velocity=79 delta=0.1666666666666714 pitch=66 velocity=79 delta=0.1666666666666714 pitch=59 velocity=79 delta=0.1666666666666714 pitch=66 velocity=79 delta=0.1666666666666714 pitch=59 velocity=79 delta=0.1666666666666714 pitch=66 velocity=79 delta=0.1666666666666714 pitch=59 velocity=79 delta=0.1666666666666714 pitch=66 velocity=79 delta=0.1666666666666714 pitch=59 velocity=79 delta=0.1666666666666714 pitch=64 velocity=79 delta=0.1666666666666714 pitch=57 velocity=79 delta=0.1666666666666714 pitch=64 velocity=79 delta=0.1666666666666714 pitch=57 velocity=79 delta=0.1666666666666714 pitch=64 velocity=79 delta=0.1666666666666714 pitch=57 velocity=79 delta=0.1666666666666714 pitch=64 velocity=79 delta=0.1666666666666714 pitch=57 velocity=79 delta=0.1666666666666714 pitch=64 velocity=79 delta=0.1666666666666714 pitch=57 velocity=79 delta=0.1666666666666714 pitch=68 velocity=79 delta=0.1666666666666714 pitch=61 velocity=79 delta=0.1666666666666714 pitch=68 velocity=79 delta=0.1666666666666714 pitch=61 velocity=79 delta=0.1666666666666714 pitch=68 velocity=79 delta=0.1666666666666714 pitch=61 velocity=79 delta=0.1666666666666714 pitch=66 velocity=79 delta=0.1666666666666714 pitch=59 velocity=79 delta=0.1666666666666714 pitch=66 velocity=79 delta=0.1666666666666714 pitch=59 velocity=79 delta=0.1666666666666714 pitch=66 velocity=79 delta=0.1666666666666714 pitch=59 velocity=79 delta=0.1666666666666714 pitch=66 velocity=79 delta=0.1666666666666714 pitch=59 velocity=79 delta=0.1666666666666714 pitch=66 velocity=79 delta=0.1666666666666714 pitch=59 velocity=79 delta=0.1666666666666714 pitch=66 velocity=79 delta=0.1666666666666714 pitch=59 velocity=79 delta=0.1666666666666714 pitch=66 velocity=79 delta=0.1666666666666714 pitch=59 velocity=79 delta=0.1666666666666714 pitch=66 velocity=79 delta=0.1666666666666714 pitch=59 velocity=79 delta=0.1666666666666714 pitch=64 velocity=79 delta=0.1666666666666714 pitch=57 velocity=79 delta=0.1666666666666714 pitch=64 velocity=79 delta=0.1666666666666714 pitch=57 velocity=79 delta=0.1666666666666714 pitch=64 velocity=79 delta=0.1666666666666714 pitch=57 velocity=79 delta=0.1666666666666714 pitch=64 velocity=79 delta=0.1666666666666714 pitch=57 velocity=79 delta=0.1666666666666714 pitch=64 velocity=79 delta=0.1666666666666714 pitch=57 velocity=79 delta=0.1666666666666714 pitch=68 velocity=79 delta=0.1666666666666714 pitch=61 velocity=79 delta=0.1666666666666714 pitch=68 velocity=79 delta=0.1666666666666714 pitch=61 velocity=79 delta=0.1666666666666714 pitch=68 velocity=79 delta=0.1666666666666714 pitch=61 velocity=79 delta=0.1666666666666714 pitch=66 velocity=79 delta=0.1666666666666714 pitch=59 velocity=79 delta=0.1666666666666714 pitch=66 velocity=79 delta=0.1666666666666714 pitch=59 velocity=79 delta=0.1666666666666714 pitch=66 velocity=79 delta=0.1666666666666714 pitch=59 velocity=79 delta=0.1666666666666714 pitch=66 velocity=79 delta=0.1666666666666714 pitch=59 velocity=79 delta=0.1666666666666714 pitch=66 velocity=79 delta=0.1666666666666714 pitch=59 velocity=79 delta=0.1666666666666714 pitch=66 velocity=79 delta=0.1666666666666714 pitch=59 velocity=79 delta=0.1666666666666714 pitch=66 velocity=79 delta=0.1666666666666714 pitch=59 velocity=79 delta=0.1666666666666714 pitch=66 velocity=79 delta=0.1666666666666714 pitch=59 velocity=79 delta=0.1666666666666714 pitch=66 velocity=79 delta=0.1666666666666714 pitch=59 velocity=79 delta=0.1666666666666714 pitch=64 velocity=79 delta=0.1666666666666714 pitch=57 velocity=79 delta=0.1666666666666714 pitch=64 velocity=79 delta=0.1666666666666714 pitch=57 velocity=79 delta=0.1666666666666714 pitch=64 velocity=79 delta=0.1666666666666714 pitch=57 velocity=79 delta=0.1666666666666714 pitch=64 velocity=79 delta=0.1666666666666714 pitch=57 velocity=79 delta=0.1666666666666714 pitch=68 velocity=79 delta=0.1666666666666714 pitch=61 velocity=79 delta=0.1666666666666714 pitch=68 velocity=79 delta=0.1666666666666714 pitch=61 velocity=79 delta=0.1666666666666714 pitch=68 velocity=79 delta=0.1666666666666714 pitch=61 velocity=79 delta=0.1666666666666714 pitch=66 velocity=79 delta=0.1666666666666714 pitch=59 velocity=79 delta=0.1666666666666714 pitch=66 velocity=79 delta=0.1666666666666714 pitch=59 velocity=79 delta=0.1666666666666714 pitch=66 velocity=79 delta=0.1666666666666714 pitch=59 velocity=79 delta=0.1666666666666714 pitch=66 velocity=79 delta=0.1666666666666714 pitch=59 velocity=79 delta=0.1666666666666714 pitch=66 velocity=79 delta=0.1666666666666714 pitch=59 velocity=79 delta=0.1666666666666714 pitch=66 velocity=79 delta=0.1666666666666714 pitch=59 velocity=79 delta=0.1666666666666714 pitch=66 velocity=79 delta=0.1666666666666714 pitch=59 velocity=79 delta=0.1666666666666714 pitch=66 velocity=79 delta=0.1666666666666714 pitch=59 velocity=79 delta=0.1666666666666714 pitch=66 velocity=79 delta=0.1666666666666714 pitch=59 velocity=79 delta=0.1666666666666714 pitch=69 velocity=79 delta=0.1666666666666714 pitch=54 velocity=79 delta=0.1666666666666714 pitch=69 velocity=79 delta=0.1666666666666714 pitch=54 velocity=79 delta=0.1666666666666714 pitch=69 velocity=79 delta=0.1666666666666714 pitch=54 velocity=79 delta=0.1666666666666714 pitch=71 velocity=79 delta=0.1666666666666714 pitch=56 velocity=79 delta=0.1666666666666714 pitch=71 velocity=79 delta=0.1666666666666714 pitch=56 velocity=79 delta=0.1666666666666714 pitch=71 velocity=79 delta=0.1666666666666714 pitch=56 velocity=79 delta=0.1666666666666714 pitch=71 velocity=79 delta=0.1666666666666714 pitch=56 velocity=79 delta=0.1666666666666714 pitch=64 velocity=79 delta=0.1666666666666714 pitch=57 velocity=79 delta=0.1666666666666714 pitch=64 velocity=79 delta=0.1666666666666714 pitch=57 velocity=79 delta=0.1666666666666714 pitch=64 velocity=79 delta=0.1666666666666714 pitch=57 velocity=79 delta=0.1666666666666714 pitch=64 velocity=79 delta=0.1666666666666714 pitch=57 velocity=79 delta=0.1666666666666714 pitch=66 velocity=79 delta=0.1666666666666714 pitch=58 velocity=79 delta=0.1666666666666714 pitch=66 velocity=79 delta=0.1666666666666714 pitch=58 velocity=79 delta=0.1666666666666714 pitch=66 velocity=79 delta=0.1666666666666714 pitch=58 velocity=79 delta=0.1666666666666714 pitch=66 velocity=79 delta=0.1666666666666714 pitch=58 velocity=79 delta=0.1666666666666714 pitch=66 velocity=79 delta=0.1666666666666714 pitch=58 velocity=79 delta=0.1666666666666714 pitch=66 velocity=79 delta=0.1666666666666714 pitch=59 velocity=79 delta=0.1666666666666714 pitch=66 velocity=79 delta=0.1666666666666714 pitch=59 velocity=79 delta=0.1666666666666714 pitch=66 velocity=79 delta=0.1666666666666714 pitch=59 velocity=79 delta=0.1666666666666714 pitch=66 velocity=79 delta=0.1666666666666714 pitch=59 velocity=79 delta=0.1666666666666714 pitch=66 velocity=79 delta=0.1666666666666714 pitch=59 velocity=79 delta=0.1666666666666714 pitch=66 velocity=79 delta=0.1666666666666714 pitch=59 velocity=79 delta=0.1666666666666714 pitch=66 velocity=79 delta=0.1666666666666714 pitch=59 velocity=79 delta=0.1666666666666714 pitch=66 velocity=79 delta=0.1666666666666714 pitch=59 velocity=79 delta=0.1666666666666714 pitch=66 velocity=79 delta=0.1666666666666714 pitch=59 velocity=79 delta=0.1666666666666714 pitch=66 velocity=79 delta=0.1666666666666714 pitch=59 velocity=79 delta=0.1666666666666714 pitch=64 velocity=79 delta=0.1666666666666714 pitch=57 velocity=79 delta=0.1666666666666714 pitch=64 velocity=79 delta=0.1666666666666714 pitch=57 velocity=79 delta=0.1666666666666714 pitch=64 velocity=79 delta=0.1666666666666714 pitch=57 velocity=79 delta=0.1666666666666714 pitch=64 velocity=79 delta=0.1666666666666714 pitch=57 velocity=79 delta=0.1666666666666714 pitch=64 velocity=79 delta=0.1666666666666714 pitch=57 velocity=79 delta=0.1666666666666714 pitch=64 velocity=79 delta=0.1666666666666714 pitch=57 velocity=79 delta=0.1666666666666714 pitch=64 velocity=79 delta=0.1666666666666714 pitch=57 velocity=79 delta=0.1666666666666714 pitch=64 velocity=79 delta=0.1666666666666714 pitch=57 velocity=79 delta=0.1666666666666714 pitch=64 velocity=79 delta=0.1666666666666714 pitch=56 velocity=79 delta=0.1666666666666714 pitch=64 velocity=79 delta=0.1666666666666714 pitch=56 velocity=79 delta=0.1666666666666714 pitch=64 velocity=79 delta=0.1666666666666714 pitch=56 velocity=79 delta=0.1666666666666714 pitch=64 velocity=79 delta=0.1666666666666714 pitch=56 velocity=79 delta=0.1666666666666714 pitch=64 velocity=79 delta=0.1666666666666714 pitch=56 velocity=79 delta=0.1666666666666714 pitch=64 velocity=79 delta=0.1666666666666714 pitch=56 velocity=79 delta=0.1666666666666714 pitch=64 velocity=79 delta=0.1666666666666714 pitch=56 velocity=79 delta=0.1666666666666714 pitch=64 velocity=79 delta=0.1666666666666714 pitch=56 velocity=79 delta=0.1666666666666714 pitch=61 velocity=79 delta=0.1666666666666714 pitch=54 velocity=79 delta=0.1666666666666714 pitch=61 velocity=79 delta=0.1666666666666714 pitch=54 velocity=79 delta=0.1666666666666714 pitch=61 velocity=79 delta=0.1666666666666714 pitch=54 velocity=79 delta=0.1666666666666714 pitch=61 velocity=79 delta=0.1666666666666714 pitch=54 velocity=79 delta=0.1666666666666714 pitch=61 velocity=79 delta=0.1666666666666714 pitch=54 velocity=79 delta=0.1666666666666714 pitch=61 velocity=79 delta=0.1666666666666714 pitch=54 velocity=79 delta=0.1666666666666714 pitch=61 velocity=79 delta=0.1666666666666714 pitch=54 velocity=79 delta=0.1666666666666714 pitch=61 velocity=79 delta=0.1666666666666714 pitch=54 velocity=79 delta=0.1666666666666714 pitch=68 velocity=79 delta=0.1666666666666714 pitch=61 velocity=79 delta=0.1666666666666714 pitch=68 velocity=79 delta=0.1666666666666714 pitch=61 velocity=79 delta=0.1666666666666714 pitch=68 velocity=79 delta=0.1666666666666714 pitch=61 velocity=79 delta=0.1666666666666714 pitch=68 velocity=79 delta=0.1666666666666714 pitch=61 velocity=79 delta=0.1666666666666714 pitch=68 velocity=79 delta=0.1666666666666714 pitch=61 velocity=79 delta=0.1666666666666714 pitch=64 velocity=79 delta=0.1666666666666714 pitch=52 velocity=79 delta=0.1666666666666714 pitch=64 velocity=79 delta=0.1666666666666714 pitch=52 velocity=79 delta=0.1666666666666714 pitch=64 velocity=79 delta=0.1666666666666714 pitch=52 velocity=79 delta=0.1666666666666714 pitch=64 velocity=79 delta=0.1666666666666714 pitch=57 velocity=79 delta=0.1666666666666714 pitch=64 velocity=79 delta=0.1666666666666714 pitch=57 velocity=79 delta=0.1666666666666714 pitch=64 velocity=79 delta=0.1666666666666714 pitch=57 velocity=79 delta=0.1666666666666714 pitch=64 velocity=79 delta=0.1666666666666714 pitch=57 velocity=79 delta=0.1666666666666714 pitch=64 velocity=79 delta=0.1666666666666714 pitch=57 velocity=79 delta=0.1666666666666714 pitch=64 velocity=79 delta=0.1666666666666714 pitch=57 velocity=79 delta=0.1666666666666714 pitch=64 velocity=79 delta=0.1666666666666714 pitch=57 velocity=79 delta=0.1666666666666714 pitch=64 velocity=79 delta=0.1666666666666714 pitch=57 velocity=79 delta=0.1666666666666714 pitch=64 velocity=79 delta=0.1666666666666714 pitch=56 velocity=79 delta=0.1666666666666714 pitch=64 velocity=79 delta=0.1666666666666714 pitch=56 velocity=79 delta=0.1666666666666714 pitch=64 velocity=79 delta=0.1666666666666714 pitch=56 velocity=79 delta=0.1666666666666714 pitch=64 velocity=79 delta=0.1666666666666714 pitch=56 velocity=79 delta=0.1666666666666714 pitch=64 velocity=79 delta=0.1666666666666714 pitch=56 velocity=79 delta=0.1666666666666714 pitch=64 velocity=79 delta=0.1666666666666714 pitch=56 velocity=79 delta=0.1666666666666714 pitch=64 velocity=79 delta=0.1666666666666714 pitch=56 velocity=79 delta=0.1666666666666714 pitch=64 velocity=79 delta=0.1666666666666714 pitch=56 velocity=79 delta=0.1666666666666714 pitch=61 velocity=79 delta=0.1666666666666714 pitch=54 velocity=79 delta=0.1666666666666714 pitch=61 velocity=79 delta=0.1666666666666714 pitch=54 velocity=79 delta=0.1666666666666714 pitch=61 velocity=79 delta=0.1666666666666714 pitch=54 velocity=79 delta=0.1666666666666714 pitch=61 velocity=79 delta=0.1666666666666714 pitch=54 velocity=79 delta=0.1666666666666714 pitch=61 velocity=79 delta=0.1666666666666714 pitch=54 velocity=79 delta=0.1666666666666714 pitch=61 velocity=79 delta=0.1666666666666714 pitch=54 velocity=79 delta=0.1666666666666714 pitch=61 velocity=79 delta=0.1666666666666714 pitch=54 velocity=79 delta=0.1666666666666714 pitch=61 velocity=79 delta=0.1666666666666714 pitch=54 velocity=79 delta=0.1666666666666714 pitch=61 velocity=79 delta=0.1666666666666714 pitch=61 velocity=79 delta=0.1666666666666714 pitch=61 velocity=79 delta=0.1666666666666714 pitch=61 velocity=79 delta=0.1666666666666714 pitch=61 velocity=79 delta=0.1666666666666714 pitch=64 velocity=79 delta=0.1666666666666714 pitch=52 velocity=79 delta=0.1666666666666714 pitch=64 velocity=79 delta=0.1666666666666714 pitch=52 velocity=79 delta=0.1666666666666714 pitch=64 velocity=79 delta=0.1666666666666714 pitch=52 velocity=79 delta=0.1666666666666714 pitch=64 velocity=79 delta=0.1666666666666714 pitch=57 velocity=79 delta=0.1666666666666714 pitch=64 velocity=79 delta=0.1666666666666714 pitch=57 velocity=79 delta=0.1666666666666714 pitch=64 velocity=79 delta=0.1666666666666714 pitch=57 velocity=79 delta=0.1666666666666714 pitch=64 velocity=79 delta=0.1666666666666714 pitch=57 velocity=79 delta=0.1666666666666714 pitch=64 velocity=79 delta=0.1666666666666714 pitch=57 velocity=79 delta=0.1666666666666714 pitch=64 velocity=79 delta=0.1666666666666714 pitch=57 velocity=79 delta=0.1666666666666714 pitch=64 velocity=79 delta=0.1666666666666714 pitch=57 velocity=79 delta=0.1666666666666714 pitch=64 velocity=79 delta=0.1666666666666714 pitch=57 velocity=79 delta=0.1666666666666714 pitch=64 velocity=79 delta=0.1666666666666714 pitch=56 velocity=79 delta=0.1666666666666714 pitch=64 velocity=79 delta=0.1666666666666714 pitch=56 velocity=79 delta=0.1666666666666714 pitch=64 velocity=79 delta=0.1666666666666714 pitch=56 velocity=79 delta=0.1666666666666714 pitch=64 velocity=79 delta=0.1666666666666714 pitch=56 velocity=79 delta=0.1666666666666714 pitch=64 velocity=79 delta=0.1666666666666714 pitch=56 velocity=79 delta=0.1666666666666714 pitch=64 velocity=79 delta=0.1666666666666714 pitch=56 velocity=79 delta=0.1666666666666714 pitch=64 velocity=79 delta=0.1666666666666714 pitch=56 velocity=79 delta=0.1666666666666714 pitch=64 velocity=79 delta=0.1666666666666714 pitch=56 velocity=79 delta=0.1666666666666714 pitch=61 velocity=79 delta=0.1666666666666714 pitch=54 velocity=79 delta=0.1666666666666714 pitch=61 velocity=79 delta=0.1666666666666714 pitch=54 velocity=79 delta=0.1666666666666714 pitch=61 velocity=79 delta=0.1666666666666714 pitch=54 velocity=79 delta=0.1666666666666714 pitch=61 velocity=79 delta=0.1666666666666714 pitch=54 velocity=79 delta=0.1666666666666714 pitch=57 velocity=79 delta=0.1666666666666714 pitch=56 velocity=79 delta=0.1666666666666714 pitch=56 velocity=79 delta=0.1666666666666714 pitch=56 velocity=79 delta=0.1666666666666714 pitch=64 velocity=79 delta=0.1666666666666714 pitch=57 velocity=79 delta=0.1666666666666714 pitch=64 velocity=79 delta=0.1666666666666714 pitch=57 velocity=79 delta=0.1666666666666714 pitch=64 velocity=79 delta=0.1666666666666714 pitch=57 velocity=79 delta=0.1666666666666714 pitch=64 velocity=79 delta=0.1666666666666714 pitch=57 velocity=79 delta=0.1666666666666714 pitch=58 velocity=79 delta=0.1666666666666714 pitch=58 velocity=79 delta=0.1666666666666714 pitch=58 velocity=79 delta=0.1666666666666714 pitch=58 velocity=79 delta=0.1666666666666714 pitch=59 velocity=79 delta=0.1666666666666714 pitch=47 velocity=79 delta=0.1666666666666714 pitch=59 velocity=79 delta=0.1666666666666714 pitch=47 velocity=79 delta=0.1666666666666714 pitch=59 velocity=79 delta=0.1666666666666714 pitch=47 velocity=79 delta=0.1666666666666714 pitch=59 velocity=79 delta=0.1666666666666714 pitch=47 velocity=79 delta=0.1666666666666714 pitch=59 velocity=79 delta=0.1666666666666714 pitch=47 velocity=79 delta=0.1666666666666714 pitch=59 velocity=79 delta=0.1666666666666714 pitch=47 velocity=79 delta=0.1666666666666714 pitch=59 velocity=79 delta=0.1666666666666714 pitch=47 velocity=79 delta=0.1666666666666714 pitch=59 velocity=79 delta=0.1666666666666714 pitch=47 velocity=79 delta=0.1666666666666714 pitch=59 velocity=79 delta=0.1666666666666714 pitch=47 velocity=79 delta=0.1666666666666572 pitch=59 velocity=79 delta=0.1666666666666572 pitch=47 velocity=79 delta=0.5 pitch=61 velocity=79 delta=0.5 pitch=49 velocity=79 delta=0.1666666666666572 pitch=61 velocity=79 delta=0.1666666666666572 pitch=49 velocity=79 delta=0.5 pitch=61 velocity=79 delta=0.5 pitch=49 velocity=79 delta=0.5 pitch=54 velocity=79 delta=0.5 pitch=42 velocity=79 delta=0.1666666666666572 pitch=54 velocity=79 delta=0.1666666666666572 pitch=42 velocity=79 delta=0.65625 pitch=54 velocity=79 delta=0.65625 pitch=42 velocity=79 delta=0.5 pitch=59 velocity=79 delta=0.5 pitch=47 velocity=79 delta=0.1666666666666572 pitch=59 velocity=79 delta=0.1666666666666572 pitch=47 velocity=79 delta=0.5 pitch=59 velocity=79 delta=0.5 pitch=47 velocity=79 delta=0.5 pitch=52 velocity=79 delta=0.1666666666666572 pitch=52 velocity=79 delta=0.65625 pitch=63 velocity=79 delta=0.65625 pitch=51 velocity=79 delta=0.5 pitch=56 velocity=79 delta=0.5 pitch=49 velocity=79 delta=0.1666666666666572 pitch=49 velocity=79 delta=0.65625 pitch=49 velocity=79 delta=0.5 pitch=54 velocity=79 delta=0.5 pitch=42 velocity=79 delta=0.1666666666666572 pitch=54 velocity=79 delta=0.1666666666666572 pitch=42 velocity=79 delta=0.5 pitch=54 velocity=79 delta=0.5 pitch=42 velocity=79 delta=0.5 pitch=59 velocity=79 delta=0.5 pitch=47 velocity=79 delta=0.1666666666666572 pitch=59 velocity=79 delta=0.1666666666666572 pitch=47 velocity=79 delta=0.65625 pitch=59 velocity=79 delta=0.65625 pitch=47 velocity=79 delta=0.5 pitch=59 velocity=79 delta=0.5 pitch=47 velocity=79 delta=0.1666666666666572 pitch=54 velocity=79 delta=0.1666666666666572 pitch=59 velocity=79 delta=0.1666666666666572 pitch=54 velocity=79 delta=0.3333333333333428 pitch=47 velocity=79 delta=0.1666666666666572 pitch=56 velocity=79 delta=0.1666666666666572 pitch=49 velocity=79 delta=0.1666666666666572 pitch=56 velocity=79 delta=0.1666666666666572 pitch=49 velocity=79 delta=0.1666666666666572 pitch=56 velocity=79 delta=0.1666666666666572 pitch=49 velocity=79 delta=0.1666666666666572 pitch=56 velocity=79 delta=0.1666666666666572 pitch=49 velocity=79 delta=0.5833333333333428 pitch=54 velocity=79 delta=0.5833333333333428 pitch=61 velocity=79 delta=0.1666666666666572 pitch=61 velocity=79 delta=0.1666666666666572 pitch=54 velocity=79 delta=0.1666666666666572 pitch=61 velocity=79 delta=0.1666666666666572 pitch=54 velocity=79 delta=0.1666666666666572 pitch=61 velocity=79 delta=0.1666666666666572 pitch=54 velocity=79 delta=0.5833333333333428 pitch=47 velocity=79 delta=0.5833333333333428 pitch=59 velocity=79 delta=0.1666666666666572 pitch=59 velocity=79 delta=0.1666666666666572 pitch=47 velocity=79 delta=0.1666666666666572 pitch=59 velocity=79 delta=0.1666666666666572 pitch=47 velocity=79 delta=0.1666666666666572 pitch=59 velocity=79 delta=0.1666666666666572 pitch=47 velocity=79 delta=0.65625 pitch=59 velocity=79 delta=0.65625 pitch=52 velocity=79 delta=0.65625 pitch=59 velocity=79 delta=0.65625 pitch=51 velocity=79 delta=0.1666666666666572 pitch=56 velocity=79 delta=0.1666666666666572 pitch=49 velocity=79 delta=0.1666666666666572 pitch=56 velocity=79 delta=0.1666666666666572 pitch=49 velocity=79 delta=0.1666666666666572 pitch=56 velocity=79 delta=0.1666666666666572 pitch=49 velocity=79 delta=0.1666666666666572 pitch=56 velocity=79 delta=0.1666666666666572 pitch=49 velocity=79 delta=0.5729166666666572 pitch=54 velocity=79 delta=0.5729166666666572 pitch=61 velocity=79 delta=0.1666666666666572 pitch=61 velocity=79 delta=0.1666666666666572 pitch=54 velocity=79 delta=0.1666666666666572 pitch=61 velocity=79 delta=0.1666666666666572 pitch=54 velocity=79 delta=0.1666666666666572 pitch=61 velocity=79 delta=0.1666666666666572 pitch=54 velocity=79 delta=0.1666666666666572 pitch=59 velocity=79 delta=0.1666666666666572 pitch=47 velocity=79 delta=0.1666666666666572 pitch=59 velocity=79 delta=0.1666666666666572 pitch=47 velocity=79 delta=0.1666666666666572 pitch=59 velocity=79 delta=0.1666666666666572 pitch=47 velocity=79 delta=0.1666666666666572 pitch=59 velocity=79 delta=0.1666666666666572 pitch=47 velocity=79 delta=0.1666666666666572 pitch=59 velocity=79 delta=0.1666666666666572 pitch=47 velocity=79 delta=0.1666666666666572 pitch=59 velocity=79 delta=0.1666666666666572 pitch=47 velocity=79 delta=0.1666666666666572 pitch=59 velocity=79 delta=0.1666666666666572 pitch=47 velocity=79 delta=0.1666666666666572 pitch=59 velocity=79 delta=0.1666666666666572 pitch=47 velocity=79 delta=0.1666666666666572 pitch=59 velocity=79 delta=0.1666666666666572 pitch=47 velocity=79 delta=0.1666666666666572 pitch=64 velocity=79 delta=0.1666666666666572 pitch=57 velocity=79 delta=0.1666666666666572 pitch=64 velocity=79 delta=0.1666666666666572 pitch=57 velocity=79 delta=0.1666666666666572 pitch=64 velocity=79 delta=0.1666666666666572 pitch=57 velocity=79 delta=0.1666666666666572 pitch=64 velocity=79 delta=0.1666666666666572 pitch=57 velocity=79 delta=0.1666666666666572 pitch=64 velocity=79 delta=0.1666666666666572 pitch=57 velocity=79 delta=0.1666666666666572 pitch=64 velocity=79 delta=0.1666666666666572 pitch=57 velocity=79 delta=0.1666666666666572 pitch=64 velocity=79 delta=0.1666666666666572 pitch=57 velocity=79 delta=0.1666666666666572 pitch=64 velocity=79 delta=0.1666666666666572 pitch=57 velocity=79 delta=0.1666666666666572 pitch=64 velocity=79 delta=0.1666666666666572 pitch=56 velocity=79 delta=0.1666666666666572 pitch=64 velocity=79 delta=0.1666666666666572 pitch=56 velocity=79 delta=0.1666666666666572 pitch=64 velocity=79 delta=0.1666666666666572 pitch=56 velocity=79 delta=0.1666666666666572 pitch=64 velocity=79 delta=0.1666666666666572 pitch=56 velocity=79 delta=0.1666666666666572 pitch=64 velocity=79 delta=0.1666666666666572 pitch=56 velocity=79 delta=0.1666666666666572 pitch=64 velocity=79 delta=0.1666666666666572 pitch=56 velocity=79 delta=0.1666666666666572 pitch=64 velocity=79 delta=0.1666666666666572 pitch=56 velocity=79 delta=0.1666666666666572 pitch=64 velocity=79 delta=0.1666666666666572 pitch=56 velocity=79 delta=0.1666666666666572 pitch=61 velocity=79 delta=0.1666666666666572 pitch=54 velocity=79 delta=0.1666666666666572 pitch=61 velocity=79 delta=0.1666666666666572 pitch=54 velocity=79 delta=0.1666666666666572 pitch=61 velocity=79 delta=0.1666666666666572 pitch=54 velocity=79 delta=0.1666666666666572 pitch=61 velocity=79 delta=0.1666666666666572 pitch=54 velocity=79 delta=0.1666666666666572 pitch=61 velocity=79 delta=0.1666666666666572 pitch=54 velocity=79 delta=0.1666666666666572 pitch=61 velocity=79 delta=0.1666666666666572 pitch=54 velocity=79 delta=0.1666666666666572 pitch=61 velocity=79 delta=0.1666666666666572 pitch=54 velocity=79 delta=0.1666666666666572 pitch=61 velocity=79 delta=0.1666666666666572 pitch=54 velocity=79 delta=0.1666666666666572 pitch=68 velocity=79 delta=0.1666666666666572 pitch=61 velocity=79 delta=0.1666666666666572 pitch=68 velocity=79 delta=0.1666666666666572 pitch=61 velocity=79 delta=0.1666666666666572 pitch=68 velocity=79 delta=0.1666666666666572 pitch=61 velocity=79 delta=0.1666666666666572 pitch=68 velocity=79 delta=0.1666666666666572 pitch=61 velocity=79 delta=0.1666666666666572 pitch=68 velocity=79 delta=0.1666666666666572 pitch=61 velocity=79 delta=0.1666666666666572 pitch=64 velocity=79 delta=0.1666666666666572 pitch=52 velocity=79 delta=0.1666666666666572 pitch=64 velocity=79 delta=0.1666666666666572 pitch=52 velocity=79 delta=0.1666666666666572 pitch=64 velocity=79 delta=0.1666666666666572 pitch=52 velocity=79 delta=0.1666666666666572 pitch=64 velocity=79 delta=0.1666666666666572 pitch=57 velocity=79 delta=0.1666666666666572 pitch=64 velocity=79 delta=0.1666666666666572 pitch=57 velocity=79 delta=0.1666666666666572 pitch=64 velocity=79 delta=0.1666666666666572 pitch=57 velocity=79 delta=0.1666666666666572 pitch=64 velocity=79 delta=0.1666666666666572 pitch=57 velocity=79 delta=0.1666666666666572 pitch=64 velocity=79 delta=0.1666666666666572 pitch=57 velocity=79 delta=0.1666666666666572 pitch=64 velocity=79 delta=0.1666666666666572 pitch=57 velocity=79 delta=0.1666666666666572 pitch=64 velocity=79 delta=0.1666666666666572 pitch=57 velocity=79 delta=0.1666666666666572 pitch=64 velocity=79 delta=0.1666666666666572 pitch=57 velocity=79 delta=0.1666666666666572 pitch=64 velocity=79 delta=0.1666666666666572 pitch=56 velocity=79 delta=0.1666666666666572 pitch=64 velocity=79 delta=0.1666666666666572 pitch=56 velocity=79 delta=0.1666666666666572 pitch=64 velocity=79 delta=0.1666666666666572 pitch=56 velocity=79 delta=0.1666666666666572 pitch=64 velocity=79 delta=0.1666666666666572 pitch=56 velocity=79 delta=0.1666666666666572 pitch=64 velocity=79 delta=0.1666666666666572 pitch=56 velocity=79 delta=0.1666666666666572 pitch=64 velocity=79 delta=0.1666666666666572 pitch=56 velocity=79 delta=0.1666666666666572 pitch=64 velocity=79 delta=0.1666666666666572 pitch=56 velocity=79 delta=0.1666666666666572 pitch=64 velocity=79 delta=0.1666666666666572 pitch=56 velocity=79 delta=0.1666666666666572 pitch=61 velocity=79 delta=0.1666666666666572 pitch=54 velocity=79 delta=0.1666666666666572 pitch=61 velocity=79 delta=0.1666666666666572 pitch=54 velocity=79 delta=0.1666666666666572 pitch=61 velocity=79 delta=0.1666666666666572 pitch=54 velocity=79 delta=0.1666666666666572 pitch=61 velocity=79 delta=0.1666666666666572 pitch=54 velocity=79 delta=0.1666666666666572 pitch=61 velocity=79 delta=0.1666666666666572 pitch=54 velocity=79 delta=0.1666666666666572 pitch=61 velocity=79 delta=0.1666666666666572 pitch=54 velocity=79 delta=0.1666666666666572 pitch=61 velocity=79 delta=0.1666666666666572 pitch=54 velocity=79 delta=0.1666666666666572 pitch=61 velocity=79 delta=0.1666666666666572 pitch=54 velocity=79 delta=0.1666666666666572 pitch=61 velocity=79 delta=0.1666666666666572 pitch=61 velocity=79 delta=0.1666666666666572 pitch=61 velocity=79 delta=0.1666666666666572 pitch=61 velocity=79 delta=0.1666666666666572 pitch=61 velocity=79 delta=0.1666666666666572 pitch=64 velocity=79 delta=0.1666666666666572 pitch=52 velocity=79 delta=0.1666666666666572 pitch=64 velocity=79 delta=0.1666666666666572 pitch=52 velocity=79 delta=0.1666666666666572 pitch=64 velocity=79 delta=0.1666666666666572 pitch=52 velocity=79 delta=0.1666666666666572 pitch=64 velocity=79 delta=0.1666666666666572 pitch=57 velocity=79 delta=0.1666666666666572 pitch=64 velocity=79 delta=0.1666666666666572 pitch=57 velocity=79 delta=0.1666666666666572 pitch=64 velocity=79 delta=0.1666666666666572 pitch=57 velocity=79 delta=0.1666666666666572 pitch=64 velocity=79 delta=0.1666666666666572 pitch=57 velocity=79 delta=0.1666666666666572 pitch=64 velocity=79 delta=0.1666666666666572 pitch=57 velocity=79 delta=0.1666666666666572 pitch=64 velocity=79 delta=0.1666666666666572 pitch=57 velocity=79 delta=0.1666666666666572 pitch=64 velocity=79 delta=0.1666666666666572 pitch=57 velocity=79 delta=0.1666666666666572 pitch=64 velocity=79 delta=0.1666666666666572 pitch=57 velocity=79 delta=0.1666666666666572 pitch=64 velocity=79 delta=0.1666666666666572 pitch=56 velocity=79 delta=0.1666666666666572 pitch=64 velocity=79 delta=0.1666666666666572 pitch=56 velocity=79 delta=0.1666666666666572 pitch=64 velocity=79 delta=0.1666666666666572 pitch=56 velocity=79 delta=0.1666666666666572 pitch=64 velocity=79 delta=0.1666666666666572 pitch=56 velocity=79 delta=0.1666666666666572 pitch=64 velocity=79 delta=0.1666666666666572 pitch=56 velocity=79 delta=0.1666666666666572 pitch=64 velocity=79 delta=0.1666666666666572 pitch=56 velocity=79 delta=0.1666666666666572 pitch=64 velocity=79 delta=0.1666666666666572 pitch=56 velocity=79 delta=0.1666666666666572 pitch=64 velocity=79 delta=0.1666666666666572 pitch=56 velocity=79 delta=0.1666666666666572 pitch=61 velocity=79 delta=0.1666666666666572 pitch=54 velocity=79 delta=0.1666666666666572 pitch=61 velocity=79 delta=0.1666666666666572 pitch=54 velocity=79 delta=0.1666666666666572 pitch=61 velocity=79 delta=0.1666666666666572 pitch=54 velocity=79 delta=0.1666666666666572 pitch=61 velocity=79 delta=0.1666666666666572 pitch=54 velocity=79 delta=0.1666666666666572 pitch=57 velocity=79 delta=0.1666666666666572 pitch=56 velocity=79 delta=0.1666666666666572 pitch=56 velocity=79 delta=0.1666666666666572 pitch=56 velocity=79 delta=0.1666666666666572 pitch=64 velocity=79 delta=0.1666666666666572 pitch=57 velocity=79 delta=0.1666666666666572 pitch=64 velocity=79 delta=0.1666666666666572 pitch=57 velocity=79 delta=0.1666666666666572 pitch=64 velocity=79 delta=0.1666666666666572 pitch=57 velocity=79 delta=0.1666666666666572 pitch=64 velocity=79 delta=0.1666666666666572 pitch=57 velocity=79 delta=0.1666666666666572 pitch=58 velocity=79 delta=0.1666666666666572 pitch=58 velocity=79 delta=0.1666666666666572 pitch=58 velocity=79 delta=0.1666666666666572 pitch=58 velocity=79 delta=0.1666666666666572 pitch=59 velocity=79 delta=0.1666666666666572 pitch=47 velocity=79 delta=0.1666666666666572 pitch=59 velocity=79 delta=0.1666666666666572 pitch=47 velocity=79 delta=0.1666666666666572 pitch=59 velocity=79 delta=0.1666666666666572 pitch=47 velocity=79 delta=0.1666666666666572 pitch=59 velocity=79 delta=0.1666666666666572 pitch=47 velocity=79 delta=0.1666666666666572 pitch=59 velocity=79 delta=0.1666666666666572 pitch=47 velocity=79 delta=0.1666666666666572 pitch=59 velocity=79 delta=0.1666666666666572 pitch=47 velocity=79 delta=0.1666666666666572 pitch=59 velocity=79 delta=0.1666666666666572 pitch=47 velocity=79 delta=0.1666666666666572 pitch=59 velocity=79 delta=0.1666666666666572 pitch=47 velocity=79 delta=0.1666666666666572 pitch=59 velocity=79 delta=0.1666666666666572 pitch=47 velocity=79 '"
      ]
     },
     "execution_count": 194,
     "metadata": {},
     "output_type": "execute_result"
    }
   ],
   "source": [
    "string"
   ]
  },
  {
   "cell_type": "markdown",
   "id": "97a459fb-40a2-467a-b33c-d805847dfff3",
   "metadata": {},
   "source": [
    "## Check the range of values that we have"
   ]
  },
  {
   "cell_type": "code",
   "execution_count": 180,
   "id": "1a391f09-5ad9-48ce-8b25-9a573cba4b9b",
   "metadata": {},
   "outputs": [],
   "source": [
    "delta = []\n",
    "pitch = []\n",
    "velocity = []\n",
    "\n",
    "for element in list_:\n",
    "    for note in element[\"guitar\"].notes:\n",
    "        delta.append(note.end - note.start)\n",
    "        pitch.append(note.pitch)\n",
    "        velocity.append(note.velocity)\n",
    "\n",
    "\n",
    "delta = set(delta)\n",
    "pitch = set(pitch)\n",
    "velocity = set(velocity)"
   ]
  },
  {
   "cell_type": "code",
   "execution_count": 181,
   "id": "ae5f7b7c-7a1c-4bb0-b5b6-f45bcff0af57",
   "metadata": {},
   "outputs": [
    {
     "data": {
      "text/plain": [
       "{0.1666666666666572,\n",
       " 0.1666666666666643,\n",
       " 0.16666666666666607,\n",
       " 0.16666666666666785,\n",
       " 0.1666666666666714,\n",
       " 0.3333333333333428,\n",
       " 0.5,\n",
       " 0.5729166666666572,\n",
       " 0.5833333333333428,\n",
       " 0.65625}"
      ]
     },
     "execution_count": 181,
     "metadata": {},
     "output_type": "execute_result"
    }
   ],
   "source": [
    "delta"
   ]
  },
  {
   "cell_type": "code",
   "execution_count": 182,
   "id": "593e8df3-25dc-4021-9621-d4223cf79502",
   "metadata": {},
   "outputs": [
    {
     "data": {
      "text/plain": [
       "{42, 47, 49, 51, 52, 54, 56, 57, 58, 59, 61, 63, 64, 66, 68, 69, 71}"
      ]
     },
     "execution_count": 182,
     "metadata": {},
     "output_type": "execute_result"
    }
   ],
   "source": [
    "pitch"
   ]
  },
  {
   "cell_type": "code",
   "execution_count": 183,
   "id": "3b08fdd7-557f-49eb-a0f5-06df8e18abbc",
   "metadata": {},
   "outputs": [
    {
     "data": {
      "text/plain": [
       "{79}"
      ]
     },
     "execution_count": 183,
     "metadata": {},
     "output_type": "execute_result"
    }
   ],
   "source": [
    "velocity"
   ]
  },
  {
   "cell_type": "code",
   "execution_count": 202,
   "id": "efaec708-73c4-4713-b178-d1f67ba80142",
   "metadata": {},
   "outputs": [],
   "source": [
    "delta = []\n",
    "pitch = []\n",
    "velocity = []\n",
    "name = \"\"\n",
    "for note in list_[1][\"guitar\"].notes:\n",
    "    delta.append(note.end - note.start)\n",
    "    pitch.append(note.pitch)\n",
    "    velocity.append(note.velocity)\n",
    "\n",
    "name = list_[0][\"title\"]\n",
    "delta = set(delta)\n",
    "pitch = set(pitch)\n",
    "velocity = set(velocity)"
   ]
  },
  {
   "cell_type": "code",
   "execution_count": 203,
   "id": "636852f8-631f-4786-8bfc-f0bc75ad20f3",
   "metadata": {},
   "outputs": [
    {
     "data": {
      "text/plain": [
       "'10cc_-_The_Things_We_Do_for_Love'"
      ]
     },
     "execution_count": 203,
     "metadata": {},
     "output_type": "execute_result"
    }
   ],
   "source": [
    "name"
   ]
  },
  {
   "cell_type": "code",
   "execution_count": 204,
   "id": "857369d4-f446-4fd9-ba57-ad666614deb6",
   "metadata": {},
   "outputs": [
    {
     "data": {
      "text/plain": [
       "{0.1666666666666572,\n",
       " 0.1666666666666643,\n",
       " 0.16666666666666607,\n",
       " 0.16666666666666785,\n",
       " 0.1666666666666714,\n",
       " 0.3333333333333428,\n",
       " 0.5,\n",
       " 0.5729166666666572,\n",
       " 0.5833333333333428,\n",
       " 0.65625}"
      ]
     },
     "execution_count": 204,
     "metadata": {},
     "output_type": "execute_result"
    }
   ],
   "source": [
    "delta"
   ]
  },
  {
   "cell_type": "code",
   "execution_count": 205,
   "id": "81e153ef-3112-49d8-b52a-0ef49be90c81",
   "metadata": {},
   "outputs": [
    {
     "data": {
      "text/plain": [
       "{42, 47, 49, 51, 52, 54, 56, 57, 58, 59, 61, 63, 64, 66, 68, 69, 71}"
      ]
     },
     "execution_count": 205,
     "metadata": {},
     "output_type": "execute_result"
    }
   ],
   "source": [
    "pitch"
   ]
  },
  {
   "cell_type": "code",
   "execution_count": 206,
   "id": "9fb6e9ec-8d17-4076-8e83-4950c3f51234",
   "metadata": {},
   "outputs": [
    {
     "data": {
      "text/plain": [
       "{79}"
      ]
     },
     "execution_count": 206,
     "metadata": {},
     "output_type": "execute_result"
    }
   ],
   "source": [
    "velocity"
   ]
  },
  {
   "cell_type": "code",
   "execution_count": 212,
   "id": "2a6ad3c3-e8a0-4b66-8755-bec71eacef58",
   "metadata": {},
   "outputs": [
    {
     "data": {
      "text/plain": [
       "Note(start=187.750000, end=187.916667, pitch=47, velocity=79)"
      ]
     },
     "execution_count": 212,
     "metadata": {},
     "output_type": "execute_result"
    }
   ],
   "source": [
    "list_[7][\"guitar\"].notes[-1]"
   ]
  },
  {
   "cell_type": "code",
   "execution_count": 213,
   "id": "401ad295-c626-4a67-a230-ffd676f62ea0",
   "metadata": {},
   "outputs": [
    {
     "data": {
      "text/plain": [
       "Note(start=187.750000, end=187.916667, pitch=47, velocity=79)"
      ]
     },
     "execution_count": 213,
     "metadata": {},
     "output_type": "execute_result"
    }
   ],
   "source": [
    "list_[5][\"guitar\"].notes[-1]"
   ]
  },
  {
   "cell_type": "code",
   "execution_count": null,
   "id": "40094888-367d-4c16-83bd-a0da6e0fd12d",
   "metadata": {},
   "outputs": [],
   "source": []
  }
 ],
 "metadata": {
  "kernelspec": {
   "display_name": "Python 3 (ipykernel)",
   "language": "python",
   "name": "python3"
  },
  "language_info": {
   "codemirror_mode": {
    "name": "ipython",
    "version": 3
   },
   "file_extension": ".py",
   "mimetype": "text/x-python",
   "name": "python",
   "nbconvert_exporter": "python",
   "pygments_lexer": "ipython3",
   "version": "3.10.6"
  }
 },
 "nbformat": 4,
 "nbformat_minor": 5
}
