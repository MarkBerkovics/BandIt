{
 "cells": [
  {
   "cell_type": "code",
   "execution_count": 1,
   "id": "e5ddb2cf",
   "metadata": {},
   "outputs": [
    {
     "name": "stdout",
     "output_type": "stream",
     "text": [
      "pygame 2.5.2 (SDL 2.28.3, Python 3.10.6)\n",
      "Hello from the pygame community. https://www.pygame.org/contribute.html\n"
     ]
    }
   ],
   "source": [
    "import pygame\n",
    "from mido import MidiFile\n",
    "from midi2audio import FluidSynth"
   ]
  },
  {
   "cell_type": "code",
   "execution_count": null,
   "id": "a1328efa",
   "metadata": {},
   "outputs": [],
   "source": [
    "def play_music(music_file):\n",
    "    \"\"\"\n",
    "    stream music with mixer.music module in blocking manner\n",
    "    this will stream the sound from disk while playing\n",
    "    \"\"\"\n",
    "    clock = pygame.time.Clock()\n",
    "    try:\n",
    "        pygame.mixer.music.load(music_file)\n",
    "        print(\"Music file %s loaded!\" % music_file)\n",
    "    except pygame.error:\n",
    "        print(\"File %s not found! (%s)\" % (music_file, pygame.get_error()))\n",
    "        return\n",
    "    pygame.mixer.music.play()\n",
    "    while pygame.mixer.music.get_busy():\n",
    "        # check if playback has finished\n",
    "        clock.tick(30)\n",
    "# pick a midi music file you have ...\n",
    "# (if not in working folder use full path)\n",
    "\n",
    "midi_file = 'drums.mid'\n",
    "freq = 44100    # audio CD quality\n",
    "bitsize = -16   # unsigned 16 bit\n",
    "channels = 2    # 1 is mono, 2 is stereo\n",
    "buffer = 1024    # number of samples\n",
    "pygame.mixer.init(freq, bitsize, channels, buffer)\n",
    "\n",
    "# optional volume 0 to 1.0\n",
    "pygame.mixer.music.set_volume(0.8)\n",
    "try:\n",
    "    play_music(midi_file)\n",
    "except KeyboardInterrupt:\n",
    "    # if user hits Ctrl/C then exit\n",
    "    # (works only in console mode)\n",
    "    pygame.mixer.music.fadeout(1000)\n",
    "    pygame.mixer.music.stop()\n",
    "    raise SystemExit"
   ]
  },
  {
   "cell_type": "code",
   "execution_count": null,
   "id": "8defedcd",
   "metadata": {},
   "outputs": [],
   "source": [
    "mid = MidiFile('Metallica - Master Of Puppets.mid', clip=True)\n",
    "print(mid)"
   ]
  },
  {
   "cell_type": "code",
   "execution_count": null,
   "id": "3d558147",
   "metadata": {},
   "outputs": [],
   "source": [
    "for track in mid.tracks:\n",
    "    print(track)"
   ]
  },
  {
   "cell_type": "code",
   "execution_count": null,
   "id": "1094138a",
   "metadata": {},
   "outputs": [],
   "source": [
    "for msg in mid.tracks[11]:\n",
    "    print(msg)"
   ]
  },
  {
   "cell_type": "code",
   "execution_count": null,
   "id": "35554235",
   "metadata": {},
   "outputs": [],
   "source": [
    "mid.tracks.remove(mid.tracks[3])"
   ]
  },
  {
   "cell_type": "code",
   "execution_count": null,
   "id": "0570e8fe",
   "metadata": {},
   "outputs": [],
   "source": [
    "mid.save('drums.mid')"
   ]
  }
 ],
 "metadata": {
  "kernelspec": {
   "display_name": "Python 3 (ipykernel)",
   "language": "python",
   "name": "python3"
  },
  "language_info": {
   "codemirror_mode": {
    "name": "ipython",
    "version": 3
   },
   "file_extension": ".py",
   "mimetype": "text/x-python",
   "name": "python",
   "nbconvert_exporter": "python",
   "pygments_lexer": "ipython3",
   "version": "3.10.6"
  },
  "toc": {
   "base_numbering": 1,
   "nav_menu": {},
   "number_sections": true,
   "sideBar": true,
   "skip_h1_title": false,
   "title_cell": "Table of Contents",
   "title_sidebar": "Contents",
   "toc_cell": false,
   "toc_position": {},
   "toc_section_display": true,
   "toc_window_display": false
  }
 },
 "nbformat": 4,
 "nbformat_minor": 5
}
