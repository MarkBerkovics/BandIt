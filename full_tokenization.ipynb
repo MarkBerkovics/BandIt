{
 "cells": [
  {
   "cell_type": "code",
   "execution_count": 11,
   "id": "22d4023f-9bbd-427c-a1d3-aaabe11f7eef",
   "metadata": {},
   "outputs": [],
   "source": [
    "import pretty_midi\n",
    "import numpy as np\n",
    "import os\n",
    "import IPython\n",
    "from ast import literal_eval"
   ]
  },
  {
   "cell_type": "code",
   "execution_count": 12,
   "id": "81ac392c-5fc8-4cde-9acf-b3dea3710c02",
   "metadata": {},
   "outputs": [],
   "source": [
    "\n",
    "def bpm_to_120(midi_file):\n",
    "    \"\"\" \n",
    "    This function evens out the tempo throuout the song to be 120 BPM,\n",
    "    even if there are tempo changes. It gets a midi file as an input\n",
    "    and outputs a modified pretty_midi object\n",
    "    \"\"\"\n",
    "    \n",
    "    mid = pretty_midi.PrettyMIDI(midi_file)\n",
    "    \n",
    "    tempo = mid.get_tempo_changes()\n",
    "    num_of_changes = len(tempo[0])\n",
    "    full_length = mid.get_end_time()\n",
    "\n",
    "    old_times = []\n",
    "    changes = [0]\n",
    "    \n",
    "    for i in range(num_of_changes):\n",
    "        old_times.append(tempo[0][i])\n",
    "        if i < (num_of_changes - 1):\n",
    "            changes.append((tempo[0][i+1] - tempo[0][i]) * (tempo[1][i]/120))\n",
    "        else:\n",
    "            changes.append((full_length - tempo[0][i]) * (tempo[1][i]/120))\n",
    "        \n",
    "    old_times.append(full_length)\n",
    "    new_times = np.cumsum(changes)\n",
    "\n",
    "    mid.adjust_times(old_times, new_times)\n",
    "\n",
    "    song_title = os.path.splitext(os.path.basename(midi_file))[0]\n",
    "    \n",
    "    return mid, song_title"
   ]
  },
  {
   "cell_type": "code",
   "execution_count": 13,
   "id": "f54e6906-b9d2-475b-9c4a-4837a2e012e0",
   "metadata": {},
   "outputs": [],
   "source": [
    "import pretty_midi\n",
    "import os\n",
    "\n",
    "def extract_guitar_and_drums(mid, song_title='unknown'):\n",
    "    \"\"\"This function extracts the guitar and drum tracks from a midi file.\n",
    "       The input is a path to a midi file (for example: 'raw_data/song_name.mid') in string format\n",
    "       The output is a dictionary with the song name, guitar track and drum track\"\"\"\n",
    "\n",
    "    if type(mid) == str:\n",
    "        mid = pretty_midi.PrettyMIDI(mid)\n",
    "    \n",
    "    guitars = []\n",
    "    lengths_guitar = []\n",
    "    drums = []\n",
    "    lengths_drums = []\n",
    "    \n",
    "    for instrument in mid.instruments:\n",
    "        if instrument.is_drum:\n",
    "            drums.append(instrument)\n",
    "            lengths_drums.append(len(instrument.notes))\n",
    "\n",
    "        if (instrument.program >= 25) and (instrument.program <= 31):\n",
    "            guitars.append(instrument)\n",
    "            lengths_guitar.append(len(instrument.notes))\n",
    "\n",
    "    drum_track = drums[lengths_drums.index(max(lengths_drums))]\n",
    "    guitar_track = guitars[lengths_guitar.index(max(lengths_guitar))]\n",
    "\n",
    "    # song_title = os.path.splitext(os.path.basename(midi_file))[0]\n",
    "    \n",
    "    \n",
    "\n",
    "        \n",
    "    song_dict = {'title': song_title,\n",
    "                 'down_beats': mid.get_downbeats(),\n",
    "                 'guitar': guitar_track,\n",
    "                 'drums': drum_track\n",
    "                }\n",
    "    return song_dict"
   ]
  },
  {
   "cell_type": "code",
   "execution_count": 14,
   "id": "ea8eea7e-c6e7-4f9a-a5b7-0ea579ea60a0",
   "metadata": {},
   "outputs": [],
   "source": [
    "#First step\n",
    "\n",
    "import os\n",
    "\n",
    "new_directory = \"/home/sergi_carapuig/code/MarkBerkovics/BandIt/data/\"\n",
    "\n",
    "midi_files = []\n",
    "\n",
    "for filename in os.listdir(new_directory):\n",
    "    full_path = os.path.join(new_directory, filename)\n",
    "    midi_files.append(full_path)"
   ]
  },
  {
   "cell_type": "code",
   "execution_count": null,
   "id": "d664dbc6-df63-4651-a5e3-5991e489374b",
   "metadata": {},
   "outputs": [
    {
     "name": "stderr",
     "output_type": "stream",
     "text": [
      "/home/sergi_carapuig/.pyenv/versions/3.10.6/envs/BandIt/lib/python3.10/site-packages/pretty_midi/pretty_midi.py:100: RuntimeWarning: Tempo, Key or Time signature change events found on non-zero tracks.  This is not a valid type 0 or type 1 MIDI file.  Tempo, Key or Time Signature may be wrong.\n",
      "  warnings.warn(\n",
      "/home/sergi_carapuig/.pyenv/versions/3.10.6/envs/BandIt/lib/python3.10/site-packages/pretty_midi/pretty_midi.py:1072: UserWarning: original_times must be strictly increasing; automatically enforcing this.\n",
      "  warnings.warn('original_times must be strictly increasing; '\n"
     ]
    }
   ],
   "source": [
    "# Second step\n",
    "\n",
    "list_of_midis = []\n",
    "\n",
    "for song in midi_files:\n",
    "    list_of_midis.append(bpm_to_120(song))"
   ]
  },
  {
   "cell_type": "code",
   "execution_count": null,
   "id": "af667635-abb6-4a3a-9331-1a615c46d24a",
   "metadata": {},
   "outputs": [],
   "source": [
    "print(len(midi_files))"
   ]
  },
  {
   "cell_type": "code",
   "execution_count": 5,
   "id": "57d65d81-3f7d-4e99-b408-f0d29ed258a6",
   "metadata": {},
   "outputs": [],
   "source": [
    "list_ = []\n",
    "\n",
    "for file in midi_files:\n",
    "    dict_ = extract_guitar_and_drums(full_path)\n",
    "    list_.append(dict_)"
   ]
  },
  {
   "cell_type": "code",
   "execution_count": 6,
   "id": "1d065e31-a7c5-4b6c-8a2b-e12c1cf47e40",
   "metadata": {},
   "outputs": [
    {
     "name": "stdout",
     "output_type": "stream",
     "text": [
      "2199\n"
     ]
    }
   ],
   "source": [
    "print(len(list_))"
   ]
  },
  {
   "cell_type": "code",
   "execution_count": 7,
   "id": "214ca987-a552-4bfc-be8e-422ec49e2f8a",
   "metadata": {},
   "outputs": [],
   "source": [
    "def tracks_to_bars(song_dict: dict):\n",
    "    \"\"\"This function accepts a dictionary as an input with 4 keys: 'title', 'down_beats', 'guitar', 'drums'.\n",
    "    The function takes the guitar and drums, both pretty_midi instrument objects, and cuts them up into a sequence of individual bars.\n",
    "    The output is a dictionary that contains the following keys/values: song_title, a list of guitar bars, a list of drum bars, and a list of the song's downbeats\n",
    "    \"\"\"\n",
    "    new_dict={}\n",
    "    new_dict['song_title']=song_dict['title']\n",
    "    guitar = song_dict['guitar']\n",
    "    drums = song_dict['drums']\n",
    "    down_beats_array = song_dict['down_beats']\n",
    "\n",
    "\n",
    "    guitar_bars_list = []\n",
    "    drums_bars_list = []\n",
    "\n",
    "    for index, start_time in enumerate(down_beats_array):\n",
    "        try:\n",
    "            end_time = down_beats_array[index+1]            \n",
    "            guitar_bar = []\n",
    "            drums_bar = []\n",
    "            for guitar_note, drum_note in zip(guitar.notes, drums.notes):\n",
    "                if (guitar_note.start >= start_time) and (guitar_note.end < end_time):\n",
    "                    guitar_bar.append(guitar_note)    \n",
    "                if (drum_note.start >= start_time) and (drum_note.end < end_time):\n",
    "                    drums_bar.append(drum_note)\n",
    "            drums_bars_list.append(drums_bar)\n",
    "            guitar_bars_list.append(guitar_bar)\n",
    "        except:\n",
    "            #print(\"done\")\n",
    "            pass\n",
    "    new_dict['guitar_bars'] = guitar_bars_list\n",
    "    new_dict['drum_bars'] = drums_bars_list\n",
    "    new_dict['down_beats'] = down_beats_array.tolist()\n",
    "    return new_dict"
   ]
  },
  {
   "cell_type": "code",
   "execution_count": null,
   "id": "362a8baa-b056-4d43-8861-6a456c41fec0",
   "metadata": {},
   "outputs": [],
   "source": [
    "new_list = []\n",
    "\n",
    "for e in list_:\n",
    "    new_list.append(tracks_to_bars(e))"
   ]
  },
  {
   "cell_type": "code",
   "execution_count": null,
   "id": "7a63e0a6-751a-4e51-b74b-7bb5527c8a0c",
   "metadata": {},
   "outputs": [],
   "source": []
  },
  {
   "cell_type": "code",
   "execution_count": null,
   "id": "6154be6b-f7f7-4af1-8e27-cfec3448330c",
   "metadata": {},
   "outputs": [],
   "source": []
  }
 ],
 "metadata": {
  "kernelspec": {
   "display_name": "Python 3 (ipykernel)",
   "language": "python",
   "name": "python3"
  },
  "language_info": {
   "codemirror_mode": {
    "name": "ipython",
    "version": 3
   },
   "file_extension": ".py",
   "mimetype": "text/x-python",
   "name": "python",
   "nbconvert_exporter": "python",
   "pygments_lexer": "ipython3",
   "version": "3.10.6"
  }
 },
 "nbformat": 4,
 "nbformat_minor": 5
}
