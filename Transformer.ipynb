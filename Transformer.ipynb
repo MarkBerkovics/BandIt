{
 "cells": [
  {
   "cell_type": "code",
   "execution_count": 1,
   "id": "4e93d514-3aa2-4a3e-9bcd-f2ffbc26a989",
   "metadata": {},
   "outputs": [
    {
     "name": "stderr",
     "output_type": "stream",
     "text": [
      "2024-03-11 18:03:43.681516: I tensorflow/core/util/port.cc:113] oneDNN custom operations are on. You may see slightly different numerical results due to floating-point round-off errors from different computation orders. To turn them off, set the environment variable `TF_ENABLE_ONEDNN_OPTS=0`.\n",
      "2024-03-11 18:03:43.681898: I external/local_tsl/tsl/cuda/cudart_stub.cc:32] Could not find cuda drivers on your machine, GPU will not be used.\n",
      "2024-03-11 18:03:43.684647: I external/local_tsl/tsl/cuda/cudart_stub.cc:32] Could not find cuda drivers on your machine, GPU will not be used.\n",
      "2024-03-11 18:03:43.718922: I tensorflow/core/platform/cpu_feature_guard.cc:210] This TensorFlow binary is optimized to use available CPU instructions in performance-critical operations.\n",
      "To enable the following instructions: AVX2 AVX512F AVX512_VNNI FMA, in other operations, rebuild TensorFlow with the appropriate compiler flags.\n",
      "2024-03-11 18:03:44.476837: W tensorflow/compiler/tf2tensorrt/utils/py_utils.cc:38] TF-TRT Warning: Could not find TensorRT\n"
     ]
    }
   ],
   "source": [
    "import keras\n",
    "from keras import layers\n",
    "from keras import ops\n",
    "from keras.layers import TextVectorization\n",
    "import numpy as np\n",
    "import pandas as pd\n",
    "import os\n",
    "import string\n",
    "import random\n",
    "import tensorflow as tf\n",
    "import tensorflow.data as tf_data\n",
    "import tensorflow.strings as tf_strings\n",
    "\n",
    "os.environ[\"KERAS_BACKEND\"] = \"tensorflow\""
   ]
  },
  {
   "cell_type": "code",
   "execution_count": 2,
   "id": "1e378d68-b21f-4f0a-b5bb-d0b17dca2617",
   "metadata": {},
   "outputs": [],
   "source": [
    "df = pd.read_csv('midi_df_full.csv', index_col=0, escapechar='|')"
   ]
  },
  {
   "cell_type": "code",
   "execution_count": 3,
   "id": "435bbab1-e582-49da-a3df-82d400a9edd5",
   "metadata": {},
   "outputs": [],
   "source": [
    "# sample list\n",
    "df_exploration = df.sample(100)"
   ]
  },
  {
   "cell_type": "code",
   "execution_count": 4,
   "id": "995c548b-8f3b-4b99-bcda-aa8332515a3e",
   "metadata": {},
   "outputs": [],
   "source": [
    "# df_exploration['tokenized_guitar'] = df_exploration['tokenized_guitar'].apply(lambda x: x[1:-1].split(', '))"
   ]
  },
  {
   "cell_type": "code",
   "execution_count": 5,
   "id": "21fe47cf-e8c3-4151-841b-813fa187e631",
   "metadata": {},
   "outputs": [],
   "source": [
    "# df_exploration['tokenized_drums'] = df_exploration['tokenized_drums'].apply(lambda x: x[1:-1].split(', '))"
   ]
  },
  {
   "cell_type": "code",
   "execution_count": 6,
   "id": "1dc007cd-afde-4355-875a-b00bbd0d0e3e",
   "metadata": {},
   "outputs": [],
   "source": [
    "# df_exploration['tokenized_guitar'] = df_exploration['tokenized_guitar'].apply(lambda x: [int(i) for i in x])"
   ]
  },
  {
   "cell_type": "code",
   "execution_count": 7,
   "id": "d837423f-9d00-49a1-a046-d019c110b5fc",
   "metadata": {},
   "outputs": [],
   "source": [
    "# df_exploration['tokenized_drums'] = df_exploration['tokenized_drums'].apply(lambda x: [int(i) for i in x])"
   ]
  },
  {
   "cell_type": "code",
   "execution_count": 8,
   "id": "03eb6344-0e50-48a2-8e7a-9064cb80fe31",
   "metadata": {},
   "outputs": [],
   "source": [
    "# df['tokenized_guitar'] = df['tokenized_guitar'].apply(lambda x: x.replace('[UNK]', str(0)))"
   ]
  },
  {
   "cell_type": "code",
   "execution_count": 9,
   "id": "af5309d8-4528-4b9c-a392-a70768037295",
   "metadata": {},
   "outputs": [],
   "source": [
    "# df['tokenized_drums'] = df['tokenized_drums'].apply(lambda x: x.replace('[UNK]', str(0)))"
   ]
  },
  {
   "cell_type": "code",
   "execution_count": 10,
   "id": "f0c9438d-159b-41ac-bf21-0e73dcac5e6f",
   "metadata": {},
   "outputs": [],
   "source": [
    "df_exploration.reset_index(drop=True, inplace=True)"
   ]
  },
  {
   "cell_type": "code",
   "execution_count": 11,
   "id": "c9a4e632-814a-475c-bc25-df4709337c98",
   "metadata": {},
   "outputs": [
    {
     "data": {
      "text/plain": [
       "2015"
      ]
     },
     "execution_count": 11,
     "metadata": {},
     "output_type": "execute_result"
    }
   ],
   "source": [
    "max(df_exploration['tokenized_guitar'].apply(lambda x : len(x)))"
   ]
  },
  {
   "cell_type": "code",
   "execution_count": 12,
   "id": "5befd926-1c0d-496e-a561-ee40437ba574",
   "metadata": {},
   "outputs": [
    {
     "data": {
      "text/plain": [
       "(100, 7)"
      ]
     },
     "execution_count": 12,
     "metadata": {},
     "output_type": "execute_result"
    }
   ],
   "source": [
    "df_exploration.shape"
   ]
  },
  {
   "cell_type": "code",
   "execution_count": 13,
   "id": "03ba86a8-3e2f-49ca-84ef-e589d925a09d",
   "metadata": {},
   "outputs": [],
   "source": [
    "train_data = df_exploration.iloc[:89].loc[:,['tokenized_guitar', 'tokenized_drums']]\n",
    "test_data = df_exploration.iloc[89:].loc[:,['tokenized_guitar', 'tokenized_drums']]"
   ]
  },
  {
   "cell_type": "code",
   "execution_count": 16,
   "id": "5bdb64f4-1071-419c-b787-b3a0d41016b3",
   "metadata": {},
   "outputs": [],
   "source": [
    "MAX_TOKENS=256\n",
    "def prepare_batch(guitar, drums):\n",
    "    guitar = guitar[:, :MAX_TOKENS]    # Trim to MAX_TOKENS.\n",
    "    guitar = guitar.to_tensor()  # Convert to 0-padded dense Tensor\n",
    "\n",
    "    drums = drums[:, :(MAX_TOKENS+1)]\n",
    "    drums_original = drums[:, :-1].to_tensor()\n",
    "    drums_shifted = drums[:, 1:].to_tensor()\n",
    "\n",
    "    return (guitar, drums_original), drums_shifted"
   ]
  },
  {
   "cell_type": "code",
   "execution_count": 17,
   "id": "ae016df2-28dc-4aaa-a6ea-bc2703445091",
   "metadata": {},
   "outputs": [],
   "source": [
    "BUFFER_SIZE = 2000\n",
    "BATCH_SIZE = 32"
   ]
  },
  {
   "cell_type": "code",
   "execution_count": 18,
   "id": "60ff09e1-9a98-4308-b105-f5c3cdcfa398",
   "metadata": {},
   "outputs": [],
   "source": [
    "def make_batches(ds):\n",
    "  return (\n",
    "      ds\n",
    "      .shuffle(BUFFER_SIZE)\n",
    "      .batch(BATCH_SIZE)\n",
    "      .map(prepare_batch, tf.data.AUTOTUNE)\n",
    "      .prefetch(buffer_size=tf.data.AUTOTUNE))"
   ]
  },
  {
   "cell_type": "code",
   "execution_count": 19,
   "id": "4274be8c-2744-4283-8af4-262d8be22544",
   "metadata": {},
   "outputs": [],
   "source": [
    "ds_train = tf.data.Dataset.from_tensor_slices((train_data['tokenized_guitar'].values, train_data['tokenized_drums'].values))    \n",
    "ds_test = tf.data.Dataset.from_tensor_slices((test_data['tokenized_guitar'].values, test_data['tokenized_drums'].values))    "
   ]
  },
  {
   "cell_type": "code",
   "execution_count": 20,
   "id": "c377ca31-442f-4716-a30a-e72ce7215864",
   "metadata": {},
   "outputs": [],
   "source": [
    "def convert_to_ragged(guitar, drums):\n",
    "    guitar = tf.strings.regex_replace(guitar, \"[\\[\\]']\", \"\")\n",
    "    drums = tf.strings.regex_replace(drums, \"[\\[\\]']\", \"\")\n",
    "\n",
    "    split_guitar = tf.strings.split(guitar, ', ')\n",
    "    split_drums = tf.strings.split(drums, ', ')\n",
    "    \n",
    "    ragged_tensor_guitar = tf.RaggedTensor.from_row_lengths(split_guitar, row_lengths=tf.strings.length(split_guitar))\n",
    "    ragged_tensor_drums = tf.RaggedTensor.from_row_lengths(split_drums, row_lengths=tf.strings.length(split_drums))\n",
    "    return ragged_tensor_guitar, ragged_tensor_drums"
   ]
  },
  {
   "cell_type": "code",
   "execution_count": 21,
   "id": "eb17ea0c-13ed-4bd6-9635-01485e1783a9",
   "metadata": {},
   "outputs": [],
   "source": [
    "ds_train = ds_train.map(convert_to_ragged)\n",
    "ds_test =  ds_test.map(convert_to_ragged)"
   ]
  },
  {
   "cell_type": "code",
   "execution_count": 22,
   "id": "e7e790b2-6f7a-4b7e-bfb4-5241fafbd82e",
   "metadata": {},
   "outputs": [],
   "source": [
    "# Create training and validation set batches.\n",
    "train_batches = make_batches(ds_train)\n",
    "val_batches = make_batches(ds_test)"
   ]
  },
  {
   "cell_type": "code",
   "execution_count": 23,
   "id": "890f9619-10ec-4b14-bda1-ebb2ba77bfd7",
   "metadata": {},
   "outputs": [],
   "source": [
    "dd=train_batches.take(2)"
   ]
  },
  {
   "cell_type": "code",
   "execution_count": 24,
   "id": "d53e17bd-4507-417e-9038-2ab6f0039e5c",
   "metadata": {},
   "outputs": [
    {
     "name": "stderr",
     "output_type": "stream",
     "text": [
      "2024-03-11 18:10:29.564790: W tensorflow/core/framework/local_rendezvous.cc:404] Local rendezvous is aborting with status: INVALID_ARGUMENT: assertion failed: [Arguments to _from_row_partition do not form a valid RaggedTensor] [Condition x == y did not hold element-wise:] [x (RaggedFromRowLengths/strided_slice_1:0) = ] [754] [y (RaggedFromRowLengths/strided_slice:0) = ] [168]\n",
      "\t [[{{node RaggedFromRowLengths/assert_equal_1/Assert/Assert}}]]\n"
     ]
    },
    {
     "ename": "InvalidArgumentError",
     "evalue": "{{function_node __wrapped__IteratorGetNext_output_types_3_device_/job:localhost/replica:0/task:0/device:CPU:0}} assertion failed: [Arguments to _from_row_partition do not form a valid RaggedTensor] [Condition x == y did not hold element-wise:] [x (RaggedFromRowLengths/strided_slice_1:0) = ] [754] [y (RaggedFromRowLengths/strided_slice:0) = ] [168]\n\t [[{{node RaggedFromRowLengths/assert_equal_1/Assert/Assert}}]] [Op:IteratorGetNext] name: ",
     "output_type": "error",
     "traceback": [
      "\u001b[0;31m---------------------------------------------------------------------------\u001b[0m",
      "\u001b[0;31mInvalidArgumentError\u001b[0m                      Traceback (most recent call last)",
      "Cell \u001b[0;32mIn[24], line 1\u001b[0m\n\u001b[0;32m----> 1\u001b[0m \u001b[38;5;28;01mfor\u001b[39;00m (guitar, drums), drums_shifted \u001b[38;5;129;01min\u001b[39;00m dd:\n\u001b[1;32m      2\u001b[0m     \u001b[38;5;28mprint\u001b[39m(guitar)\n",
      "File \u001b[0;32m~/.pyenv/versions/3.10.6/envs/BandIt/lib/python3.10/site-packages/tensorflow/python/data/ops/iterator_ops.py:809\u001b[0m, in \u001b[0;36mOwnedIterator.__next__\u001b[0;34m(self)\u001b[0m\n\u001b[1;32m    807\u001b[0m \u001b[38;5;28;01mdef\u001b[39;00m \u001b[38;5;21m__next__\u001b[39m(\u001b[38;5;28mself\u001b[39m):\n\u001b[1;32m    808\u001b[0m   \u001b[38;5;28;01mtry\u001b[39;00m:\n\u001b[0;32m--> 809\u001b[0m     \u001b[38;5;28;01mreturn\u001b[39;00m \u001b[38;5;28;43mself\u001b[39;49m\u001b[38;5;241;43m.\u001b[39;49m\u001b[43m_next_internal\u001b[49m\u001b[43m(\u001b[49m\u001b[43m)\u001b[49m\n\u001b[1;32m    810\u001b[0m   \u001b[38;5;28;01mexcept\u001b[39;00m errors\u001b[38;5;241m.\u001b[39mOutOfRangeError:\n\u001b[1;32m    811\u001b[0m     \u001b[38;5;28;01mraise\u001b[39;00m \u001b[38;5;167;01mStopIteration\u001b[39;00m\n",
      "File \u001b[0;32m~/.pyenv/versions/3.10.6/envs/BandIt/lib/python3.10/site-packages/tensorflow/python/data/ops/iterator_ops.py:772\u001b[0m, in \u001b[0;36mOwnedIterator._next_internal\u001b[0;34m(self)\u001b[0m\n\u001b[1;32m    769\u001b[0m \u001b[38;5;66;03m# TODO(b/77291417): This runs in sync mode as iterators use an error status\u001b[39;00m\n\u001b[1;32m    770\u001b[0m \u001b[38;5;66;03m# to communicate that there is no more data to iterate over.\u001b[39;00m\n\u001b[1;32m    771\u001b[0m \u001b[38;5;28;01mwith\u001b[39;00m context\u001b[38;5;241m.\u001b[39mexecution_mode(context\u001b[38;5;241m.\u001b[39mSYNC):\n\u001b[0;32m--> 772\u001b[0m   ret \u001b[38;5;241m=\u001b[39m \u001b[43mgen_dataset_ops\u001b[49m\u001b[38;5;241;43m.\u001b[39;49m\u001b[43miterator_get_next\u001b[49m\u001b[43m(\u001b[49m\n\u001b[1;32m    773\u001b[0m \u001b[43m      \u001b[49m\u001b[38;5;28;43mself\u001b[39;49m\u001b[38;5;241;43m.\u001b[39;49m\u001b[43m_iterator_resource\u001b[49m\u001b[43m,\u001b[49m\n\u001b[1;32m    774\u001b[0m \u001b[43m      \u001b[49m\u001b[43moutput_types\u001b[49m\u001b[38;5;241;43m=\u001b[39;49m\u001b[38;5;28;43mself\u001b[39;49m\u001b[38;5;241;43m.\u001b[39;49m\u001b[43m_flat_output_types\u001b[49m\u001b[43m,\u001b[49m\n\u001b[1;32m    775\u001b[0m \u001b[43m      \u001b[49m\u001b[43moutput_shapes\u001b[49m\u001b[38;5;241;43m=\u001b[39;49m\u001b[38;5;28;43mself\u001b[39;49m\u001b[38;5;241;43m.\u001b[39;49m\u001b[43m_flat_output_shapes\u001b[49m\u001b[43m)\u001b[49m\n\u001b[1;32m    777\u001b[0m   \u001b[38;5;28;01mtry\u001b[39;00m:\n\u001b[1;32m    778\u001b[0m     \u001b[38;5;66;03m# Fast path for the case `self._structure` is not a nested structure.\u001b[39;00m\n\u001b[1;32m    779\u001b[0m     \u001b[38;5;28;01mreturn\u001b[39;00m \u001b[38;5;28mself\u001b[39m\u001b[38;5;241m.\u001b[39m_element_spec\u001b[38;5;241m.\u001b[39m_from_compatible_tensor_list(ret)  \u001b[38;5;66;03m# pylint: disable=protected-access\u001b[39;00m\n",
      "File \u001b[0;32m~/.pyenv/versions/3.10.6/envs/BandIt/lib/python3.10/site-packages/tensorflow/python/ops/gen_dataset_ops.py:3086\u001b[0m, in \u001b[0;36miterator_get_next\u001b[0;34m(iterator, output_types, output_shapes, name)\u001b[0m\n\u001b[1;32m   3084\u001b[0m   \u001b[38;5;28;01mreturn\u001b[39;00m _result\n\u001b[1;32m   3085\u001b[0m \u001b[38;5;28;01mexcept\u001b[39;00m _core\u001b[38;5;241m.\u001b[39m_NotOkStatusException \u001b[38;5;28;01mas\u001b[39;00m e:\n\u001b[0;32m-> 3086\u001b[0m   \u001b[43m_ops\u001b[49m\u001b[38;5;241;43m.\u001b[39;49m\u001b[43mraise_from_not_ok_status\u001b[49m\u001b[43m(\u001b[49m\u001b[43me\u001b[49m\u001b[43m,\u001b[49m\u001b[43m \u001b[49m\u001b[43mname\u001b[49m\u001b[43m)\u001b[49m\n\u001b[1;32m   3087\u001b[0m \u001b[38;5;28;01mexcept\u001b[39;00m _core\u001b[38;5;241m.\u001b[39m_FallbackException:\n\u001b[1;32m   3088\u001b[0m   \u001b[38;5;28;01mpass\u001b[39;00m\n",
      "File \u001b[0;32m~/.pyenv/versions/3.10.6/envs/BandIt/lib/python3.10/site-packages/tensorflow/python/framework/ops.py:5983\u001b[0m, in \u001b[0;36mraise_from_not_ok_status\u001b[0;34m(e, name)\u001b[0m\n\u001b[1;32m   5981\u001b[0m \u001b[38;5;28;01mdef\u001b[39;00m \u001b[38;5;21mraise_from_not_ok_status\u001b[39m(e, name) \u001b[38;5;241m-\u001b[39m\u001b[38;5;241m>\u001b[39m NoReturn:\n\u001b[1;32m   5982\u001b[0m   e\u001b[38;5;241m.\u001b[39mmessage \u001b[38;5;241m+\u001b[39m\u001b[38;5;241m=\u001b[39m (\u001b[38;5;124m\"\u001b[39m\u001b[38;5;124m name: \u001b[39m\u001b[38;5;124m\"\u001b[39m \u001b[38;5;241m+\u001b[39m \u001b[38;5;28mstr\u001b[39m(name \u001b[38;5;28;01mif\u001b[39;00m name \u001b[38;5;129;01mis\u001b[39;00m \u001b[38;5;129;01mnot\u001b[39;00m \u001b[38;5;28;01mNone\u001b[39;00m \u001b[38;5;28;01melse\u001b[39;00m \u001b[38;5;124m\"\u001b[39m\u001b[38;5;124m\"\u001b[39m))\n\u001b[0;32m-> 5983\u001b[0m   \u001b[38;5;28;01mraise\u001b[39;00m core\u001b[38;5;241m.\u001b[39m_status_to_exception(e) \u001b[38;5;28;01mfrom\u001b[39;00m \u001b[38;5;28;01mNone\u001b[39;00m\n",
      "\u001b[0;31mInvalidArgumentError\u001b[0m: {{function_node __wrapped__IteratorGetNext_output_types_3_device_/job:localhost/replica:0/task:0/device:CPU:0}} assertion failed: [Arguments to _from_row_partition do not form a valid RaggedTensor] [Condition x == y did not hold element-wise:] [x (RaggedFromRowLengths/strided_slice_1:0) = ] [754] [y (RaggedFromRowLengths/strided_slice:0) = ] [168]\n\t [[{{node RaggedFromRowLengths/assert_equal_1/Assert/Assert}}]] [Op:IteratorGetNext] name: "
     ]
    }
   ],
   "source": [
    "for (guitar, drums), drums_shifted in dd:\n",
    "    print(guitar)"
   ]
  }
 ],
 "metadata": {
  "kernelspec": {
   "display_name": "Python 3 (ipykernel)",
   "language": "python",
   "name": "python3"
  },
  "language_info": {
   "codemirror_mode": {
    "name": "ipython",
    "version": 3
   },
   "file_extension": ".py",
   "mimetype": "text/x-python",
   "name": "python",
   "nbconvert_exporter": "python",
   "pygments_lexer": "ipython3",
   "version": "3.10.6"
  }
 },
 "nbformat": 4,
 "nbformat_minor": 5
}
